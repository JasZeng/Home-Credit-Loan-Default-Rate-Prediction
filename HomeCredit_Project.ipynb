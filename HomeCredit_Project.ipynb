{
 "cells": [
  {
   "cell_type": "code",
   "execution_count": 1,
   "id": "b0c2b7c8",
   "metadata": {},
   "outputs": [],
   "source": [
    "import pandas as pd\n",
    "import numpy as np"
   ]
  },
  {
   "cell_type": "code",
   "execution_count": 2,
   "id": "9c695d9c",
   "metadata": {},
   "outputs": [],
   "source": [
    "client=pd.read_csv(\"/Users/jaszeng/Desktop/Metis/Classification/application_train.csv\")\n",
    "client_bureau=pd.read_csv(\"/Users/jaszeng/Desktop/Metis/Classification/bureau.csv\")"
   ]
  },
  {
   "cell_type": "code",
   "execution_count": 3,
   "id": "0f9a3104",
   "metadata": {},
   "outputs": [
    {
     "data": {
      "text/html": [
       "<div>\n",
       "<style scoped>\n",
       "    .dataframe tbody tr th:only-of-type {\n",
       "        vertical-align: middle;\n",
       "    }\n",
       "\n",
       "    .dataframe tbody tr th {\n",
       "        vertical-align: top;\n",
       "    }\n",
       "\n",
       "    .dataframe thead th {\n",
       "        text-align: right;\n",
       "    }\n",
       "</style>\n",
       "<table border=\"1\" class=\"dataframe\">\n",
       "  <thead>\n",
       "    <tr style=\"text-align: right;\">\n",
       "      <th></th>\n",
       "      <th>AMT_CREDIT_SUM</th>\n",
       "      <th>AMT_CREDIT_SUM_DEBT</th>\n",
       "    </tr>\n",
       "    <tr>\n",
       "      <th>SK_ID_CURR</th>\n",
       "      <th></th>\n",
       "      <th></th>\n",
       "    </tr>\n",
       "  </thead>\n",
       "  <tbody>\n",
       "    <tr>\n",
       "      <th>100001</th>\n",
       "      <td>1453365.000</td>\n",
       "      <td>596686.5</td>\n",
       "    </tr>\n",
       "    <tr>\n",
       "      <th>100002</th>\n",
       "      <td>865055.565</td>\n",
       "      <td>245781.0</td>\n",
       "    </tr>\n",
       "    <tr>\n",
       "      <th>100003</th>\n",
       "      <td>1017400.500</td>\n",
       "      <td>0.0</td>\n",
       "    </tr>\n",
       "    <tr>\n",
       "      <th>100004</th>\n",
       "      <td>189037.800</td>\n",
       "      <td>0.0</td>\n",
       "    </tr>\n",
       "    <tr>\n",
       "      <th>100005</th>\n",
       "      <td>657126.000</td>\n",
       "      <td>568408.5</td>\n",
       "    </tr>\n",
       "  </tbody>\n",
       "</table>\n",
       "</div>"
      ],
      "text/plain": [
       "            AMT_CREDIT_SUM  AMT_CREDIT_SUM_DEBT\n",
       "SK_ID_CURR                                     \n",
       "100001         1453365.000             596686.5\n",
       "100002          865055.565             245781.0\n",
       "100003         1017400.500                  0.0\n",
       "100004          189037.800                  0.0\n",
       "100005          657126.000             568408.5"
      ]
     },
     "execution_count": 3,
     "metadata": {},
     "output_type": "execute_result"
    }
   ],
   "source": [
    "client_bureau=client_bureau[['SK_ID_CURR','AMT_CREDIT_SUM','AMT_CREDIT_SUM_DEBT']].groupby('SK_ID_CURR').agg(['sum'])\n",
    "client_bureau.columns = client_bureau.columns.droplevel(1)\n",
    "client_bureau.head()"
   ]
  },
  {
   "cell_type": "code",
   "execution_count": 4,
   "id": "09f89928",
   "metadata": {},
   "outputs": [],
   "source": [
    "client_df=pd.merge(client,client_bureau,left_on=\"SK_ID_CURR\",right_index=True,how=\"left\")"
   ]
  },
  {
   "cell_type": "code",
   "execution_count": 5,
   "id": "a3a508a9",
   "metadata": {},
   "outputs": [
    {
     "data": {
      "text/plain": [
       "(307511, 124)"
      ]
     },
     "execution_count": 5,
     "metadata": {},
     "output_type": "execute_result"
    }
   ],
   "source": [
    "client_df.shape"
   ]
  },
  {
   "cell_type": "code",
   "execution_count": 6,
   "id": "37837ea9",
   "metadata": {},
   "outputs": [
    {
     "data": {
      "text/html": [
       "<div>\n",
       "<style scoped>\n",
       "    .dataframe tbody tr th:only-of-type {\n",
       "        vertical-align: middle;\n",
       "    }\n",
       "\n",
       "    .dataframe tbody tr th {\n",
       "        vertical-align: top;\n",
       "    }\n",
       "\n",
       "    .dataframe thead th {\n",
       "        text-align: right;\n",
       "    }\n",
       "</style>\n",
       "<table border=\"1\" class=\"dataframe\">\n",
       "  <thead>\n",
       "    <tr style=\"text-align: right;\">\n",
       "      <th></th>\n",
       "      <th>SK_ID_CURR</th>\n",
       "      <th>TARGET</th>\n",
       "      <th>NAME_CONTRACT_TYPE</th>\n",
       "      <th>CODE_GENDER</th>\n",
       "      <th>FLAG_OWN_CAR</th>\n",
       "      <th>FLAG_OWN_REALTY</th>\n",
       "      <th>CNT_CHILDREN</th>\n",
       "      <th>AMT_INCOME_TOTAL</th>\n",
       "      <th>AMT_CREDIT</th>\n",
       "      <th>AMT_ANNUITY</th>\n",
       "      <th>...</th>\n",
       "      <th>FLAG_DOCUMENT_20</th>\n",
       "      <th>FLAG_DOCUMENT_21</th>\n",
       "      <th>AMT_REQ_CREDIT_BUREAU_HOUR</th>\n",
       "      <th>AMT_REQ_CREDIT_BUREAU_DAY</th>\n",
       "      <th>AMT_REQ_CREDIT_BUREAU_WEEK</th>\n",
       "      <th>AMT_REQ_CREDIT_BUREAU_MON</th>\n",
       "      <th>AMT_REQ_CREDIT_BUREAU_QRT</th>\n",
       "      <th>AMT_REQ_CREDIT_BUREAU_YEAR</th>\n",
       "      <th>AMT_CREDIT_SUM</th>\n",
       "      <th>AMT_CREDIT_SUM_DEBT</th>\n",
       "    </tr>\n",
       "  </thead>\n",
       "  <tbody>\n",
       "    <tr>\n",
       "      <th>18592</th>\n",
       "      <td>121686</td>\n",
       "      <td>0</td>\n",
       "      <td>Cash loans</td>\n",
       "      <td>M</td>\n",
       "      <td>Y</td>\n",
       "      <td>Y</td>\n",
       "      <td>0</td>\n",
       "      <td>900000.0</td>\n",
       "      <td>450000.0</td>\n",
       "      <td>53536.5</td>\n",
       "      <td>...</td>\n",
       "      <td>0</td>\n",
       "      <td>0</td>\n",
       "      <td>0.0</td>\n",
       "      <td>0.0</td>\n",
       "      <td>0.0</td>\n",
       "      <td>0.0</td>\n",
       "      <td>0.0</td>\n",
       "      <td>1.0</td>\n",
       "      <td>33309283.50</td>\n",
       "      <td>24894868.5</td>\n",
       "    </tr>\n",
       "    <tr>\n",
       "      <th>199416</th>\n",
       "      <td>331188</td>\n",
       "      <td>0</td>\n",
       "      <td>Cash loans</td>\n",
       "      <td>M</td>\n",
       "      <td>Y</td>\n",
       "      <td>Y</td>\n",
       "      <td>2</td>\n",
       "      <td>112500.0</td>\n",
       "      <td>497520.0</td>\n",
       "      <td>39438.0</td>\n",
       "      <td>...</td>\n",
       "      <td>0</td>\n",
       "      <td>0</td>\n",
       "      <td>0.0</td>\n",
       "      <td>0.0</td>\n",
       "      <td>0.0</td>\n",
       "      <td>0.0</td>\n",
       "      <td>0.0</td>\n",
       "      <td>3.0</td>\n",
       "      <td>900000.00</td>\n",
       "      <td>893979.0</td>\n",
       "    </tr>\n",
       "    <tr>\n",
       "      <th>78425</th>\n",
       "      <td>190919</td>\n",
       "      <td>0</td>\n",
       "      <td>Cash loans</td>\n",
       "      <td>F</td>\n",
       "      <td>Y</td>\n",
       "      <td>Y</td>\n",
       "      <td>2</td>\n",
       "      <td>63000.0</td>\n",
       "      <td>490536.0</td>\n",
       "      <td>23989.5</td>\n",
       "      <td>...</td>\n",
       "      <td>0</td>\n",
       "      <td>0</td>\n",
       "      <td>NaN</td>\n",
       "      <td>NaN</td>\n",
       "      <td>NaN</td>\n",
       "      <td>NaN</td>\n",
       "      <td>NaN</td>\n",
       "      <td>NaN</td>\n",
       "      <td>NaN</td>\n",
       "      <td>NaN</td>\n",
       "    </tr>\n",
       "    <tr>\n",
       "      <th>30892</th>\n",
       "      <td>135861</td>\n",
       "      <td>1</td>\n",
       "      <td>Cash loans</td>\n",
       "      <td>F</td>\n",
       "      <td>N</td>\n",
       "      <td>Y</td>\n",
       "      <td>0</td>\n",
       "      <td>76500.0</td>\n",
       "      <td>163201.5</td>\n",
       "      <td>11736.0</td>\n",
       "      <td>...</td>\n",
       "      <td>0</td>\n",
       "      <td>0</td>\n",
       "      <td>0.0</td>\n",
       "      <td>0.0</td>\n",
       "      <td>0.0</td>\n",
       "      <td>0.0</td>\n",
       "      <td>0.0</td>\n",
       "      <td>0.0</td>\n",
       "      <td>1242000.00</td>\n",
       "      <td>352570.5</td>\n",
       "    </tr>\n",
       "    <tr>\n",
       "      <th>44246</th>\n",
       "      <td>151252</td>\n",
       "      <td>0</td>\n",
       "      <td>Cash loans</td>\n",
       "      <td>M</td>\n",
       "      <td>Y</td>\n",
       "      <td>Y</td>\n",
       "      <td>1</td>\n",
       "      <td>225000.0</td>\n",
       "      <td>103140.0</td>\n",
       "      <td>4018.5</td>\n",
       "      <td>...</td>\n",
       "      <td>0</td>\n",
       "      <td>0</td>\n",
       "      <td>0.0</td>\n",
       "      <td>0.0</td>\n",
       "      <td>0.0</td>\n",
       "      <td>0.0</td>\n",
       "      <td>0.0</td>\n",
       "      <td>1.0</td>\n",
       "      <td>11444402.34</td>\n",
       "      <td>6710463.0</td>\n",
       "    </tr>\n",
       "  </tbody>\n",
       "</table>\n",
       "<p>5 rows × 124 columns</p>\n",
       "</div>"
      ],
      "text/plain": [
       "        SK_ID_CURR  TARGET NAME_CONTRACT_TYPE CODE_GENDER FLAG_OWN_CAR  \\\n",
       "18592       121686       0         Cash loans           M            Y   \n",
       "199416      331188       0         Cash loans           M            Y   \n",
       "78425       190919       0         Cash loans           F            Y   \n",
       "30892       135861       1         Cash loans           F            N   \n",
       "44246       151252       0         Cash loans           M            Y   \n",
       "\n",
       "       FLAG_OWN_REALTY  CNT_CHILDREN  AMT_INCOME_TOTAL  AMT_CREDIT  \\\n",
       "18592                Y             0          900000.0    450000.0   \n",
       "199416               Y             2          112500.0    497520.0   \n",
       "78425                Y             2           63000.0    490536.0   \n",
       "30892                Y             0           76500.0    163201.5   \n",
       "44246                Y             1          225000.0    103140.0   \n",
       "\n",
       "        AMT_ANNUITY  ...  FLAG_DOCUMENT_20 FLAG_DOCUMENT_21  \\\n",
       "18592       53536.5  ...                 0                0   \n",
       "199416      39438.0  ...                 0                0   \n",
       "78425       23989.5  ...                 0                0   \n",
       "30892       11736.0  ...                 0                0   \n",
       "44246        4018.5  ...                 0                0   \n",
       "\n",
       "       AMT_REQ_CREDIT_BUREAU_HOUR AMT_REQ_CREDIT_BUREAU_DAY  \\\n",
       "18592                         0.0                       0.0   \n",
       "199416                        0.0                       0.0   \n",
       "78425                         NaN                       NaN   \n",
       "30892                         0.0                       0.0   \n",
       "44246                         0.0                       0.0   \n",
       "\n",
       "       AMT_REQ_CREDIT_BUREAU_WEEK AMT_REQ_CREDIT_BUREAU_MON  \\\n",
       "18592                         0.0                       0.0   \n",
       "199416                        0.0                       0.0   \n",
       "78425                         NaN                       NaN   \n",
       "30892                         0.0                       0.0   \n",
       "44246                         0.0                       0.0   \n",
       "\n",
       "        AMT_REQ_CREDIT_BUREAU_QRT  AMT_REQ_CREDIT_BUREAU_YEAR  AMT_CREDIT_SUM  \\\n",
       "18592                         0.0                         1.0     33309283.50   \n",
       "199416                        0.0                         3.0       900000.00   \n",
       "78425                         NaN                         NaN             NaN   \n",
       "30892                         0.0                         0.0      1242000.00   \n",
       "44246                         0.0                         1.0     11444402.34   \n",
       "\n",
       "        AMT_CREDIT_SUM_DEBT  \n",
       "18592            24894868.5  \n",
       "199416             893979.0  \n",
       "78425                   NaN  \n",
       "30892              352570.5  \n",
       "44246             6710463.0  \n",
       "\n",
       "[5 rows x 124 columns]"
      ]
     },
     "execution_count": 6,
     "metadata": {},
     "output_type": "execute_result"
    }
   ],
   "source": [
    "client_df.sample(5)"
   ]
  },
  {
   "cell_type": "code",
   "execution_count": 7,
   "id": "6cf24a05",
   "metadata": {},
   "outputs": [
    {
     "data": {
      "text/plain": [
       "Index(['SK_ID_CURR', 'TARGET', 'NAME_CONTRACT_TYPE', 'CODE_GENDER',\n",
       "       'FLAG_OWN_CAR', 'FLAG_OWN_REALTY', 'CNT_CHILDREN', 'AMT_INCOME_TOTAL',\n",
       "       'AMT_CREDIT', 'AMT_ANNUITY',\n",
       "       ...\n",
       "       'FLAG_DOCUMENT_20', 'FLAG_DOCUMENT_21', 'AMT_REQ_CREDIT_BUREAU_HOUR',\n",
       "       'AMT_REQ_CREDIT_BUREAU_DAY', 'AMT_REQ_CREDIT_BUREAU_WEEK',\n",
       "       'AMT_REQ_CREDIT_BUREAU_MON', 'AMT_REQ_CREDIT_BUREAU_QRT',\n",
       "       'AMT_REQ_CREDIT_BUREAU_YEAR', 'AMT_CREDIT_SUM', 'AMT_CREDIT_SUM_DEBT'],\n",
       "      dtype='object', length=124)"
      ]
     },
     "execution_count": 7,
     "metadata": {},
     "output_type": "execute_result"
    }
   ],
   "source": [
    "client_df.columns"
   ]
  },
  {
   "cell_type": "code",
   "execution_count": 8,
   "id": "89d86615",
   "metadata": {},
   "outputs": [
    {
     "data": {
      "text/plain": [
       "(307511, 124)"
      ]
     },
     "execution_count": 8,
     "metadata": {},
     "output_type": "execute_result"
    }
   ],
   "source": [
    "client_df.shape"
   ]
  },
  {
   "cell_type": "code",
   "execution_count": 9,
   "id": "20d46345",
   "metadata": {},
   "outputs": [
    {
     "name": "stdout",
     "output_type": "stream",
     "text": [
      "<class 'pandas.core.frame.DataFrame'>\n",
      "RangeIndex: 307511 entries, 0 to 307510\n",
      "Columns: 124 entries, SK_ID_CURR to AMT_CREDIT_SUM_DEBT\n",
      "dtypes: float64(67), int64(41), object(16)\n",
      "memory usage: 290.9+ MB\n"
     ]
    }
   ],
   "source": [
    "client_df.info()"
   ]
  },
  {
   "cell_type": "markdown",
   "id": "72abb9c2",
   "metadata": {},
   "source": [
    "First, delete columns with too many null values, I have 300,000 data, let's set the threshold to be 50,000 first. If null value of a feature exceeds 50,000, we delete this feature."
   ]
  },
  {
   "cell_type": "code",
   "execution_count": 10,
   "id": "633fe3a7",
   "metadata": {},
   "outputs": [
    {
     "data": {
      "text/plain": [
       "(307511, 73)"
      ]
     },
     "execution_count": 10,
     "metadata": {},
     "output_type": "execute_result"
    }
   ],
   "source": [
    "col_countna=client_df.isna().sum().sort_values(ascending=False)\n",
    "nullcolumns=col_countna[col_countna>50000].index\n",
    "client_df1=client_df.drop(columns=nullcolumns)\n",
    "client_df1.shape"
   ]
  },
  {
   "cell_type": "markdown",
   "id": "5345ed83",
   "metadata": {},
   "source": [
    "Next, We should replace float NA with mean, int NA and object NA with mode"
   ]
  },
  {
   "cell_type": "code",
   "execution_count": 11,
   "id": "0d03fda7",
   "metadata": {},
   "outputs": [],
   "source": [
    "object_columns=[]\n",
    "float_columns=[]\n",
    "int_columns=[]\n",
    "for i in client_df1.columns:\n",
    "    if client_df1[i].dtypes=='object':\n",
    "        object_columns.append(i)\n",
    "    elif client_df1[i].dtypes=='float':\n",
    "        float_columns.append(i)\n",
    "    else:\n",
    "        int_columns.append(i)"
   ]
  },
  {
   "cell_type": "code",
   "execution_count": 13,
   "id": "6dd27106",
   "metadata": {},
   "outputs": [
    {
     "data": {
      "text/plain": [
       "41"
      ]
     },
     "execution_count": 13,
     "metadata": {},
     "output_type": "execute_result"
    }
   ],
   "source": [
    "len(int_columns)"
   ]
  },
  {
   "cell_type": "code",
   "execution_count": 15,
   "id": "16bd3410",
   "metadata": {},
   "outputs": [],
   "source": [
    "client_df1[float_columns]=client_df1[float_columns].fillna(client_df1[float_columns].mean())\n",
    "client_df1[int_columns]=client_df1[int_columns].fillna(client_df1[int_columns].mode())\n",
    "client_df1[object_columns]=client_df1[object_columns].fillna(client_df1[object_columns].mode())"
   ]
  },
  {
   "cell_type": "code",
   "execution_count": 16,
   "id": "ac4a6e65",
   "metadata": {},
   "outputs": [
    {
     "data": {
      "text/plain": [
       "NAME_TYPE_SUITE        1292\n",
       "SK_ID_CURR                0\n",
       "FLAG_DOCUMENT_4           0\n",
       "FLAG_DOCUMENT_10          0\n",
       "FLAG_DOCUMENT_9           0\n",
       "                       ... \n",
       "FLAG_CONT_MOBILE          0\n",
       "FLAG_WORK_PHONE           0\n",
       "FLAG_EMP_PHONE            0\n",
       "FLAG_MOBIL                0\n",
       "AMT_CREDIT_SUM_DEBT       0\n",
       "Length: 73, dtype: int64"
      ]
     },
     "execution_count": 16,
     "metadata": {},
     "output_type": "execute_result"
    }
   ],
   "source": [
    "client_df1.isna().sum().sort_values(ascending=False)"
   ]
  },
  {
   "cell_type": "code",
   "execution_count": 17,
   "id": "16a7a695",
   "metadata": {},
   "outputs": [],
   "source": [
    "client_df1['NAME_TYPE_SUITE']=client_df1['NAME_TYPE_SUITE'].fillna('Unaccompanied')"
   ]
  },
  {
   "cell_type": "markdown",
   "id": "22147285",
   "metadata": {},
   "source": [
    "Then, deal with categorical value"
   ]
  },
  {
   "cell_type": "code",
   "execution_count": 18,
   "id": "c0ae3a0e",
   "metadata": {},
   "outputs": [
    {
     "name": "stdout",
     "output_type": "stream",
     "text": [
      "<class 'pandas.core.frame.DataFrame'>\n",
      "RangeIndex: 307511 entries, 0 to 307510\n",
      "Data columns (total 11 columns):\n",
      " #   Column                      Non-Null Count   Dtype \n",
      "---  ------                      --------------   ----- \n",
      " 0   NAME_CONTRACT_TYPE          307511 non-null  object\n",
      " 1   CODE_GENDER                 307511 non-null  object\n",
      " 2   FLAG_OWN_CAR                307511 non-null  object\n",
      " 3   FLAG_OWN_REALTY             307511 non-null  object\n",
      " 4   NAME_TYPE_SUITE             307511 non-null  object\n",
      " 5   NAME_INCOME_TYPE            307511 non-null  object\n",
      " 6   NAME_EDUCATION_TYPE         307511 non-null  object\n",
      " 7   NAME_FAMILY_STATUS          307511 non-null  object\n",
      " 8   NAME_HOUSING_TYPE           307511 non-null  object\n",
      " 9   WEEKDAY_APPR_PROCESS_START  307511 non-null  object\n",
      " 10  ORGANIZATION_TYPE           307511 non-null  object\n",
      "dtypes: object(11)\n",
      "memory usage: 25.8+ MB\n"
     ]
    }
   ],
   "source": [
    "client_df1.loc[:,object_columns].info()"
   ]
  },
  {
   "cell_type": "code",
   "execution_count": 19,
   "id": "b8088757",
   "metadata": {},
   "outputs": [
    {
     "data": {
      "text/plain": [
       "NAME_CONTRACT_TYPE             2\n",
       "CODE_GENDER                    3\n",
       "FLAG_OWN_CAR                   2\n",
       "FLAG_OWN_REALTY                2\n",
       "NAME_TYPE_SUITE                7\n",
       "NAME_INCOME_TYPE               8\n",
       "NAME_EDUCATION_TYPE            5\n",
       "NAME_FAMILY_STATUS             6\n",
       "NAME_HOUSING_TYPE              6\n",
       "WEEKDAY_APPR_PROCESS_START     7\n",
       "ORGANIZATION_TYPE             58\n",
       "dtype: int64"
      ]
     },
     "execution_count": 19,
     "metadata": {},
     "output_type": "execute_result"
    }
   ],
   "source": [
    "client_df1.loc[:,object_columns].nunique()"
   ]
  },
  {
   "cell_type": "markdown",
   "id": "c95e5567",
   "metadata": {},
   "source": [
    "Here I delete the 'organization type' feature since this feature is too complicated, and it will not add value to model as the time it will consume. Also I delete 'weekday_appr_process_start' as this should not impact the model. Then, for categorical object columns that only have two groups, I change it to 0/1 dummy columns."
   ]
  },
  {
   "cell_type": "code",
   "execution_count": 20,
   "id": "5661a470",
   "metadata": {},
   "outputs": [],
   "source": [
    "client_df1['FLAG_CASH_LOANS']=(client_df1['NAME_CONTRACT_TYPE']=='Cash loans') .astype(int)\n",
    "client_df1['FLAG_OWN_CAR']=(client_df1['FLAG_OWN_CAR']=='Y') .astype(int)\n",
    "client_df1['FLAG_OWN_REALTY']=(client_df1['FLAG_OWN_REALTY']=='Y') .astype(int)"
   ]
  },
  {
   "cell_type": "markdown",
   "id": "1192ee17",
   "metadata": {},
   "source": [
    "Next, change gender into dummies"
   ]
  },
  {
   "cell_type": "code",
   "execution_count": 21,
   "id": "ee3eaded",
   "metadata": {},
   "outputs": [
    {
     "data": {
      "text/plain": [
       "F      202448\n",
       "M      105059\n",
       "XNA         4\n",
       "Name: CODE_GENDER, dtype: int64"
      ]
     },
     "execution_count": 21,
     "metadata": {},
     "output_type": "execute_result"
    }
   ],
   "source": [
    "client_df1['CODE_GENDER'].value_counts()"
   ]
  },
  {
   "cell_type": "code",
   "execution_count": 22,
   "id": "5a32eacd",
   "metadata": {},
   "outputs": [],
   "source": [
    "client_df1=client_df1[client_df1['CODE_GENDER']!='XNA']\n",
    "client_df1['GENDER']=(client_df1['CODE_GENDER']=='F') .astype(int)"
   ]
  },
  {
   "cell_type": "code",
   "execution_count": 23,
   "id": "0625691b",
   "metadata": {},
   "outputs": [],
   "source": [
    "client_df1=client_df1.drop(columns=['CODE_GENDER','NAME_CONTRACT_TYPE','WEEKDAY_APPR_PROCESS_START','ORGANIZATION_TYPE'])"
   ]
  },
  {
   "cell_type": "markdown",
   "id": "a57e2883",
   "metadata": {},
   "source": [
    "Look at NAME_TYPE_SUITE,NAME_INCOME_TYPE,NAME_EDUCATION_TYPE,NAME_FAMILY_STATUS,NAME_HOUSING_TYPE, see if average default rate is largely different by categories"
   ]
  },
  {
   "cell_type": "code",
   "execution_count": 24,
   "id": "05063b19",
   "metadata": {},
   "outputs": [
    {
     "data": {
      "text/plain": [
       "<AxesSubplot:xlabel='NAME_TYPE_SUITE'>"
      ]
     },
     "execution_count": 24,
     "metadata": {},
     "output_type": "execute_result"
    },
    {
     "data": {
      "image/png": "[encoded data removed]",
      "text/plain": [
       "<Figure size 432x288 with 1 Axes>"
      ]
     },
     "metadata": {
      "needs_background": "light"
     },
     "output_type": "display_data"
    }
   ],
   "source": [
    "client_df1.groupby('NAME_TYPE_SUITE')['TARGET'].mean().plot(kind='bar')"
   ]
  },
  {
   "cell_type": "code",
   "execution_count": 25,
   "id": "117ed4c3",
   "metadata": {},
   "outputs": [
    {
     "data": {
      "text/plain": [
       "<AxesSubplot:xlabel='NAME_INCOME_TYPE'>"
      ]
     },
     "execution_count": 25,
     "metadata": {},
     "output_type": "execute_result"
    },
    {
     "data": {
      "image/png": "[encoded data removed]",
      "text/plain": [
       "<Figure size 432x288 with 1 Axes>"
      ]
     },
     "metadata": {
      "needs_background": "light"
     },
     "output_type": "display_data"
    }
   ],
   "source": [
    "client_df1.groupby('NAME_INCOME_TYPE')['TARGET'].mean().plot(kind='bar')"
   ]
  },
  {
   "cell_type": "code",
   "execution_count": 27,
   "id": "93a98150",
   "metadata": {},
   "outputs": [
    {
     "data": {
      "text/plain": [
       "<AxesSubplot:xlabel='NAME_EDUCATION_TYPE'>"
      ]
     },
     "execution_count": 27,
     "metadata": {},
     "output_type": "execute_result"
    },
    {
     "data": {
      "image/png": "[encoded data removed]",
      "text/plain": [
       "<Figure size 432x288 with 1 Axes>"
      ]
     },
     "metadata": {
      "needs_background": "light"
     },
     "output_type": "display_data"
    }
   ],
   "source": [
    "client_df1.groupby('NAME_EDUCATION_TYPE')['TARGET'].mean().plot(kind='bar')"
   ]
  },
  {
   "cell_type": "code",
   "execution_count": 28,
   "id": "7231584c",
   "metadata": {},
   "outputs": [
    {
     "data": {
      "text/plain": [
       "<AxesSubplot:xlabel='NAME_FAMILY_STATUS'>"
      ]
     },
     "execution_count": 28,
     "metadata": {},
     "output_type": "execute_result"
    },
    {
     "data": {
      "image/png": "[encoded data removed]",
      "text/plain": [
       "<Figure size 432x288 with 1 Axes>"
      ]
     },
     "metadata": {
      "needs_background": "light"
     },
     "output_type": "display_data"
    }
   ],
   "source": [
    "client_df1.groupby('NAME_FAMILY_STATUS')['TARGET'].mean().plot(kind='bar')"
   ]
  },
  {
   "cell_type": "code",
   "execution_count": 29,
   "id": "98336c39",
   "metadata": {},
   "outputs": [
    {
     "data": {
      "text/plain": [
       "<AxesSubplot:xlabel='NAME_HOUSING_TYPE'>"
      ]
     },
     "execution_count": 29,
     "metadata": {},
     "output_type": "execute_result"
    },
    {
     "data": {
      "image/png": "[encoded data removed]",
      "text/plain": [
       "<Figure size 432x288 with 1 Axes>"
      ]
     },
     "metadata": {
      "needs_background": "light"
     },
     "output_type": "display_data"
    }
   ],
   "source": [
    "client_df1.groupby('NAME_HOUSING_TYPE')['TARGET'].mean().plot(kind='bar')"
   ]
  },
  {
   "cell_type": "markdown",
   "id": "ed1e5ba2",
   "metadata": {},
   "source": [
    "## Observation: \n",
    "\n",
    "'NAME_TYPE_SUITE' doesn't seem to be an important feature\n",
    "\n",
    "'NAME_INCOME_TYPE' = maternity leave or unemployed, looks to have obvious higher default rate\n",
    "\n",
    "'NAME_EDUCATION_TYPE' default rate raised along group: 'academic degree' -> 'higher education' -> 'incomplete higher' -> 'secondary special' -> 'lower secondary'\n",
    "\n",
    "'NAME_FAMILY_STATUS'='widow' seems to have lower default rate\n",
    "\n",
    "'NAME_HOUSING_TYPE'= 'rented apartment' and 'with parents' seem to have higher default rate"
   ]
  },
  {
   "cell_type": "code",
   "execution_count": 30,
   "id": "95d64499",
   "metadata": {},
   "outputs": [
    {
     "name": "stderr",
     "output_type": "stream",
     "text": [
      "/opt/anaconda3/lib/python3.9/site-packages/pandas/core/indexing.py:1732: SettingWithCopyWarning: \n",
      "A value is trying to be set on a copy of a slice from a DataFrame\n",
      "\n",
      "See the caveats in the documentation: https://pandas.pydata.org/pandas-docs/stable/user_guide/indexing.html#returning-a-view-versus-a-copy\n",
      "  self._setitem_single_block(indexer, value, name)\n"
     ]
    }
   ],
   "source": [
    "client_df1['NAME_INCOME_TYPE'].loc[(client_df1['NAME_INCOME_TYPE']!='Maternity leave')&(client_df1['NAME_INCOME_TYPE']!='Unemployed')] = 'Others income type'\n",
    "client_df1=pd.concat([client_df1,pd.get_dummies(client_df1['NAME_INCOME_TYPE'],drop_first=True)],axis=1)"
   ]
  },
  {
   "cell_type": "code",
   "execution_count": 31,
   "id": "02173a55",
   "metadata": {},
   "outputs": [],
   "source": [
    "client_df1['NAME_EDUCATION_TYPE'].loc[client_df1['NAME_EDUCATION_TYPE']=='Lower secondary'] = 1\n",
    "client_df1['NAME_EDUCATION_TYPE'].loc[client_df1['NAME_EDUCATION_TYPE']=='Secondary / secondary special'] = 2\n",
    "client_df1['NAME_EDUCATION_TYPE'].loc[client_df1['NAME_EDUCATION_TYPE']=='Incomplete higher'] = 3\n",
    "client_df1['NAME_EDUCATION_TYPE'].loc[client_df1['NAME_EDUCATION_TYPE']=='Higher education'] = 4\n",
    "client_df1['NAME_EDUCATION_TYPE'].loc[client_df1['NAME_EDUCATION_TYPE']=='Academic degree'] = 5\n",
    "client_df1['NAME_EDUCATION_TYPE']=client_df1['NAME_EDUCATION_TYPE'].astype('int')"
   ]
  },
  {
   "cell_type": "code",
   "execution_count": 32,
   "id": "37dc2097",
   "metadata": {},
   "outputs": [],
   "source": [
    "client_df1['FLAG_WIDOW']=(client_df1['NAME_FAMILY_STATUS']=='Widow').astype('int')"
   ]
  },
  {
   "cell_type": "code",
   "execution_count": 33,
   "id": "ca4d3eb2",
   "metadata": {},
   "outputs": [],
   "source": [
    "client_df1['NAME_HOUSING_TYPE'].loc[(client_df1['NAME_HOUSING_TYPE']!='Rented apartment')&(client_df1['NAME_HOUSING_TYPE']!='With parents')] = 'Others housing type'\n",
    "client_df1=pd.concat([client_df1,pd.get_dummies(client_df1['NAME_HOUSING_TYPE'],drop_first=True)],axis=1)"
   ]
  },
  {
   "cell_type": "code",
   "execution_count": 34,
   "id": "c57db99d",
   "metadata": {},
   "outputs": [],
   "source": [
    "client_df2=client_df1.drop(columns=['NAME_TYPE_SUITE','NAME_INCOME_TYPE','NAME_FAMILY_STATUS','NAME_HOUSING_TYPE'])"
   ]
  },
  {
   "cell_type": "code",
   "execution_count": 35,
   "id": "26136773",
   "metadata": {},
   "outputs": [],
   "source": [
    "client_df2['Others income type']=client_df2['Others income type'].astype('int')\n",
    "client_df2['Unemployed']=client_df2['Unemployed'].astype('int')\n",
    "client_df2['Rented apartment']=client_df2['Rented apartment'].astype('int')\n",
    "client_df2['With parents']=client_df2['With parents'].astype('int')"
   ]
  },
  {
   "cell_type": "code",
   "execution_count": 36,
   "id": "0c8d9651",
   "metadata": {},
   "outputs": [
    {
     "name": "stdout",
     "output_type": "stream",
     "text": [
      "<class 'pandas.core.frame.DataFrame'>\n",
      "Int64Index: 307507 entries, 0 to 307510\n",
      "Data columns (total 72 columns):\n",
      " #   Column                       Non-Null Count   Dtype  \n",
      "---  ------                       --------------   -----  \n",
      " 0   SK_ID_CURR                   307507 non-null  int64  \n",
      " 1   TARGET                       307507 non-null  int64  \n",
      " 2   FLAG_OWN_CAR                 307507 non-null  int64  \n",
      " 3   FLAG_OWN_REALTY              307507 non-null  int64  \n",
      " 4   CNT_CHILDREN                 307507 non-null  int64  \n",
      " 5   AMT_INCOME_TOTAL             307507 non-null  float64\n",
      " 6   AMT_CREDIT                   307507 non-null  float64\n",
      " 7   AMT_ANNUITY                  307507 non-null  float64\n",
      " 8   AMT_GOODS_PRICE              307507 non-null  float64\n",
      " 9   NAME_EDUCATION_TYPE          307507 non-null  int64  \n",
      " 10  REGION_POPULATION_RELATIVE   307507 non-null  float64\n",
      " 11  DAYS_BIRTH                   307507 non-null  int64  \n",
      " 12  DAYS_EMPLOYED                307507 non-null  int64  \n",
      " 13  DAYS_REGISTRATION            307507 non-null  float64\n",
      " 14  DAYS_ID_PUBLISH              307507 non-null  int64  \n",
      " 15  FLAG_MOBIL                   307507 non-null  int64  \n",
      " 16  FLAG_EMP_PHONE               307507 non-null  int64  \n",
      " 17  FLAG_WORK_PHONE              307507 non-null  int64  \n",
      " 18  FLAG_CONT_MOBILE             307507 non-null  int64  \n",
      " 19  FLAG_PHONE                   307507 non-null  int64  \n",
      " 20  FLAG_EMAIL                   307507 non-null  int64  \n",
      " 21  CNT_FAM_MEMBERS              307507 non-null  float64\n",
      " 22  REGION_RATING_CLIENT         307507 non-null  int64  \n",
      " 23  REGION_RATING_CLIENT_W_CITY  307507 non-null  int64  \n",
      " 24  HOUR_APPR_PROCESS_START      307507 non-null  int64  \n",
      " 25  REG_REGION_NOT_LIVE_REGION   307507 non-null  int64  \n",
      " 26  REG_REGION_NOT_WORK_REGION   307507 non-null  int64  \n",
      " 27  LIVE_REGION_NOT_WORK_REGION  307507 non-null  int64  \n",
      " 28  REG_CITY_NOT_LIVE_CITY       307507 non-null  int64  \n",
      " 29  REG_CITY_NOT_WORK_CITY       307507 non-null  int64  \n",
      " 30  LIVE_CITY_NOT_WORK_CITY      307507 non-null  int64  \n",
      " 31  EXT_SOURCE_2                 307507 non-null  float64\n",
      " 32  OBS_30_CNT_SOCIAL_CIRCLE     307507 non-null  float64\n",
      " 33  DEF_30_CNT_SOCIAL_CIRCLE     307507 non-null  float64\n",
      " 34  OBS_60_CNT_SOCIAL_CIRCLE     307507 non-null  float64\n",
      " 35  DEF_60_CNT_SOCIAL_CIRCLE     307507 non-null  float64\n",
      " 36  DAYS_LAST_PHONE_CHANGE       307507 non-null  float64\n",
      " 37  FLAG_DOCUMENT_2              307507 non-null  int64  \n",
      " 38  FLAG_DOCUMENT_3              307507 non-null  int64  \n",
      " 39  FLAG_DOCUMENT_4              307507 non-null  int64  \n",
      " 40  FLAG_DOCUMENT_5              307507 non-null  int64  \n",
      " 41  FLAG_DOCUMENT_6              307507 non-null  int64  \n",
      " 42  FLAG_DOCUMENT_7              307507 non-null  int64  \n",
      " 43  FLAG_DOCUMENT_8              307507 non-null  int64  \n",
      " 44  FLAG_DOCUMENT_9              307507 non-null  int64  \n",
      " 45  FLAG_DOCUMENT_10             307507 non-null  int64  \n",
      " 46  FLAG_DOCUMENT_11             307507 non-null  int64  \n",
      " 47  FLAG_DOCUMENT_12             307507 non-null  int64  \n",
      " 48  FLAG_DOCUMENT_13             307507 non-null  int64  \n",
      " 49  FLAG_DOCUMENT_14             307507 non-null  int64  \n",
      " 50  FLAG_DOCUMENT_15             307507 non-null  int64  \n",
      " 51  FLAG_DOCUMENT_16             307507 non-null  int64  \n",
      " 52  FLAG_DOCUMENT_17             307507 non-null  int64  \n",
      " 53  FLAG_DOCUMENT_18             307507 non-null  int64  \n",
      " 54  FLAG_DOCUMENT_19             307507 non-null  int64  \n",
      " 55  FLAG_DOCUMENT_20             307507 non-null  int64  \n",
      " 56  FLAG_DOCUMENT_21             307507 non-null  int64  \n",
      " 57  AMT_REQ_CREDIT_BUREAU_HOUR   307507 non-null  float64\n",
      " 58  AMT_REQ_CREDIT_BUREAU_DAY    307507 non-null  float64\n",
      " 59  AMT_REQ_CREDIT_BUREAU_WEEK   307507 non-null  float64\n",
      " 60  AMT_REQ_CREDIT_BUREAU_MON    307507 non-null  float64\n",
      " 61  AMT_REQ_CREDIT_BUREAU_QRT    307507 non-null  float64\n",
      " 62  AMT_REQ_CREDIT_BUREAU_YEAR   307507 non-null  float64\n",
      " 63  AMT_CREDIT_SUM               307507 non-null  float64\n",
      " 64  AMT_CREDIT_SUM_DEBT          307507 non-null  float64\n",
      " 65  FLAG_CASH_LOANS              307507 non-null  int64  \n",
      " 66  GENDER                       307507 non-null  int64  \n",
      " 67  Others income type           307507 non-null  int64  \n",
      " 68  Unemployed                   307507 non-null  int64  \n",
      " 69  FLAG_WIDOW                   307507 non-null  int64  \n",
      " 70  Rented apartment             307507 non-null  int64  \n",
      " 71  With parents                 307507 non-null  int64  \n",
      "dtypes: float64(21), int64(51)\n",
      "memory usage: 171.3 MB\n"
     ]
    }
   ],
   "source": [
    "client_df2.info()"
   ]
  },
  {
   "cell_type": "markdown",
   "id": "1581e222",
   "metadata": {},
   "source": [
    "## change days birth into age"
   ]
  },
  {
   "cell_type": "code",
   "execution_count": 37,
   "id": "48eff163",
   "metadata": {},
   "outputs": [],
   "source": [
    "client_df2['AGE']=client_df2['DAYS_BIRTH']/365\n",
    "client_df2=client_df2.drop(columns=['DAYS_BIRTH'])"
   ]
  },
  {
   "cell_type": "markdown",
   "id": "d21f16a8",
   "metadata": {},
   "source": [
    "## Feature Engineering"
   ]
  },
  {
   "cell_type": "code",
   "execution_count": 40,
   "id": "8510ed3b",
   "metadata": {},
   "outputs": [],
   "source": [
    "import matplotlib.pyplot as plt"
   ]
  },
  {
   "cell_type": "code",
   "execution_count": 41,
   "id": "d7edf6cf",
   "metadata": {},
   "outputs": [
    {
     "data": {
      "text/plain": [
       "(array([ 6.70853217, 17.93039619, 43.46901895, 32.61594859, 40.69428575,\n",
       "        11.08677477, 15.17322459, 56.36869146, 28.92936295, 14.5220944 ,\n",
       "        40.46463403, 15.07190765, 31.72435953,  8.96452265, 22.1627424 ,\n",
       "         0.        ,  0.        ,  0.        ,  0.        , 18.15869702,\n",
       "         0.        ,  0.        ,  0.        ,  0.        ,  0.        ,\n",
       "         0.        ,  0.        ,  0.        ,  0.        , 11.36370773]),\n",
       " array([0.00029   , 0.00269727, 0.00510453, 0.0075118 , 0.00991907,\n",
       "        0.01232633, 0.0147336 , 0.01714087, 0.01954813, 0.0219554 ,\n",
       "        0.02436267, 0.02676993, 0.0291772 , 0.03158447, 0.03399173,\n",
       "        0.036399  , 0.03880627, 0.04121353, 0.0436208 , 0.04602807,\n",
       "        0.04843533, 0.0508426 , 0.05324987, 0.05565713, 0.0580644 ,\n",
       "        0.06047167, 0.06287893, 0.0652862 , 0.06769347, 0.07010073,\n",
       "        0.072508  ]),\n",
       " <BarContainer object of 30 artists>)"
      ]
     },
     "execution_count": 41,
     "metadata": {},
     "output_type": "execute_result"
    },
    {
     "data": {
      "image/png": "[encoded data removed]",
      "text/plain": [
       "<Figure size 432x288 with 1 Axes>"
      ]
     },
     "metadata": {
      "needs_background": "light"
     },
     "output_type": "display_data"
    }
   ],
   "source": [
    "plt.hist(client_df2['REGION_POPULATION_RELATIVE'], density=True, bins=30)"
   ]
  },
  {
   "cell_type": "code",
   "execution_count": 42,
   "id": "7e144772",
   "metadata": {},
   "outputs": [
    {
     "data": {
      "text/plain": [
       "0.072508"
      ]
     },
     "execution_count": 42,
     "metadata": {},
     "output_type": "execute_result"
    }
   ],
   "source": [
    "max(client_df2['REGION_POPULATION_RELATIVE'])"
   ]
  },
  {
   "cell_type": "code",
   "execution_count": 43,
   "id": "b271a87f",
   "metadata": {},
   "outputs": [],
   "source": [
    "client_df2['REGION_POPULATION_RELATIVE'].loc[client_df2['REGION_POPULATION_RELATIVE']>0.05] = 3\n",
    "client_df2['REGION_POPULATION_RELATIVE'].loc[(client_df2['REGION_POPULATION_RELATIVE']<=0.05)&(client_df2['REGION_POPULATION_RELATIVE']>0.025)] = 2\n",
    "client_df2['REGION_POPULATION_RELATIVE'].loc[client_df2['REGION_POPULATION_RELATIVE']<=0.025] = 1"
   ]
  },
  {
   "cell_type": "code",
   "execution_count": 44,
   "id": "6511419b",
   "metadata": {},
   "outputs": [
    {
     "data": {
      "text/plain": [
       "1.0    204420\n",
       "2.0     94675\n",
       "3.0      8412\n",
       "Name: REGION_POPULATION_RELATIVE, dtype: int64"
      ]
     },
     "execution_count": 44,
     "metadata": {},
     "output_type": "execute_result"
    }
   ],
   "source": [
    "client_df2['REGION_POPULATION_RELATIVE'].value_counts()"
   ]
  },
  {
   "cell_type": "code",
   "execution_count": 45,
   "id": "0cdafdd4",
   "metadata": {},
   "outputs": [
    {
     "data": {
      "text/plain": [
       "<AxesSubplot:xlabel='REGION_POPULATION_RELATIVE'>"
      ]
     },
     "execution_count": 45,
     "metadata": {},
     "output_type": "execute_result"
    },
    {
     "data": {
      "image/png": "[encoded data removed]",
      "text/plain": [
       "<Figure size 432x288 with 1 Axes>"
      ]
     },
     "metadata": {
      "needs_background": "light"
     },
     "output_type": "display_data"
    }
   ],
   "source": [
    "client_df2.groupby('REGION_POPULATION_RELATIVE')['TARGET'].mean().plot(kind='bar')"
   ]
  },
  {
   "cell_type": "code",
   "execution_count": 46,
   "id": "88c3928a",
   "metadata": {},
   "outputs": [],
   "source": [
    "client_df2['AMT_CREDIT_SUM'].loc[client_df2['AMT_CREDIT_SUM']==0] = 1\n",
    "client_df2['DEBT_CREDIT_R']=client_df2['AMT_CREDIT_SUM_DEBT']/client_df2['AMT_CREDIT_SUM']\n",
    "client_df2['CREDIT_ANNUITY_R']=client_df2['AMT_CREDIT']/client_df2['AMT_ANNUITY']"
   ]
  },
  {
   "cell_type": "code",
   "execution_count": 47,
   "id": "8521e3a7",
   "metadata": {},
   "outputs": [
    {
     "data": {
      "text/plain": [
       "75108    -3112461.135\n",
       "296055     -25959.645\n",
       "123864      -8090.685\n",
       "48658       -7549.830\n",
       "289760      -7039.530\n",
       "             ...     \n",
       "92248       54587.835\n",
       "240312      79141.500\n",
       "92926      104654.520\n",
       "99268      227419.695\n",
       "274659    2250000.000\n",
       "Name: DEBT_CREDIT_R, Length: 307507, dtype: float64"
      ]
     },
     "execution_count": 47,
     "metadata": {},
     "output_type": "execute_result"
    }
   ],
   "source": [
    "client_df2['DEBT_CREDIT_R'].sort_values()"
   ]
  },
  {
   "cell_type": "code",
   "execution_count": 49,
   "id": "25cf7ede",
   "metadata": {},
   "outputs": [],
   "source": [
    "client_df2.to_csv('/Users/jaszeng/Desktop/Metis/Classification/client_df2.csv',index=False)"
   ]
  },
  {
   "cell_type": "code",
   "execution_count": 1,
   "id": "9abc3ebb",
   "metadata": {},
   "outputs": [
    {
     "data": {
      "text/html": [
       "<div>\n",
       "<style scoped>\n",
       "    .dataframe tbody tr th:only-of-type {\n",
       "        vertical-align: middle;\n",
       "    }\n",
       "\n",
       "    .dataframe tbody tr th {\n",
       "        vertical-align: top;\n",
       "    }\n",
       "\n",
       "    .dataframe thead th {\n",
       "        text-align: right;\n",
       "    }\n",
       "</style>\n",
       "<table border=\"1\" class=\"dataframe\">\n",
       "  <thead>\n",
       "    <tr style=\"text-align: right;\">\n",
       "      <th></th>\n",
       "      <th>SK_ID_CURR</th>\n",
       "      <th>TARGET</th>\n",
       "      <th>FLAG_OWN_CAR</th>\n",
       "      <th>FLAG_OWN_REALTY</th>\n",
       "      <th>CNT_CHILDREN</th>\n",
       "      <th>AMT_INCOME_TOTAL</th>\n",
       "      <th>AMT_CREDIT</th>\n",
       "      <th>AMT_ANNUITY</th>\n",
       "      <th>AMT_GOODS_PRICE</th>\n",
       "      <th>NAME_EDUCATION_TYPE</th>\n",
       "      <th>...</th>\n",
       "      <th>FLAG_CASH_LOANS</th>\n",
       "      <th>GENDER</th>\n",
       "      <th>Others income type</th>\n",
       "      <th>Unemployed</th>\n",
       "      <th>FLAG_WIDOW</th>\n",
       "      <th>Rented apartment</th>\n",
       "      <th>With parents</th>\n",
       "      <th>AGE</th>\n",
       "      <th>DEBT_CREDIT_R</th>\n",
       "      <th>CREDIT_ANNUITY_R</th>\n",
       "    </tr>\n",
       "  </thead>\n",
       "  <tbody>\n",
       "    <tr>\n",
       "      <th>17845</th>\n",
       "      <td>120807</td>\n",
       "      <td>0</td>\n",
       "      <td>0</td>\n",
       "      <td>1</td>\n",
       "      <td>0</td>\n",
       "      <td>45000.0</td>\n",
       "      <td>135000.0</td>\n",
       "      <td>6750.0</td>\n",
       "      <td>135000.0</td>\n",
       "      <td>2</td>\n",
       "      <td>...</td>\n",
       "      <td>0</td>\n",
       "      <td>1</td>\n",
       "      <td>1</td>\n",
       "      <td>0</td>\n",
       "      <td>0</td>\n",
       "      <td>0</td>\n",
       "      <td>0</td>\n",
       "      <td>-37.868493</td>\n",
       "      <td>0.344833</td>\n",
       "      <td>20.000000</td>\n",
       "    </tr>\n",
       "    <tr>\n",
       "      <th>274713</th>\n",
       "      <td>418394</td>\n",
       "      <td>0</td>\n",
       "      <td>0</td>\n",
       "      <td>1</td>\n",
       "      <td>1</td>\n",
       "      <td>112500.0</td>\n",
       "      <td>229230.0</td>\n",
       "      <td>22801.5</td>\n",
       "      <td>202500.0</td>\n",
       "      <td>2</td>\n",
       "      <td>...</td>\n",
       "      <td>1</td>\n",
       "      <td>1</td>\n",
       "      <td>1</td>\n",
       "      <td>0</td>\n",
       "      <td>0</td>\n",
       "      <td>0</td>\n",
       "      <td>0</td>\n",
       "      <td>-41.402740</td>\n",
       "      <td>0.061631</td>\n",
       "      <td>10.053286</td>\n",
       "    </tr>\n",
       "    <tr>\n",
       "      <th>113107</th>\n",
       "      <td>231186</td>\n",
       "      <td>0</td>\n",
       "      <td>0</td>\n",
       "      <td>1</td>\n",
       "      <td>0</td>\n",
       "      <td>38250.0</td>\n",
       "      <td>90000.0</td>\n",
       "      <td>8766.0</td>\n",
       "      <td>90000.0</td>\n",
       "      <td>2</td>\n",
       "      <td>...</td>\n",
       "      <td>1</td>\n",
       "      <td>1</td>\n",
       "      <td>1</td>\n",
       "      <td>0</td>\n",
       "      <td>0</td>\n",
       "      <td>0</td>\n",
       "      <td>0</td>\n",
       "      <td>-44.019178</td>\n",
       "      <td>0.139395</td>\n",
       "      <td>10.266940</td>\n",
       "    </tr>\n",
       "    <tr>\n",
       "      <th>304330</th>\n",
       "      <td>452596</td>\n",
       "      <td>0</td>\n",
       "      <td>0</td>\n",
       "      <td>0</td>\n",
       "      <td>2</td>\n",
       "      <td>270000.0</td>\n",
       "      <td>760225.5</td>\n",
       "      <td>30280.5</td>\n",
       "      <td>679500.0</td>\n",
       "      <td>2</td>\n",
       "      <td>...</td>\n",
       "      <td>1</td>\n",
       "      <td>1</td>\n",
       "      <td>1</td>\n",
       "      <td>0</td>\n",
       "      <td>0</td>\n",
       "      <td>0</td>\n",
       "      <td>0</td>\n",
       "      <td>-33.052055</td>\n",
       "      <td>0.000000</td>\n",
       "      <td>25.106108</td>\n",
       "    </tr>\n",
       "    <tr>\n",
       "      <th>135632</th>\n",
       "      <td>257318</td>\n",
       "      <td>0</td>\n",
       "      <td>1</td>\n",
       "      <td>0</td>\n",
       "      <td>0</td>\n",
       "      <td>180000.0</td>\n",
       "      <td>310500.0</td>\n",
       "      <td>12775.5</td>\n",
       "      <td>310500.0</td>\n",
       "      <td>2</td>\n",
       "      <td>...</td>\n",
       "      <td>1</td>\n",
       "      <td>1</td>\n",
       "      <td>1</td>\n",
       "      <td>0</td>\n",
       "      <td>0</td>\n",
       "      <td>0</td>\n",
       "      <td>0</td>\n",
       "      <td>-43.643836</td>\n",
       "      <td>0.506921</td>\n",
       "      <td>24.304333</td>\n",
       "    </tr>\n",
       "  </tbody>\n",
       "</table>\n",
       "<p>5 rows × 74 columns</p>\n",
       "</div>"
      ],
      "text/plain": [
       "        SK_ID_CURR  TARGET  FLAG_OWN_CAR  FLAG_OWN_REALTY  CNT_CHILDREN  \\\n",
       "17845       120807       0             0                1             0   \n",
       "274713      418394       0             0                1             1   \n",
       "113107      231186       0             0                1             0   \n",
       "304330      452596       0             0                0             2   \n",
       "135632      257318       0             1                0             0   \n",
       "\n",
       "        AMT_INCOME_TOTAL  AMT_CREDIT  AMT_ANNUITY  AMT_GOODS_PRICE  \\\n",
       "17845            45000.0    135000.0       6750.0         135000.0   \n",
       "274713          112500.0    229230.0      22801.5         202500.0   \n",
       "113107           38250.0     90000.0       8766.0          90000.0   \n",
       "304330          270000.0    760225.5      30280.5         679500.0   \n",
       "135632          180000.0    310500.0      12775.5         310500.0   \n",
       "\n",
       "        NAME_EDUCATION_TYPE  ...  FLAG_CASH_LOANS  GENDER  Others income type  \\\n",
       "17845                     2  ...                0       1                   1   \n",
       "274713                    2  ...                1       1                   1   \n",
       "113107                    2  ...                1       1                   1   \n",
       "304330                    2  ...                1       1                   1   \n",
       "135632                    2  ...                1       1                   1   \n",
       "\n",
       "        Unemployed  FLAG_WIDOW  Rented apartment  With parents        AGE  \\\n",
       "17845            0           0                 0             0 -37.868493   \n",
       "274713           0           0                 0             0 -41.402740   \n",
       "113107           0           0                 0             0 -44.019178   \n",
       "304330           0           0                 0             0 -33.052055   \n",
       "135632           0           0                 0             0 -43.643836   \n",
       "\n",
       "        DEBT_CREDIT_R  CREDIT_ANNUITY_R  \n",
       "17845        0.344833         20.000000  \n",
       "274713       0.061631         10.053286  \n",
       "113107       0.139395         10.266940  \n",
       "304330       0.000000         25.106108  \n",
       "135632       0.506921         24.304333  \n",
       "\n",
       "[5 rows x 74 columns]"
      ]
     },
     "execution_count": 1,
     "metadata": {},
     "output_type": "execute_result"
    }
   ],
   "source": [
    "import pandas as pd\n",
    "client_df2=pd.read_csv(\"/Users/jaszeng/Desktop/Metis/Classification/client_df2.csv\")\n",
    "client_df2.sample(5)"
   ]
  },
  {
   "cell_type": "code",
   "execution_count": 2,
   "id": "e77646c8",
   "metadata": {},
   "outputs": [
    {
     "data": {
      "text/plain": [
       "(307507, 74)"
      ]
     },
     "execution_count": 2,
     "metadata": {},
     "output_type": "execute_result"
    }
   ],
   "source": [
    "client_df2.shape"
   ]
  },
  {
   "cell_type": "markdown",
   "id": "f320812b",
   "metadata": {},
   "source": [
    "Split data into train and test data and build a baseline model"
   ]
  },
  {
   "cell_type": "code",
   "execution_count": 3,
   "id": "1ed2fe42",
   "metadata": {},
   "outputs": [],
   "source": [
    "from sklearn.linear_model import LogisticRegression\n",
    "from sklearn.model_selection import train_test_split"
   ]
  },
  {
   "cell_type": "code",
   "execution_count": 4,
   "id": "3a6f724e",
   "metadata": {},
   "outputs": [],
   "source": [
    "X=client_df2.drop(columns=['TARGET'])\n",
    "Y=client_df2['TARGET']"
   ]
  },
  {
   "cell_type": "code",
   "execution_count": 5,
   "id": "59924d04",
   "metadata": {},
   "outputs": [],
   "source": [
    "X_train,X_test,Y_train,Y_test=train_test_split(X,Y,test_size=0.2,random_state=222)"
   ]
  },
  {
   "cell_type": "markdown",
   "id": "fbca6c17",
   "metadata": {},
   "source": [
    "# Do that 500 neighborhood feature engineering here"
   ]
  },
  {
   "cell_type": "code",
   "execution_count": 6,
   "id": "44bfc7fb",
   "metadata": {},
   "outputs": [],
   "source": [
    "X_train_neibs=X_train[[\"EXT_SOURCE_2\",\"CREDIT_ANNUITY_R\"]]\n",
    "X_test_neibs=X_test[[\"EXT_SOURCE_2\",\"CREDIT_ANNUITY_R\"]]"
   ]
  },
  {
   "cell_type": "code",
   "execution_count": 7,
   "id": "b25c8ef8",
   "metadata": {},
   "outputs": [
    {
     "data": {
      "text/html": [
       "<div>\n",
       "<style scoped>\n",
       "    .dataframe tbody tr th:only-of-type {\n",
       "        vertical-align: middle;\n",
       "    }\n",
       "\n",
       "    .dataframe tbody tr th {\n",
       "        vertical-align: top;\n",
       "    }\n",
       "\n",
       "    .dataframe thead th {\n",
       "        text-align: right;\n",
       "    }\n",
       "</style>\n",
       "<table border=\"1\" class=\"dataframe\">\n",
       "  <thead>\n",
       "    <tr style=\"text-align: right;\">\n",
       "      <th></th>\n",
       "      <th>EXT_SOURCE_2</th>\n",
       "      <th>CREDIT_ANNUITY_R</th>\n",
       "    </tr>\n",
       "  </thead>\n",
       "  <tbody>\n",
       "    <tr>\n",
       "      <th>190997</th>\n",
       "      <td>0.689818</td>\n",
       "      <td>34.201101</td>\n",
       "    </tr>\n",
       "    <tr>\n",
       "      <th>155532</th>\n",
       "      <td>0.055359</td>\n",
       "      <td>25.112662</td>\n",
       "    </tr>\n",
       "    <tr>\n",
       "      <th>4028</th>\n",
       "      <td>0.323341</td>\n",
       "      <td>15.359566</td>\n",
       "    </tr>\n",
       "    <tr>\n",
       "      <th>253824</th>\n",
       "      <td>0.404133</td>\n",
       "      <td>9.528620</td>\n",
       "    </tr>\n",
       "    <tr>\n",
       "      <th>22348</th>\n",
       "      <td>0.700030</td>\n",
       "      <td>20.787811</td>\n",
       "    </tr>\n",
       "  </tbody>\n",
       "</table>\n",
       "</div>"
      ],
      "text/plain": [
       "        EXT_SOURCE_2  CREDIT_ANNUITY_R\n",
       "190997      0.689818         34.201101\n",
       "155532      0.055359         25.112662\n",
       "4028        0.323341         15.359566\n",
       "253824      0.404133          9.528620\n",
       "22348       0.700030         20.787811"
      ]
     },
     "execution_count": 7,
     "metadata": {},
     "output_type": "execute_result"
    }
   ],
   "source": [
    "X_train_neibs.head()"
   ]
  },
  {
   "cell_type": "code",
   "execution_count": 8,
   "id": "2ee5ebe6",
   "metadata": {},
   "outputs": [
    {
     "data": {
      "text/plain": [
       "KNeighborsRegressor(n_neighbors=500)"
      ]
     },
     "execution_count": 8,
     "metadata": {},
     "output_type": "execute_result"
    }
   ],
   "source": [
    "from sklearn.neighbors import KNeighborsRegressor\n",
    "neigh = KNeighborsRegressor(n_neighbors=500)\n",
    "neigh.fit(X_train_neibs, Y_train)"
   ]
  },
  {
   "cell_type": "code",
   "execution_count": 9,
   "id": "553ee65d",
   "metadata": {},
   "outputs": [
    {
     "name": "stderr",
     "output_type": "stream",
     "text": [
      "/var/folders/qh/f_xd4_hs7jq5186tyc9v3gdm0000gn/T/ipykernel_8011/2930280484.py:1: SettingWithCopyWarning: \n",
      "A value is trying to be set on a copy of a slice from a DataFrame.\n",
      "Try using .loc[row_indexer,col_indexer] = value instead\n",
      "\n",
      "See the caveats in the documentation: https://pandas.pydata.org/pandas-docs/stable/user_guide/indexing.html#returning-a-view-versus-a-copy\n",
      "  X_train['neighbors_target_mean_500']=neigh.predict(X_train_neibs)\n",
      "/var/folders/qh/f_xd4_hs7jq5186tyc9v3gdm0000gn/T/ipykernel_8011/2930280484.py:2: SettingWithCopyWarning: \n",
      "A value is trying to be set on a copy of a slice from a DataFrame.\n",
      "Try using .loc[row_indexer,col_indexer] = value instead\n",
      "\n",
      "See the caveats in the documentation: https://pandas.pydata.org/pandas-docs/stable/user_guide/indexing.html#returning-a-view-versus-a-copy\n",
      "  X_test['neighbors_target_mean_500']=neigh.predict(X_test_neibs)\n"
     ]
    }
   ],
   "source": [
    "X_train['neighbors_target_mean_500']=neigh.predict(X_train_neibs)\n",
    "X_test['neighbors_target_mean_500']=neigh.predict(X_test_neibs)"
   ]
  },
  {
   "cell_type": "code",
   "execution_count": 10,
   "id": "ca3a5f83",
   "metadata": {},
   "outputs": [],
   "source": [
    "logit=LogisticRegression(max_iter=100000)\n",
    "logit.fit(X_train,Y_train)\n",
    "logit_pred=logit.predict(X_test)"
   ]
  },
  {
   "cell_type": "code",
   "execution_count": 11,
   "id": "6448d153",
   "metadata": {},
   "outputs": [],
   "source": [
    "def accuracy(actuals, preds):\n",
    "    return np.mean(actuals == preds)\n",
    "\n",
    "def precision(actuals, preds):\n",
    "    tp = np.sum((actuals == 1) & (preds == 1))\n",
    "    fp = np.sum((actuals == 0) & (preds == 1))\n",
    "    return tp / (tp + fp)\n",
    "\n",
    "def recall(actuals, preds):\n",
    "    tp = np.sum((actuals == 1) & (preds == 1))\n",
    "    fn = np.sum((actuals == 1) & (preds == 0))\n",
    "    return tp / (tp + fn)\n",
    "\n",
    "def F1(actuals, preds):\n",
    "    p, r = precision(actuals, preds), recall(actuals, preds)\n",
    "    return 2*p*r / (p + r)"
   ]
  },
  {
   "cell_type": "code",
   "execution_count": 12,
   "id": "6115e271",
   "metadata": {
    "scrolled": true
   },
   "outputs": [
    {
     "name": "stdout",
     "output_type": "stream",
     "text": [
      "accuracy:  0.9178888491431173\n",
      "precision:  0.0\n",
      "recall:  0.0\n",
      "F1:  nan\n"
     ]
    },
    {
     "name": "stderr",
     "output_type": "stream",
     "text": [
      "/var/folders/qh/f_xd4_hs7jq5186tyc9v3gdm0000gn/T/ipykernel_8011/3466243424.py:16: RuntimeWarning: invalid value encountered in double_scalars\n",
      "  return 2*p*r / (p + r)\n"
     ]
    }
   ],
   "source": [
    "import numpy as np\n",
    "print(\"accuracy: \",accuracy(Y_test, logit_pred))\n",
    "print(\"precision: \",precision(Y_test, logit_pred))\n",
    "print(\"recall: \",recall(Y_test, logit_pred))\n",
    "print(\"F1: \", F1(Y_test,logit_pred))"
   ]
  },
  {
   "cell_type": "code",
   "execution_count": 13,
   "id": "ec519613",
   "metadata": {},
   "outputs": [
    {
     "data": {
      "text/plain": [
       "array([1, 1])"
      ]
     },
     "execution_count": 13,
     "metadata": {},
     "output_type": "execute_result"
    }
   ],
   "source": [
    "logit_pred[logit_pred==1]"
   ]
  },
  {
   "cell_type": "code",
   "execution_count": 14,
   "id": "c00053b6",
   "metadata": {},
   "outputs": [],
   "source": [
    "from sklearn.ensemble import RandomForestClassifier\n",
    "\n",
    "rforest = RandomForestClassifier(random_state=42)\n",
    "rforest.fit(X_train,Y_train)\n",
    "rforest_pred=rforest.predict(X_test)"
   ]
  },
  {
   "cell_type": "code",
   "execution_count": 74,
   "id": "f9d31028",
   "metadata": {},
   "outputs": [
    {
     "name": "stdout",
     "output_type": "stream",
     "text": [
      "accuracy:  0.9179864069461156\n",
      "precision:  0.54\n",
      "recall:  0.0053486529318541995\n",
      "F1:  0.010592389172224402\n"
     ]
    }
   ],
   "source": [
    "print(\"accuracy: \",accuracy(Y_test, rforest_pred))\n",
    "print(\"precision: \",precision(Y_test, rforest_pred))\n",
    "print(\"recall: \",recall(Y_test, rforest_pred))\n",
    "print(\"F1: \", F1(Y_test,rforest_pred))"
   ]
  },
  {
   "cell_type": "code",
   "execution_count": 75,
   "id": "365051e1",
   "metadata": {},
   "outputs": [
    {
     "data": {
      "text/plain": [
       "array([1, 1, 1, 1, 1, 1, 1, 1, 1, 1, 1, 1, 1, 1, 1, 1, 1, 1, 1, 1, 1, 1,\n",
       "       1, 1, 1, 1, 1, 1, 1, 1, 1, 1, 1, 1, 1, 1, 1, 1, 1, 1, 1, 1, 1, 1,\n",
       "       1, 1, 1, 1, 1, 1])"
      ]
     },
     "execution_count": 75,
     "metadata": {},
     "output_type": "execute_result"
    }
   ],
   "source": [
    "rforest_pred[rforest_pred==1]"
   ]
  },
  {
   "cell_type": "markdown",
   "id": "1f364fc0",
   "metadata": {},
   "source": [
    "Since all model returns prediction of zero, I guess this is the result of destructive imbalance. I would first try to down-sample my train data set. keep 15,000 default clients and 15,000 good clients and retrain the model."
   ]
  },
  {
   "cell_type": "markdown",
   "id": "c783e474",
   "metadata": {},
   "source": [
    "## This is to try oversampling"
   ]
  },
  {
   "cell_type": "code",
   "execution_count": 11,
   "id": "243f0b1b",
   "metadata": {},
   "outputs": [],
   "source": [
    "from imblearn.over_sampling import SMOTE\n",
    "\n",
    "# Oversample using SMOTE\n",
    "sm = SMOTE(random_state=42)\n",
    "X_train_smote, Y_train_smote = sm.fit_resample(X_train, Y_train)"
   ]
  },
  {
   "cell_type": "code",
   "execution_count": 12,
   "id": "ea34cea6",
   "metadata": {},
   "outputs": [
    {
     "data": {
      "text/plain": [
       "SK_ID_CURR                     0\n",
       "AMT_REQ_CREDIT_BUREAU_HOUR     0\n",
       "FLAG_DOCUMENT_20               0\n",
       "FLAG_DOCUMENT_19               0\n",
       "FLAG_DOCUMENT_18               0\n",
       "                              ..\n",
       "REG_REGION_NOT_WORK_REGION     0\n",
       "REG_REGION_NOT_LIVE_REGION     0\n",
       "HOUR_APPR_PROCESS_START        0\n",
       "REGION_RATING_CLIENT_W_CITY    0\n",
       "neighbors_target_mean_500      0\n",
       "Length: 74, dtype: int64"
      ]
     },
     "execution_count": 12,
     "metadata": {},
     "output_type": "execute_result"
    }
   ],
   "source": [
    "X_train.isna().sum().sort_values(ascending=False)"
   ]
  },
  {
   "cell_type": "code",
   "execution_count": 78,
   "id": "9a0eb704",
   "metadata": {},
   "outputs": [],
   "source": [
    "logit=LogisticRegression(max_iter=100000)\n",
    "logit.fit(X_train_smote,Y_train_smote)\n",
    "logit_fit=logit.predict(X_train_smote)\n",
    "logit_pred=logit.predict(X_test)"
   ]
  },
  {
   "cell_type": "code",
   "execution_count": 79,
   "id": "d2fd7cc6",
   "metadata": {},
   "outputs": [
    {
     "name": "stdout",
     "output_type": "stream",
     "text": [
      "accuracy:  0.5951351175571526\n",
      "precision:  0.11380437320052914\n",
      "recall:  0.5794374009508716\n",
      "F1:  0.1902439024390244\n"
     ]
    }
   ],
   "source": [
    "print(\"accuracy: \",accuracy(Y_test, logit_pred))\n",
    "print(\"precision: \",precision(Y_test, logit_pred))\n",
    "print(\"recall: \",recall(Y_test, logit_pred))\n",
    "print(\"F1: \", F1(Y_test,logit_pred))"
   ]
  },
  {
   "cell_type": "code",
   "execution_count": 80,
   "id": "2fe645dd",
   "metadata": {},
   "outputs": [
    {
     "name": "stdout",
     "output_type": "stream",
     "text": [
      "accuracy:  0.5872438424951818\n",
      "precision:  0.5893473123828666\n",
      "recall:  0.5754725321357215\n",
      "F1:  0.5823272873660905\n"
     ]
    }
   ],
   "source": [
    "print(\"accuracy: \",accuracy(Y_train_smote, logit_fit))\n",
    "print(\"precision: \",precision(Y_train_smote, logit_fit))\n",
    "print(\"recall: \",recall(Y_train_smote, logit_fit))\n",
    "print(\"F1: \", F1(Y_train_smote,logit_fit))"
   ]
  },
  {
   "cell_type": "code",
   "execution_count": 81,
   "id": "9483da4d",
   "metadata": {},
   "outputs": [
    {
     "name": "stdout",
     "output_type": "stream",
     "text": [
      "logistic regression confusion matrix - In Sample: \n",
      " \n",
      " [[135514  90714]\n",
      " [ 96040 130188]]\n"
     ]
    }
   ],
   "source": [
    "from sklearn.metrics import confusion_matrix\n",
    "print(\"logistic regression confusion matrix - In Sample: \\n \\n\", confusion_matrix(Y_train_smote,logit_fit))"
   ]
  },
  {
   "cell_type": "code",
   "execution_count": 82,
   "id": "7c26b1e2",
   "metadata": {},
   "outputs": [
    {
     "name": "stdout",
     "output_type": "stream",
     "text": [
      "logistic regression confusion matrix - Out of Sample: \n",
      " \n",
      " [[33677 22777]\n",
      " [ 2123  2925]]\n"
     ]
    }
   ],
   "source": [
    "print(\"logistic regression confusion matrix - Out of Sample: \\n \\n\", confusion_matrix(Y_test,logit_pred))"
   ]
  },
  {
   "cell_type": "markdown",
   "id": "0e22f39d",
   "metadata": {},
   "source": [
    "# Random Forest Baseline model to see feature importance"
   ]
  },
  {
   "cell_type": "code",
   "execution_count": 15,
   "id": "9d231e9c",
   "metadata": {},
   "outputs": [],
   "source": [
    "from sklearn.ensemble import RandomForestClassifier\n",
    "\n",
    "rforest = RandomForestClassifier(random_state=42,class_weight={1:10,0:1})\n",
    "rforest.fit(X_train, Y_train)\n",
    "rforest_pred=rforest.predict(X_test)\n",
    "rforest_fit=rforest.predict(X_train)"
   ]
  },
  {
   "cell_type": "code",
   "execution_count": 16,
   "id": "652f00e3",
   "metadata": {},
   "outputs": [
    {
     "name": "stdout",
     "output_type": "stream",
     "text": [
      "random forest confusion matrix - In Sample: \n",
      " \n",
      " [[226228      0]\n",
      " [     7  19770]]\n"
     ]
    }
   ],
   "source": [
    "from sklearn.metrics import confusion_matrix\n",
    "print(\"random forest confusion matrix - In Sample: \\n \\n\", confusion_matrix(Y_train,rforest_fit))"
   ]
  },
  {
   "cell_type": "code",
   "execution_count": 17,
   "id": "c5964429",
   "metadata": {},
   "outputs": [
    {
     "name": "stdout",
     "output_type": "stream",
     "text": [
      "random forest confusion matrix - Out of Sample: \n",
      " \n",
      " [[56435    19]\n",
      " [ 5027    21]]\n"
     ]
    }
   ],
   "source": [
    "print(\"random forest confusion matrix - Out of Sample: \\n \\n\", confusion_matrix(Y_test,rforest_pred))"
   ]
  },
  {
   "cell_type": "code",
   "execution_count": 18,
   "id": "c3a4c8ec",
   "metadata": {},
   "outputs": [],
   "source": [
    "import numpy as np"
   ]
  },
  {
   "cell_type": "code",
   "execution_count": 19,
   "id": "ea923776",
   "metadata": {},
   "outputs": [
    {
     "name": "stdout",
     "output_type": "stream",
     "text": [
      "accuracy:  0.9179538876784494\n",
      "precision:  0.525\n",
      "recall:  0.004160063391442155\n",
      "F1:  0.008254716981132075\n"
     ]
    }
   ],
   "source": [
    "print(\"accuracy: \",accuracy(Y_test, rforest_pred))\n",
    "print(\"precision: \",precision(Y_test, rforest_pred))\n",
    "print(\"recall: \",recall(Y_test, rforest_pred))\n",
    "print(\"F1: \", F1(Y_test,rforest_pred))"
   ]
  },
  {
   "cell_type": "code",
   "execution_count": 15,
   "id": "65eb5393",
   "metadata": {},
   "outputs": [],
   "source": [
    "importances = rforest.feature_importances_\n",
    "feature_names=X_train.columns\n",
    "forest_importances = pd.Series(importances, index=feature_names)\n",
    "forest_importances=forest_importances.sort_values(ascending=False)"
   ]
  },
  {
   "cell_type": "code",
   "execution_count": 16,
   "id": "ad2e9218",
   "metadata": {},
   "outputs": [
    {
     "data": {
      "text/plain": [
       "neighbors_target_mean_500     0.117703\n",
       "EXT_SOURCE_2                  0.071180\n",
       "AGE                           0.049724\n",
       "DAYS_ID_PUBLISH               0.045665\n",
       "CREDIT_ANNUITY_R              0.044718\n",
       "DAYS_REGISTRATION             0.044511\n",
       "DAYS_EMPLOYED                 0.043748\n",
       "SK_ID_CURR                    0.043118\n",
       "DAYS_LAST_PHONE_CHANGE        0.042788\n",
       "AMT_ANNUITY                   0.040696\n",
       "DEBT_CREDIT_R                 0.039700\n",
       "AMT_CREDIT_SUM                0.038278\n",
       "AMT_CREDIT                    0.037445\n",
       "AMT_CREDIT_SUM_DEBT           0.033573\n",
       "AMT_GOODS_PRICE               0.033040\n",
       "AMT_INCOME_TOTAL              0.032890\n",
       "HOUR_APPR_PROCESS_START       0.028783\n",
       "AMT_REQ_CREDIT_BUREAU_YEAR    0.019641\n",
       "OBS_30_CNT_SOCIAL_CIRCLE      0.015354\n",
       "OBS_60_CNT_SOCIAL_CIRCLE      0.015099\n",
       "dtype: float64"
      ]
     },
     "execution_count": 16,
     "metadata": {},
     "output_type": "execute_result"
    }
   ],
   "source": [
    "forest_importances[0:20]"
   ]
  },
  {
   "cell_type": "code",
   "execution_count": 17,
   "id": "26590a60",
   "metadata": {},
   "outputs": [],
   "source": [
    "ini_features_nms=['neighbors_target_mean_500','REGION_POPULATION_RELATIVE','OBS_30_CNT_SOCIAL_CIRCLE',\n",
    "                  'GENDER','CNT_FAM_MEMBERS','EXT_SOURCE_2', 'AMT_REQ_CREDIT_BUREAU_YEAR',\n",
    "                  'FLAG_OWN_CAR','NAME_EDUCATION_TYPE','DAYS_LAST_PHONE_CHANGE','AGE',\n",
    "                  'DAYS_ID_PUBLISH','FLAG_PHONE','CREDIT_ANNUITY_R',\n",
    "                  'DAYS_REGISTRATION','DEBT_CREDIT_R','AMT_ANNUITY']\n",
    "forest_importances=forest_importances[ini_features_nms]"
   ]
  },
  {
   "cell_type": "code",
   "execution_count": 18,
   "id": "6c88447e",
   "metadata": {},
   "outputs": [],
   "source": [
    "std = np.std([tree.feature_importances_ for tree in rforest.estimators_], axis=0)\n",
    "feature_std = pd.Series(std, index=feature_names)\n",
    "STD=feature_std[forest_importances.index]"
   ]
  },
  {
   "cell_type": "code",
   "execution_count": 19,
   "id": "909a38d6",
   "metadata": {},
   "outputs": [
    {
     "data": {
      "image/png": "[encoded data removed]",
      "text/plain": [
       "<Figure size 432x288 with 1 Axes>"
      ]
     },
     "metadata": {
      "needs_background": "light"
     },
     "output_type": "display_data"
    }
   ],
   "source": [
    "import matplotlib.pyplot as plt\n",
    "fig, ax = plt.subplots()\n",
    "forest_importances.plot.bar(yerr=STD, ax=ax)\n",
    "ax.set_title(\"Feature importances using MDI\")\n",
    "ax.set_ylabel(\"Mean decrease in impurity\")\n",
    "fig.tight_layout()"
   ]
  },
  {
   "cell_type": "code",
   "execution_count": 20,
   "id": "7c9bc424",
   "metadata": {},
   "outputs": [],
   "source": [
    "X_train2=X_train[ini_features_nms]\n",
    "X_test2=X_test[ini_features_nms]"
   ]
  },
  {
   "cell_type": "code",
   "execution_count": 21,
   "id": "5b1140ca",
   "metadata": {},
   "outputs": [],
   "source": [
    "rforest = RandomForestClassifier(random_state=42,class_weight={1:10,0:1})"
   ]
  },
  {
   "cell_type": "code",
   "execution_count": 22,
   "id": "57aa8e99",
   "metadata": {},
   "outputs": [],
   "source": [
    "from sklearn.metrics import roc_auc_score, roc_curve"
   ]
  },
  {
   "cell_type": "code",
   "execution_count": 23,
   "id": "ad9bac19",
   "metadata": {},
   "outputs": [],
   "source": [
    "def model_performance (mdl,X_train,Y_train,X_test,Y_test):\n",
    "    mdl.fit(X_train, Y_train)\n",
    "    mdl_fit=mdl.predict(X_train)\n",
    "    mdl_fitpro=mdl.predict_proba(X_train)\n",
    "    mdl_pred=mdl.predict(X_test)\n",
    "    mdl_predpro=mdl.predict_proba(X_test)\n",
    "    print(\"In Sample confusion matrix: \\n \\n\", confusion_matrix(Y_train,mdl_fit),\"\\n \\n\")\n",
    "    print(\"Out of Sample confusion matrix: \\n \\n\", confusion_matrix(Y_test,mdl_pred),\"\\n \\n\")\n",
    "    print(\"In Sample ROC AUC score: \", roc_auc_score(Y_train,mdl_fitpro[:,1]),\"\\n \\n\")\n",
    "    print(\"Out of Sample ROC AUC score: \", roc_auc_score(Y_test,mdl_predpro[:,1]),\"\\n \\n\")\n",
    "    false_positive_rate1, true_positive_rate1, threshold1 = roc_curve(Y_test, mdl_predpro[:,1])\n",
    "    plt.subplots(1, figsize=(10,10))\n",
    "    plt.title('ROC Curve')\n",
    "    plt.plot(false_positive_rate1, true_positive_rate1)\n",
    "    plt.plot([0, 1], ls=\"--\")\n",
    "    plt.plot([0, 0], [1, 0] , c=\".7\"), plt.plot([1, 1] , c=\".7\")\n",
    "    plt.ylabel('True Positive Rate')\n",
    "    plt.xlabel('False Positive Rate')\n",
    "    plt.show()"
   ]
  },
  {
   "cell_type": "code",
   "execution_count": 24,
   "id": "9a0388c2",
   "metadata": {},
   "outputs": [
    {
     "name": "stdout",
     "output_type": "stream",
     "text": [
      "In Sample confusion matrix: \n",
      " \n",
      " [[226228      0]\n",
      " [     7  19770]] \n",
      " \n",
      "\n",
      "Out of Sample confusion matrix: \n",
      " \n",
      " [[56411    43]\n",
      " [ 5017    31]] \n",
      " \n",
      "\n",
      "In Sample ROC AUC score:  1.0 \n",
      " \n",
      "\n",
      "Out of Sample ROC AUC score:  0.7123786236744815 \n",
      " \n",
      "\n"
     ]
    },
    {
     "data": {
      "image/png": "[encoded data removed]",
      "text/plain": [
       "<Figure size 720x720 with 1 Axes>"
      ]
     },
     "metadata": {
      "needs_background": "light"
     },
     "output_type": "display_data"
    }
   ],
   "source": [
    "model_performance(rforest,X_train2,Y_train,X_test2,Y_test)"
   ]
  },
  {
   "cell_type": "code",
   "execution_count": 29,
   "id": "2e221e69",
   "metadata": {},
   "outputs": [],
   "source": [
    "from xgboost import XGBClassifier\n",
    "xgboost = XGBClassifier(scale_pos_weight=90)"
   ]
  },
  {
   "cell_type": "code",
   "execution_count": 30,
   "id": "3e2a97ae",
   "metadata": {},
   "outputs": [],
   "source": [
    "#from sklearn.ensemble import AdaBoostClassifier,GradientBoostingClassifier\n",
    "#AdaBst=AdaBoostClassifier(random_state=42,class_weight={1:10,0:1})"
   ]
  },
  {
   "cell_type": "code",
   "execution_count": 31,
   "id": "e82f2813",
   "metadata": {},
   "outputs": [
    {
     "name": "stderr",
     "output_type": "stream",
     "text": [
      "/opt/anaconda3/lib/python3.9/site-packages/xgboost/sklearn.py:1224: UserWarning: The use of label encoder in XGBClassifier is deprecated and will be removed in a future release. To remove this warning, do the following: 1) Pass option use_label_encoder=False when constructing XGBClassifier object; and 2) Encode your labels (y) as integers starting with 0, i.e. 0, 1, 2, ..., [num_class - 1].\n",
      "  warnings.warn(label_encoder_deprecation_msg, UserWarning)\n"
     ]
    },
    {
     "name": "stdout",
     "output_type": "stream",
     "text": [
      "[22:43:13] WARNING: /Users/runner/miniforge3/conda-bld/xgboost-split_1645117948562/work/src/learner.cc:1115: Starting in XGBoost 1.3.0, the default evaluation metric used with the objective 'binary:logistic' was changed from 'error' to 'logloss'. Explicitly set eval_metric if you'd like to restore the old behavior.\n",
      "In Sample confusion matrix: \n",
      " \n",
      " [[ 44874 181354]\n",
      " [    12  19765]] \n",
      " \n",
      "\n",
      "Out of Sample confusion matrix: \n",
      " \n",
      " [[10691 45763]\n",
      " [  327  4721]] \n",
      " \n",
      "\n",
      "In Sample ROC AUC score:  0.8210097708622955 \n",
      " \n",
      "\n",
      "Out of Sample ROC AUC score:  0.7046275986474156 \n",
      " \n",
      "\n"
     ]
    },
    {
     "data": {
      "image/png": "[encoded data removed]",
      "text/plain": [
       "<Figure size 720x720 with 1 Axes>"
      ]
     },
     "metadata": {
      "needs_background": "light"
     },
     "output_type": "display_data"
    }
   ],
   "source": [
    "model_performance(xgboost,X_train2,Y_train,X_test2,Y_test)"
   ]
  },
  {
   "cell_type": "code",
   "execution_count": 28,
   "id": "e7dc08db",
   "metadata": {},
   "outputs": [
    {
     "ename": "NameError",
     "evalue": "name 'GradientBoostingClassifier' is not defined",
     "output_type": "error",
     "traceback": [
      "\u001b[0;31m---------------------------------------------------------------------------\u001b[0m",
      "\u001b[0;31mNameError\u001b[0m                                 Traceback (most recent call last)",
      "\u001b[0;32m/var/folders/qh/f_xd4_hs7jq5186tyc9v3gdm0000gn/T/ipykernel_98047/537594748.py\u001b[0m in \u001b[0;36m<module>\u001b[0;34m\u001b[0m\n\u001b[0;32m----> 1\u001b[0;31m \u001b[0mXGBst\u001b[0m\u001b[0;34m=\u001b[0m\u001b[0mGradientBoostingClassifier\u001b[0m\u001b[0;34m(\u001b[0m\u001b[0mrandom_state\u001b[0m\u001b[0;34m=\u001b[0m\u001b[0;36m42\u001b[0m\u001b[0;34m)\u001b[0m\u001b[0;34m\u001b[0m\u001b[0;34m\u001b[0m\u001b[0m\n\u001b[0m\u001b[1;32m      2\u001b[0m \u001b[0mmodel_performance\u001b[0m\u001b[0;34m(\u001b[0m\u001b[0mXGBst\u001b[0m\u001b[0;34m,\u001b[0m\u001b[0mX_train2\u001b[0m\u001b[0;34m,\u001b[0m\u001b[0mY_train\u001b[0m\u001b[0;34m,\u001b[0m\u001b[0mX_test2\u001b[0m\u001b[0;34m,\u001b[0m\u001b[0mY_test\u001b[0m\u001b[0;34m)\u001b[0m\u001b[0;34m\u001b[0m\u001b[0;34m\u001b[0m\u001b[0m\n",
      "\u001b[0;31mNameError\u001b[0m: name 'GradientBoostingClassifier' is not defined"
     ]
    }
   ],
   "source": [
    "X_train2,Y_train,X_test2,Y_test\n",
    "model_performance(XGBst,X_train2,Y_train,X_test2,Y_test)"
   ]
  },
  {
   "cell_type": "markdown",
   "id": "2dfb75c5",
   "metadata": {},
   "source": [
    "setting up cross validation using roc-auc metrics"
   ]
  },
  {
   "cell_type": "code",
   "execution_count": 32,
   "id": "b54fddb6",
   "metadata": {},
   "outputs": [],
   "source": [
    "from sklearn.model_selection import cross_val_score"
   ]
  },
  {
   "cell_type": "code",
   "execution_count": 34,
   "id": "3748fba6",
   "metadata": {},
   "outputs": [],
   "source": [
    "model_dict1={}\n",
    "model_dict1['Logistic Regression']=LogisticRegression(max_iter=100000,class_weight={1:10,0:1})\n",
    "model_dict1['Random Forest']=RandomForestClassifier(random_state=42,class_weight={1:10,0:1})\n",
    "#model_dict1['Ada Boost']=AdaBoostClassifier(random_state=42)\n",
    "model_dict1['Gradient Boost']=XGBClassifier(random_state=42,scale_pos_weight=90)"
   ]
  },
  {
   "cell_type": "code",
   "execution_count": 35,
   "id": "6d7ae6ee",
   "metadata": {},
   "outputs": [
    {
     "name": "stdout",
     "output_type": "stream",
     "text": [
      "{'Logistic Regression': LogisticRegression(class_weight={0: 1, 1: 10}, max_iter=100000), 'Random Forest': RandomForestClassifier(class_weight={0: 1, 1: 10}, random_state=42), 'Gradient Boost': XGBClassifier(base_score=None, booster=None, colsample_bylevel=None,\n",
      "              colsample_bynode=None, colsample_bytree=None,\n",
      "              enable_categorical=False, gamma=None, gpu_id=None,\n",
      "              importance_type=None, interaction_constraints=None,\n",
      "              learning_rate=None, max_delta_step=None, max_depth=None,\n",
      "              min_child_weight=None, missing=nan, monotone_constraints=None,\n",
      "              n_estimators=100, n_jobs=None, num_parallel_tree=None,\n",
      "              predictor=None, random_state=42, reg_alpha=None, reg_lambda=None,\n",
      "              scale_pos_weight=90, subsample=None, tree_method=None,\n",
      "              validate_parameters=None, verbosity=None)}\n"
     ]
    }
   ],
   "source": [
    "print(model_dict1)"
   ]
  },
  {
   "cell_type": "code",
   "execution_count": 36,
   "id": "40970800",
   "metadata": {},
   "outputs": [],
   "source": [
    "def compare_models(model_dict,X,Y):\n",
    "    for i in model_dict.keys():\n",
    "        mean_score= cross_val_score(model_dict[i], X, Y, scoring=\"roc_auc\",cv=3).mean()\n",
    "        print(\"score of\",i,\": \",mean_score)"
   ]
  },
  {
   "cell_type": "code",
   "execution_count": 38,
   "id": "26d1bc5e",
   "metadata": {},
   "outputs": [
    {
     "name": "stdout",
     "output_type": "stream",
     "text": [
      "score of Logistic Regression :  0.580868486216966\n",
      "score of Random Forest :  0.7163941737741094\n",
      "[22:47:38] WARNING: /Users/runner/miniforge3/conda-bld/xgboost-split_1645117948562/work/src/learner.cc:1115: Starting in XGBoost 1.3.0, the default evaluation metric used with the objective 'binary:logistic' was changed from 'error' to 'logloss'. Explicitly set eval_metric if you'd like to restore the old behavior.\n"
     ]
    },
    {
     "name": "stderr",
     "output_type": "stream",
     "text": [
      "/opt/anaconda3/lib/python3.9/site-packages/xgboost/sklearn.py:1224: UserWarning: The use of label encoder in XGBClassifier is deprecated and will be removed in a future release. To remove this warning, do the following: 1) Pass option use_label_encoder=False when constructing XGBClassifier object; and 2) Encode your labels (y) as integers starting with 0, i.e. 0, 1, 2, ..., [num_class - 1].\n",
      "  warnings.warn(label_encoder_deprecation_msg, UserWarning)\n",
      "/opt/anaconda3/lib/python3.9/site-packages/xgboost/sklearn.py:1224: UserWarning: The use of label encoder in XGBClassifier is deprecated and will be removed in a future release. To remove this warning, do the following: 1) Pass option use_label_encoder=False when constructing XGBClassifier object; and 2) Encode your labels (y) as integers starting with 0, i.e. 0, 1, 2, ..., [num_class - 1].\n",
      "  warnings.warn(label_encoder_deprecation_msg, UserWarning)\n"
     ]
    },
    {
     "name": "stdout",
     "output_type": "stream",
     "text": [
      "[22:47:45] WARNING: /Users/runner/miniforge3/conda-bld/xgboost-split_1645117948562/work/src/learner.cc:1115: Starting in XGBoost 1.3.0, the default evaluation metric used with the objective 'binary:logistic' was changed from 'error' to 'logloss'. Explicitly set eval_metric if you'd like to restore the old behavior.\n"
     ]
    },
    {
     "name": "stderr",
     "output_type": "stream",
     "text": [
      "/opt/anaconda3/lib/python3.9/site-packages/xgboost/sklearn.py:1224: UserWarning: The use of label encoder in XGBClassifier is deprecated and will be removed in a future release. To remove this warning, do the following: 1) Pass option use_label_encoder=False when constructing XGBClassifier object; and 2) Encode your labels (y) as integers starting with 0, i.e. 0, 1, 2, ..., [num_class - 1].\n",
      "  warnings.warn(label_encoder_deprecation_msg, UserWarning)\n"
     ]
    },
    {
     "name": "stdout",
     "output_type": "stream",
     "text": [
      "[22:47:51] WARNING: /Users/runner/miniforge3/conda-bld/xgboost-split_1645117948562/work/src/learner.cc:1115: Starting in XGBoost 1.3.0, the default evaluation metric used with the objective 'binary:logistic' was changed from 'error' to 'logloss'. Explicitly set eval_metric if you'd like to restore the old behavior.\n",
      "score of Gradient Boost :  0.7063574142147399\n"
     ]
    }
   ],
   "source": [
    "compare_models(model_dict1,X_train2,Y_train)"
   ]
  },
  {
   "cell_type": "code",
   "execution_count": 39,
   "id": "5ba7b440",
   "metadata": {},
   "outputs": [],
   "source": [
    "from sklearn.model_selection import KFold"
   ]
  },
  {
   "cell_type": "code",
   "execution_count": 75,
   "id": "c5738892",
   "metadata": {},
   "outputs": [],
   "source": [
    "def compare_models_withfeatureeng(model_dict,X,Y):\n",
    "    for i in model_dict.keys():\n",
    "        mdl=model_dict[i]\n",
    "        score=[]\n",
    "        kf = KFold(n_splits=3)\n",
    "        for train_index, test_index in kf.split(X):\n",
    "            X_train, X_test = X.iloc[train_index], X.iloc[test_index]\n",
    "            y_train, y_test = Y.iloc[train_index], Y.iloc[test_index]\n",
    "            X_train_neibs=X_train[[\"EXT_SOURCE_2\",\"CREDIT_ANNUITY_R\"]]\n",
    "            X_test_neibs=X_test[[\"EXT_SOURCE_2\",\"CREDIT_ANNUITY_R\"]]\n",
    "            neigh = KNeighborsRegressor(n_neighbors=500)\n",
    "            neigh.fit(X_train_neibs, y_train)\n",
    "            X_train['neighbors_target_mean_500']=neigh.predict(X_train_neibs)\n",
    "            X_test['neighbors_target_mean_500']=neigh.predict(X_test_neibs)\n",
    "            mdl.fit(X_train, y_train)\n",
    "            mdl_predpro=mdl.predict_proba(X_test)\n",
    "            score.append(roc_auc_score(y_test,mdl_predpro[:,1]))\n",
    "        mean_score= np.asarray(score).mean()\n",
    "        print(\"score of\",i,\": \",mean_score)"
   ]
  },
  {
   "cell_type": "code",
   "execution_count": 76,
   "id": "f932c549",
   "metadata": {},
   "outputs": [
    {
     "name": "stderr",
     "output_type": "stream",
     "text": [
      "/var/folders/qh/f_xd4_hs7jq5186tyc9v3gdm0000gn/T/ipykernel_98047/2309985315.py:13: SettingWithCopyWarning: \n",
      "A value is trying to be set on a copy of a slice from a DataFrame.\n",
      "Try using .loc[row_indexer,col_indexer] = value instead\n",
      "\n",
      "See the caveats in the documentation: https://pandas.pydata.org/pandas-docs/stable/user_guide/indexing.html#returning-a-view-versus-a-copy\n",
      "  X_train['neighbors_target_mean_500']=neigh.predict(X_train_neibs)\n",
      "/var/folders/qh/f_xd4_hs7jq5186tyc9v3gdm0000gn/T/ipykernel_98047/2309985315.py:14: SettingWithCopyWarning: \n",
      "A value is trying to be set on a copy of a slice from a DataFrame.\n",
      "Try using .loc[row_indexer,col_indexer] = value instead\n",
      "\n",
      "See the caveats in the documentation: https://pandas.pydata.org/pandas-docs/stable/user_guide/indexing.html#returning-a-view-versus-a-copy\n",
      "  X_test['neighbors_target_mean_500']=neigh.predict(X_test_neibs)\n",
      "/var/folders/qh/f_xd4_hs7jq5186tyc9v3gdm0000gn/T/ipykernel_98047/2309985315.py:13: SettingWithCopyWarning: \n",
      "A value is trying to be set on a copy of a slice from a DataFrame.\n",
      "Try using .loc[row_indexer,col_indexer] = value instead\n",
      "\n",
      "See the caveats in the documentation: https://pandas.pydata.org/pandas-docs/stable/user_guide/indexing.html#returning-a-view-versus-a-copy\n",
      "  X_train['neighbors_target_mean_500']=neigh.predict(X_train_neibs)\n",
      "/var/folders/qh/f_xd4_hs7jq5186tyc9v3gdm0000gn/T/ipykernel_98047/2309985315.py:14: SettingWithCopyWarning: \n",
      "A value is trying to be set on a copy of a slice from a DataFrame.\n",
      "Try using .loc[row_indexer,col_indexer] = value instead\n",
      "\n",
      "See the caveats in the documentation: https://pandas.pydata.org/pandas-docs/stable/user_guide/indexing.html#returning-a-view-versus-a-copy\n",
      "  X_test['neighbors_target_mean_500']=neigh.predict(X_test_neibs)\n",
      "/var/folders/qh/f_xd4_hs7jq5186tyc9v3gdm0000gn/T/ipykernel_98047/2309985315.py:13: SettingWithCopyWarning: \n",
      "A value is trying to be set on a copy of a slice from a DataFrame.\n",
      "Try using .loc[row_indexer,col_indexer] = value instead\n",
      "\n",
      "See the caveats in the documentation: https://pandas.pydata.org/pandas-docs/stable/user_guide/indexing.html#returning-a-view-versus-a-copy\n",
      "  X_train['neighbors_target_mean_500']=neigh.predict(X_train_neibs)\n",
      "/var/folders/qh/f_xd4_hs7jq5186tyc9v3gdm0000gn/T/ipykernel_98047/2309985315.py:14: SettingWithCopyWarning: \n",
      "A value is trying to be set on a copy of a slice from a DataFrame.\n",
      "Try using .loc[row_indexer,col_indexer] = value instead\n",
      "\n",
      "See the caveats in the documentation: https://pandas.pydata.org/pandas-docs/stable/user_guide/indexing.html#returning-a-view-versus-a-copy\n",
      "  X_test['neighbors_target_mean_500']=neigh.predict(X_test_neibs)\n"
     ]
    },
    {
     "name": "stdout",
     "output_type": "stream",
     "text": [
      "score of Logistic Regression :  0.5867726535483478\n"
     ]
    },
    {
     "name": "stderr",
     "output_type": "stream",
     "text": [
      "/var/folders/qh/f_xd4_hs7jq5186tyc9v3gdm0000gn/T/ipykernel_98047/2309985315.py:13: SettingWithCopyWarning: \n",
      "A value is trying to be set on a copy of a slice from a DataFrame.\n",
      "Try using .loc[row_indexer,col_indexer] = value instead\n",
      "\n",
      "See the caveats in the documentation: https://pandas.pydata.org/pandas-docs/stable/user_guide/indexing.html#returning-a-view-versus-a-copy\n",
      "  X_train['neighbors_target_mean_500']=neigh.predict(X_train_neibs)\n",
      "/var/folders/qh/f_xd4_hs7jq5186tyc9v3gdm0000gn/T/ipykernel_98047/2309985315.py:14: SettingWithCopyWarning: \n",
      "A value is trying to be set on a copy of a slice from a DataFrame.\n",
      "Try using .loc[row_indexer,col_indexer] = value instead\n",
      "\n",
      "See the caveats in the documentation: https://pandas.pydata.org/pandas-docs/stable/user_guide/indexing.html#returning-a-view-versus-a-copy\n",
      "  X_test['neighbors_target_mean_500']=neigh.predict(X_test_neibs)\n",
      "/var/folders/qh/f_xd4_hs7jq5186tyc9v3gdm0000gn/T/ipykernel_98047/2309985315.py:13: SettingWithCopyWarning: \n",
      "A value is trying to be set on a copy of a slice from a DataFrame.\n",
      "Try using .loc[row_indexer,col_indexer] = value instead\n",
      "\n",
      "See the caveats in the documentation: https://pandas.pydata.org/pandas-docs/stable/user_guide/indexing.html#returning-a-view-versus-a-copy\n",
      "  X_train['neighbors_target_mean_500']=neigh.predict(X_train_neibs)\n",
      "/var/folders/qh/f_xd4_hs7jq5186tyc9v3gdm0000gn/T/ipykernel_98047/2309985315.py:14: SettingWithCopyWarning: \n",
      "A value is trying to be set on a copy of a slice from a DataFrame.\n",
      "Try using .loc[row_indexer,col_indexer] = value instead\n",
      "\n",
      "See the caveats in the documentation: https://pandas.pydata.org/pandas-docs/stable/user_guide/indexing.html#returning-a-view-versus-a-copy\n",
      "  X_test['neighbors_target_mean_500']=neigh.predict(X_test_neibs)\n",
      "/var/folders/qh/f_xd4_hs7jq5186tyc9v3gdm0000gn/T/ipykernel_98047/2309985315.py:13: SettingWithCopyWarning: \n",
      "A value is trying to be set on a copy of a slice from a DataFrame.\n",
      "Try using .loc[row_indexer,col_indexer] = value instead\n",
      "\n",
      "See the caveats in the documentation: https://pandas.pydata.org/pandas-docs/stable/user_guide/indexing.html#returning-a-view-versus-a-copy\n",
      "  X_train['neighbors_target_mean_500']=neigh.predict(X_train_neibs)\n",
      "/var/folders/qh/f_xd4_hs7jq5186tyc9v3gdm0000gn/T/ipykernel_98047/2309985315.py:14: SettingWithCopyWarning: \n",
      "A value is trying to be set on a copy of a slice from a DataFrame.\n",
      "Try using .loc[row_indexer,col_indexer] = value instead\n",
      "\n",
      "See the caveats in the documentation: https://pandas.pydata.org/pandas-docs/stable/user_guide/indexing.html#returning-a-view-versus-a-copy\n",
      "  X_test['neighbors_target_mean_500']=neigh.predict(X_test_neibs)\n"
     ]
    },
    {
     "name": "stdout",
     "output_type": "stream",
     "text": [
      "score of Random Forest :  0.7130903794787519\n"
     ]
    },
    {
     "name": "stderr",
     "output_type": "stream",
     "text": [
      "/var/folders/qh/f_xd4_hs7jq5186tyc9v3gdm0000gn/T/ipykernel_98047/2309985315.py:13: SettingWithCopyWarning: \n",
      "A value is trying to be set on a copy of a slice from a DataFrame.\n",
      "Try using .loc[row_indexer,col_indexer] = value instead\n",
      "\n",
      "See the caveats in the documentation: https://pandas.pydata.org/pandas-docs/stable/user_guide/indexing.html#returning-a-view-versus-a-copy\n",
      "  X_train['neighbors_target_mean_500']=neigh.predict(X_train_neibs)\n",
      "/var/folders/qh/f_xd4_hs7jq5186tyc9v3gdm0000gn/T/ipykernel_98047/2309985315.py:14: SettingWithCopyWarning: \n",
      "A value is trying to be set on a copy of a slice from a DataFrame.\n",
      "Try using .loc[row_indexer,col_indexer] = value instead\n",
      "\n",
      "See the caveats in the documentation: https://pandas.pydata.org/pandas-docs/stable/user_guide/indexing.html#returning-a-view-versus-a-copy\n",
      "  X_test['neighbors_target_mean_500']=neigh.predict(X_test_neibs)\n",
      "/opt/anaconda3/lib/python3.9/site-packages/xgboost/sklearn.py:1224: UserWarning: The use of label encoder in XGBClassifier is deprecated and will be removed in a future release. To remove this warning, do the following: 1) Pass option use_label_encoder=False when constructing XGBClassifier object; and 2) Encode your labels (y) as integers starting with 0, i.e. 0, 1, 2, ..., [num_class - 1].\n",
      "  warnings.warn(label_encoder_deprecation_msg, UserWarning)\n"
     ]
    },
    {
     "name": "stdout",
     "output_type": "stream",
     "text": [
      "[00:05:41] WARNING: /Users/runner/miniforge3/conda-bld/xgboost-split_1645117948562/work/src/learner.cc:1115: Starting in XGBoost 1.3.0, the default evaluation metric used with the objective 'binary:logistic' was changed from 'error' to 'logloss'. Explicitly set eval_metric if you'd like to restore the old behavior.\n"
     ]
    },
    {
     "name": "stderr",
     "output_type": "stream",
     "text": [
      "/var/folders/qh/f_xd4_hs7jq5186tyc9v3gdm0000gn/T/ipykernel_98047/2309985315.py:13: SettingWithCopyWarning: \n",
      "A value is trying to be set on a copy of a slice from a DataFrame.\n",
      "Try using .loc[row_indexer,col_indexer] = value instead\n",
      "\n",
      "See the caveats in the documentation: https://pandas.pydata.org/pandas-docs/stable/user_guide/indexing.html#returning-a-view-versus-a-copy\n",
      "  X_train['neighbors_target_mean_500']=neigh.predict(X_train_neibs)\n",
      "/var/folders/qh/f_xd4_hs7jq5186tyc9v3gdm0000gn/T/ipykernel_98047/2309985315.py:14: SettingWithCopyWarning: \n",
      "A value is trying to be set on a copy of a slice from a DataFrame.\n",
      "Try using .loc[row_indexer,col_indexer] = value instead\n",
      "\n",
      "See the caveats in the documentation: https://pandas.pydata.org/pandas-docs/stable/user_guide/indexing.html#returning-a-view-versus-a-copy\n",
      "  X_test['neighbors_target_mean_500']=neigh.predict(X_test_neibs)\n",
      "/opt/anaconda3/lib/python3.9/site-packages/xgboost/sklearn.py:1224: UserWarning: The use of label encoder in XGBClassifier is deprecated and will be removed in a future release. To remove this warning, do the following: 1) Pass option use_label_encoder=False when constructing XGBClassifier object; and 2) Encode your labels (y) as integers starting with 0, i.e. 0, 1, 2, ..., [num_class - 1].\n",
      "  warnings.warn(label_encoder_deprecation_msg, UserWarning)\n"
     ]
    },
    {
     "name": "stdout",
     "output_type": "stream",
     "text": [
      "[00:06:06] WARNING: /Users/runner/miniforge3/conda-bld/xgboost-split_1645117948562/work/src/learner.cc:1115: Starting in XGBoost 1.3.0, the default evaluation metric used with the objective 'binary:logistic' was changed from 'error' to 'logloss'. Explicitly set eval_metric if you'd like to restore the old behavior.\n"
     ]
    },
    {
     "name": "stderr",
     "output_type": "stream",
     "text": [
      "/var/folders/qh/f_xd4_hs7jq5186tyc9v3gdm0000gn/T/ipykernel_98047/2309985315.py:13: SettingWithCopyWarning: \n",
      "A value is trying to be set on a copy of a slice from a DataFrame.\n",
      "Try using .loc[row_indexer,col_indexer] = value instead\n",
      "\n",
      "See the caveats in the documentation: https://pandas.pydata.org/pandas-docs/stable/user_guide/indexing.html#returning-a-view-versus-a-copy\n",
      "  X_train['neighbors_target_mean_500']=neigh.predict(X_train_neibs)\n",
      "/var/folders/qh/f_xd4_hs7jq5186tyc9v3gdm0000gn/T/ipykernel_98047/2309985315.py:14: SettingWithCopyWarning: \n",
      "A value is trying to be set on a copy of a slice from a DataFrame.\n",
      "Try using .loc[row_indexer,col_indexer] = value instead\n",
      "\n",
      "See the caveats in the documentation: https://pandas.pydata.org/pandas-docs/stable/user_guide/indexing.html#returning-a-view-versus-a-copy\n",
      "  X_test['neighbors_target_mean_500']=neigh.predict(X_test_neibs)\n",
      "/opt/anaconda3/lib/python3.9/site-packages/xgboost/sklearn.py:1224: UserWarning: The use of label encoder in XGBClassifier is deprecated and will be removed in a future release. To remove this warning, do the following: 1) Pass option use_label_encoder=False when constructing XGBClassifier object; and 2) Encode your labels (y) as integers starting with 0, i.e. 0, 1, 2, ..., [num_class - 1].\n",
      "  warnings.warn(label_encoder_deprecation_msg, UserWarning)\n"
     ]
    },
    {
     "name": "stdout",
     "output_type": "stream",
     "text": [
      "[00:06:30] WARNING: /Users/runner/miniforge3/conda-bld/xgboost-split_1645117948562/work/src/learner.cc:1115: Starting in XGBoost 1.3.0, the default evaluation metric used with the objective 'binary:logistic' was changed from 'error' to 'logloss'. Explicitly set eval_metric if you'd like to restore the old behavior.\n",
      "score of Gradient Boost :  0.699086252544794\n"
     ]
    }
   ],
   "source": [
    "compare_models_withfeatureeng(model_dict1,X_train2,Y_train)"
   ]
  },
  {
   "cell_type": "code",
   "execution_count": 77,
   "id": "5804f2bf",
   "metadata": {},
   "outputs": [],
   "source": [
    "ini_8features_nms=['neighbors_target_mean_500','REGION_POPULATION_RELATIVE','OBS_30_CNT_SOCIAL_CIRCLE',\n",
    "                  'GENDER','CNT_FAM_MEMBERS','EXT_SOURCE_2', 'AMT_REQ_CREDIT_BUREAU_YEAR','CREDIT_ANNUITY_R']"
   ]
  },
  {
   "cell_type": "code",
   "execution_count": 78,
   "id": "a0595063",
   "metadata": {},
   "outputs": [],
   "source": [
    "X_train3=X_train[ini_8features_nms]"
   ]
  },
  {
   "cell_type": "code",
   "execution_count": 79,
   "id": "360cafc0",
   "metadata": {},
   "outputs": [
    {
     "name": "stderr",
     "output_type": "stream",
     "text": [
      "/var/folders/qh/f_xd4_hs7jq5186tyc9v3gdm0000gn/T/ipykernel_98047/2309985315.py:13: SettingWithCopyWarning: \n",
      "A value is trying to be set on a copy of a slice from a DataFrame.\n",
      "Try using .loc[row_indexer,col_indexer] = value instead\n",
      "\n",
      "See the caveats in the documentation: https://pandas.pydata.org/pandas-docs/stable/user_guide/indexing.html#returning-a-view-versus-a-copy\n",
      "  X_train['neighbors_target_mean_500']=neigh.predict(X_train_neibs)\n",
      "/var/folders/qh/f_xd4_hs7jq5186tyc9v3gdm0000gn/T/ipykernel_98047/2309985315.py:14: SettingWithCopyWarning: \n",
      "A value is trying to be set on a copy of a slice from a DataFrame.\n",
      "Try using .loc[row_indexer,col_indexer] = value instead\n",
      "\n",
      "See the caveats in the documentation: https://pandas.pydata.org/pandas-docs/stable/user_guide/indexing.html#returning-a-view-versus-a-copy\n",
      "  X_test['neighbors_target_mean_500']=neigh.predict(X_test_neibs)\n",
      "/var/folders/qh/f_xd4_hs7jq5186tyc9v3gdm0000gn/T/ipykernel_98047/2309985315.py:13: SettingWithCopyWarning: \n",
      "A value is trying to be set on a copy of a slice from a DataFrame.\n",
      "Try using .loc[row_indexer,col_indexer] = value instead\n",
      "\n",
      "See the caveats in the documentation: https://pandas.pydata.org/pandas-docs/stable/user_guide/indexing.html#returning-a-view-versus-a-copy\n",
      "  X_train['neighbors_target_mean_500']=neigh.predict(X_train_neibs)\n",
      "/var/folders/qh/f_xd4_hs7jq5186tyc9v3gdm0000gn/T/ipykernel_98047/2309985315.py:14: SettingWithCopyWarning: \n",
      "A value is trying to be set on a copy of a slice from a DataFrame.\n",
      "Try using .loc[row_indexer,col_indexer] = value instead\n",
      "\n",
      "See the caveats in the documentation: https://pandas.pydata.org/pandas-docs/stable/user_guide/indexing.html#returning-a-view-versus-a-copy\n",
      "  X_test['neighbors_target_mean_500']=neigh.predict(X_test_neibs)\n",
      "/var/folders/qh/f_xd4_hs7jq5186tyc9v3gdm0000gn/T/ipykernel_98047/2309985315.py:13: SettingWithCopyWarning: \n",
      "A value is trying to be set on a copy of a slice from a DataFrame.\n",
      "Try using .loc[row_indexer,col_indexer] = value instead\n",
      "\n",
      "See the caveats in the documentation: https://pandas.pydata.org/pandas-docs/stable/user_guide/indexing.html#returning-a-view-versus-a-copy\n",
      "  X_train['neighbors_target_mean_500']=neigh.predict(X_train_neibs)\n",
      "/var/folders/qh/f_xd4_hs7jq5186tyc9v3gdm0000gn/T/ipykernel_98047/2309985315.py:14: SettingWithCopyWarning: \n",
      "A value is trying to be set on a copy of a slice from a DataFrame.\n",
      "Try using .loc[row_indexer,col_indexer] = value instead\n",
      "\n",
      "See the caveats in the documentation: https://pandas.pydata.org/pandas-docs/stable/user_guide/indexing.html#returning-a-view-versus-a-copy\n",
      "  X_test['neighbors_target_mean_500']=neigh.predict(X_test_neibs)\n"
     ]
    },
    {
     "name": "stdout",
     "output_type": "stream",
     "text": [
      "score of Logistic Regression :  0.7193269263709686\n"
     ]
    },
    {
     "name": "stderr",
     "output_type": "stream",
     "text": [
      "/var/folders/qh/f_xd4_hs7jq5186tyc9v3gdm0000gn/T/ipykernel_98047/2309985315.py:13: SettingWithCopyWarning: \n",
      "A value is trying to be set on a copy of a slice from a DataFrame.\n",
      "Try using .loc[row_indexer,col_indexer] = value instead\n",
      "\n",
      "See the caveats in the documentation: https://pandas.pydata.org/pandas-docs/stable/user_guide/indexing.html#returning-a-view-versus-a-copy\n",
      "  X_train['neighbors_target_mean_500']=neigh.predict(X_train_neibs)\n",
      "/var/folders/qh/f_xd4_hs7jq5186tyc9v3gdm0000gn/T/ipykernel_98047/2309985315.py:14: SettingWithCopyWarning: \n",
      "A value is trying to be set on a copy of a slice from a DataFrame.\n",
      "Try using .loc[row_indexer,col_indexer] = value instead\n",
      "\n",
      "See the caveats in the documentation: https://pandas.pydata.org/pandas-docs/stable/user_guide/indexing.html#returning-a-view-versus-a-copy\n",
      "  X_test['neighbors_target_mean_500']=neigh.predict(X_test_neibs)\n",
      "/var/folders/qh/f_xd4_hs7jq5186tyc9v3gdm0000gn/T/ipykernel_98047/2309985315.py:13: SettingWithCopyWarning: \n",
      "A value is trying to be set on a copy of a slice from a DataFrame.\n",
      "Try using .loc[row_indexer,col_indexer] = value instead\n",
      "\n",
      "See the caveats in the documentation: https://pandas.pydata.org/pandas-docs/stable/user_guide/indexing.html#returning-a-view-versus-a-copy\n",
      "  X_train['neighbors_target_mean_500']=neigh.predict(X_train_neibs)\n",
      "/var/folders/qh/f_xd4_hs7jq5186tyc9v3gdm0000gn/T/ipykernel_98047/2309985315.py:14: SettingWithCopyWarning: \n",
      "A value is trying to be set on a copy of a slice from a DataFrame.\n",
      "Try using .loc[row_indexer,col_indexer] = value instead\n",
      "\n",
      "See the caveats in the documentation: https://pandas.pydata.org/pandas-docs/stable/user_guide/indexing.html#returning-a-view-versus-a-copy\n",
      "  X_test['neighbors_target_mean_500']=neigh.predict(X_test_neibs)\n",
      "/var/folders/qh/f_xd4_hs7jq5186tyc9v3gdm0000gn/T/ipykernel_98047/2309985315.py:13: SettingWithCopyWarning: \n",
      "A value is trying to be set on a copy of a slice from a DataFrame.\n",
      "Try using .loc[row_indexer,col_indexer] = value instead\n",
      "\n",
      "See the caveats in the documentation: https://pandas.pydata.org/pandas-docs/stable/user_guide/indexing.html#returning-a-view-versus-a-copy\n",
      "  X_train['neighbors_target_mean_500']=neigh.predict(X_train_neibs)\n",
      "/var/folders/qh/f_xd4_hs7jq5186tyc9v3gdm0000gn/T/ipykernel_98047/2309985315.py:14: SettingWithCopyWarning: \n",
      "A value is trying to be set on a copy of a slice from a DataFrame.\n",
      "Try using .loc[row_indexer,col_indexer] = value instead\n",
      "\n",
      "See the caveats in the documentation: https://pandas.pydata.org/pandas-docs/stable/user_guide/indexing.html#returning-a-view-versus-a-copy\n",
      "  X_test['neighbors_target_mean_500']=neigh.predict(X_test_neibs)\n"
     ]
    },
    {
     "name": "stdout",
     "output_type": "stream",
     "text": [
      "score of Random Forest :  0.6764411586341278\n"
     ]
    },
    {
     "name": "stderr",
     "output_type": "stream",
     "text": [
      "/var/folders/qh/f_xd4_hs7jq5186tyc9v3gdm0000gn/T/ipykernel_98047/2309985315.py:13: SettingWithCopyWarning: \n",
      "A value is trying to be set on a copy of a slice from a DataFrame.\n",
      "Try using .loc[row_indexer,col_indexer] = value instead\n",
      "\n",
      "See the caveats in the documentation: https://pandas.pydata.org/pandas-docs/stable/user_guide/indexing.html#returning-a-view-versus-a-copy\n",
      "  X_train['neighbors_target_mean_500']=neigh.predict(X_train_neibs)\n",
      "/var/folders/qh/f_xd4_hs7jq5186tyc9v3gdm0000gn/T/ipykernel_98047/2309985315.py:14: SettingWithCopyWarning: \n",
      "A value is trying to be set on a copy of a slice from a DataFrame.\n",
      "Try using .loc[row_indexer,col_indexer] = value instead\n",
      "\n",
      "See the caveats in the documentation: https://pandas.pydata.org/pandas-docs/stable/user_guide/indexing.html#returning-a-view-versus-a-copy\n",
      "  X_test['neighbors_target_mean_500']=neigh.predict(X_test_neibs)\n",
      "/opt/anaconda3/lib/python3.9/site-packages/xgboost/sklearn.py:1224: UserWarning: The use of label encoder in XGBClassifier is deprecated and will be removed in a future release. To remove this warning, do the following: 1) Pass option use_label_encoder=False when constructing XGBClassifier object; and 2) Encode your labels (y) as integers starting with 0, i.e. 0, 1, 2, ..., [num_class - 1].\n",
      "  warnings.warn(label_encoder_deprecation_msg, UserWarning)\n"
     ]
    },
    {
     "name": "stdout",
     "output_type": "stream",
     "text": [
      "[00:37:34] WARNING: /Users/runner/miniforge3/conda-bld/xgboost-split_1645117948562/work/src/learner.cc:1115: Starting in XGBoost 1.3.0, the default evaluation metric used with the objective 'binary:logistic' was changed from 'error' to 'logloss'. Explicitly set eval_metric if you'd like to restore the old behavior.\n"
     ]
    },
    {
     "name": "stderr",
     "output_type": "stream",
     "text": [
      "/var/folders/qh/f_xd4_hs7jq5186tyc9v3gdm0000gn/T/ipykernel_98047/2309985315.py:13: SettingWithCopyWarning: \n",
      "A value is trying to be set on a copy of a slice from a DataFrame.\n",
      "Try using .loc[row_indexer,col_indexer] = value instead\n",
      "\n",
      "See the caveats in the documentation: https://pandas.pydata.org/pandas-docs/stable/user_guide/indexing.html#returning-a-view-versus-a-copy\n",
      "  X_train['neighbors_target_mean_500']=neigh.predict(X_train_neibs)\n",
      "/var/folders/qh/f_xd4_hs7jq5186tyc9v3gdm0000gn/T/ipykernel_98047/2309985315.py:14: SettingWithCopyWarning: \n",
      "A value is trying to be set on a copy of a slice from a DataFrame.\n",
      "Try using .loc[row_indexer,col_indexer] = value instead\n",
      "\n",
      "See the caveats in the documentation: https://pandas.pydata.org/pandas-docs/stable/user_guide/indexing.html#returning-a-view-versus-a-copy\n",
      "  X_test['neighbors_target_mean_500']=neigh.predict(X_test_neibs)\n",
      "/opt/anaconda3/lib/python3.9/site-packages/xgboost/sklearn.py:1224: UserWarning: The use of label encoder in XGBClassifier is deprecated and will be removed in a future release. To remove this warning, do the following: 1) Pass option use_label_encoder=False when constructing XGBClassifier object; and 2) Encode your labels (y) as integers starting with 0, i.e. 0, 1, 2, ..., [num_class - 1].\n",
      "  warnings.warn(label_encoder_deprecation_msg, UserWarning)\n"
     ]
    },
    {
     "name": "stdout",
     "output_type": "stream",
     "text": [
      "[00:37:48] WARNING: /Users/runner/miniforge3/conda-bld/xgboost-split_1645117948562/work/src/learner.cc:1115: Starting in XGBoost 1.3.0, the default evaluation metric used with the objective 'binary:logistic' was changed from 'error' to 'logloss'. Explicitly set eval_metric if you'd like to restore the old behavior.\n"
     ]
    },
    {
     "name": "stderr",
     "output_type": "stream",
     "text": [
      "/var/folders/qh/f_xd4_hs7jq5186tyc9v3gdm0000gn/T/ipykernel_98047/2309985315.py:13: SettingWithCopyWarning: \n",
      "A value is trying to be set on a copy of a slice from a DataFrame.\n",
      "Try using .loc[row_indexer,col_indexer] = value instead\n",
      "\n",
      "See the caveats in the documentation: https://pandas.pydata.org/pandas-docs/stable/user_guide/indexing.html#returning-a-view-versus-a-copy\n",
      "  X_train['neighbors_target_mean_500']=neigh.predict(X_train_neibs)\n",
      "/var/folders/qh/f_xd4_hs7jq5186tyc9v3gdm0000gn/T/ipykernel_98047/2309985315.py:14: SettingWithCopyWarning: \n",
      "A value is trying to be set on a copy of a slice from a DataFrame.\n",
      "Try using .loc[row_indexer,col_indexer] = value instead\n",
      "\n",
      "See the caveats in the documentation: https://pandas.pydata.org/pandas-docs/stable/user_guide/indexing.html#returning-a-view-versus-a-copy\n",
      "  X_test['neighbors_target_mean_500']=neigh.predict(X_test_neibs)\n",
      "/opt/anaconda3/lib/python3.9/site-packages/xgboost/sklearn.py:1224: UserWarning: The use of label encoder in XGBClassifier is deprecated and will be removed in a future release. To remove this warning, do the following: 1) Pass option use_label_encoder=False when constructing XGBClassifier object; and 2) Encode your labels (y) as integers starting with 0, i.e. 0, 1, 2, ..., [num_class - 1].\n",
      "  warnings.warn(label_encoder_deprecation_msg, UserWarning)\n"
     ]
    },
    {
     "name": "stdout",
     "output_type": "stream",
     "text": [
      "[00:38:02] WARNING: /Users/runner/miniforge3/conda-bld/xgboost-split_1645117948562/work/src/learner.cc:1115: Starting in XGBoost 1.3.0, the default evaluation metric used with the objective 'binary:logistic' was changed from 'error' to 'logloss'. Explicitly set eval_metric if you'd like to restore the old behavior.\n",
      "score of Gradient Boost :  0.6868641857517663\n"
     ]
    }
   ],
   "source": [
    "compare_models_withfeatureeng(model_dict1,X_train3,Y_train)"
   ]
  },
  {
   "cell_type": "code",
   "execution_count": null,
   "id": "0c2470c5",
   "metadata": {},
   "outputs": [],
   "source": []
  }
 ],
 "metadata": {
  "kernelspec": {
   "display_name": "Python 3 (ipykernel)",
   "language": "python",
   "name": "python3"
  },
  "language_info": {
   "codemirror_mode": {
    "name": "ipython",
    "version": 3
   },
   "file_extension": ".py",
   "mimetype": "text/x-python",
   "name": "python",
   "nbconvert_exporter": "python",
   "pygments_lexer": "ipython3",
   "version": "3.9.7"
  }
 },
 "nbformat": 4,
 "nbformat_minor": 5
}
