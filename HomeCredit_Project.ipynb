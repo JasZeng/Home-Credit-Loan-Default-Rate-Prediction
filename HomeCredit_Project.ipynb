{
 "cells": [
  {
   "cell_type": "code",
   "execution_count": 1,
   "id": "b0c2b7c8",
   "metadata": {},
   "outputs": [],
   "source": [
    "import pandas as pd\n",
    "import numpy as np"
   ]
  },
  {
   "cell_type": "code",
   "execution_count": 2,
   "id": "9c695d9c",
   "metadata": {},
   "outputs": [],
   "source": [
    "client=pd.read_csv(\"/Users/jaszeng/Desktop/Metis/Classification/application_train.csv\")\n",
    "client_bureau=pd.read_csv(\"/Users/jaszeng/Desktop/Metis/Classification/bureau.csv\")"
   ]
  },
  {
   "cell_type": "code",
   "execution_count": 3,
   "id": "0f9a3104",
   "metadata": {},
   "outputs": [
    {
     "data": {
      "text/html": [
       "<div>\n",
       "<style scoped>\n",
       "    .dataframe tbody tr th:only-of-type {\n",
       "        vertical-align: middle;\n",
       "    }\n",
       "\n",
       "    .dataframe tbody tr th {\n",
       "        vertical-align: top;\n",
       "    }\n",
       "\n",
       "    .dataframe thead th {\n",
       "        text-align: right;\n",
       "    }\n",
       "</style>\n",
       "<table border=\"1\" class=\"dataframe\">\n",
       "  <thead>\n",
       "    <tr style=\"text-align: right;\">\n",
       "      <th></th>\n",
       "      <th>AMT_CREDIT_SUM</th>\n",
       "      <th>AMT_CREDIT_SUM_DEBT</th>\n",
       "    </tr>\n",
       "    <tr>\n",
       "      <th>SK_ID_CURR</th>\n",
       "      <th></th>\n",
       "      <th></th>\n",
       "    </tr>\n",
       "  </thead>\n",
       "  <tbody>\n",
       "    <tr>\n",
       "      <th>100001</th>\n",
       "      <td>1453365.000</td>\n",
       "      <td>596686.5</td>\n",
       "    </tr>\n",
       "    <tr>\n",
       "      <th>100002</th>\n",
       "      <td>865055.565</td>\n",
       "      <td>245781.0</td>\n",
       "    </tr>\n",
       "    <tr>\n",
       "      <th>100003</th>\n",
       "      <td>1017400.500</td>\n",
       "      <td>0.0</td>\n",
       "    </tr>\n",
       "    <tr>\n",
       "      <th>100004</th>\n",
       "      <td>189037.800</td>\n",
       "      <td>0.0</td>\n",
       "    </tr>\n",
       "    <tr>\n",
       "      <th>100005</th>\n",
       "      <td>657126.000</td>\n",
       "      <td>568408.5</td>\n",
       "    </tr>\n",
       "  </tbody>\n",
       "</table>\n",
       "</div>"
      ],
      "text/plain": [
       "            AMT_CREDIT_SUM  AMT_CREDIT_SUM_DEBT\n",
       "SK_ID_CURR                                     \n",
       "100001         1453365.000             596686.5\n",
       "100002          865055.565             245781.0\n",
       "100003         1017400.500                  0.0\n",
       "100004          189037.800                  0.0\n",
       "100005          657126.000             568408.5"
      ]
     },
     "execution_count": 3,
     "metadata": {},
     "output_type": "execute_result"
    }
   ],
   "source": [
    "client_bureau=client_bureau[['SK_ID_CURR','AMT_CREDIT_SUM','AMT_CREDIT_SUM_DEBT']].groupby('SK_ID_CURR').agg(['sum'])\n",
    "client_bureau.columns = client_bureau.columns.droplevel(1)\n",
    "client_bureau.head()"
   ]
  },
  {
   "cell_type": "code",
   "execution_count": 4,
   "id": "09f89928",
   "metadata": {},
   "outputs": [],
   "source": [
    "client_df=pd.merge(client,client_bureau,left_on=\"SK_ID_CURR\",right_index=True,how=\"left\")"
   ]
  },
  {
   "cell_type": "code",
   "execution_count": 5,
   "id": "a3a508a9",
   "metadata": {},
   "outputs": [
    {
     "data": {
      "text/plain": [
       "(307511, 124)"
      ]
     },
     "execution_count": 5,
     "metadata": {},
     "output_type": "execute_result"
    }
   ],
   "source": [
    "client_df.shape"
   ]
  },
  {
   "cell_type": "code",
   "execution_count": 6,
   "id": "37837ea9",
   "metadata": {},
   "outputs": [
    {
     "data": {
      "text/html": [
       "<div>\n",
       "<style scoped>\n",
       "    .dataframe tbody tr th:only-of-type {\n",
       "        vertical-align: middle;\n",
       "    }\n",
       "\n",
       "    .dataframe tbody tr th {\n",
       "        vertical-align: top;\n",
       "    }\n",
       "\n",
       "    .dataframe thead th {\n",
       "        text-align: right;\n",
       "    }\n",
       "</style>\n",
       "<table border=\"1\" class=\"dataframe\">\n",
       "  <thead>\n",
       "    <tr style=\"text-align: right;\">\n",
       "      <th></th>\n",
       "      <th>SK_ID_CURR</th>\n",
       "      <th>TARGET</th>\n",
       "      <th>NAME_CONTRACT_TYPE</th>\n",
       "      <th>CODE_GENDER</th>\n",
       "      <th>FLAG_OWN_CAR</th>\n",
       "      <th>FLAG_OWN_REALTY</th>\n",
       "      <th>CNT_CHILDREN</th>\n",
       "      <th>AMT_INCOME_TOTAL</th>\n",
       "      <th>AMT_CREDIT</th>\n",
       "      <th>AMT_ANNUITY</th>\n",
       "      <th>...</th>\n",
       "      <th>FLAG_DOCUMENT_20</th>\n",
       "      <th>FLAG_DOCUMENT_21</th>\n",
       "      <th>AMT_REQ_CREDIT_BUREAU_HOUR</th>\n",
       "      <th>AMT_REQ_CREDIT_BUREAU_DAY</th>\n",
       "      <th>AMT_REQ_CREDIT_BUREAU_WEEK</th>\n",
       "      <th>AMT_REQ_CREDIT_BUREAU_MON</th>\n",
       "      <th>AMT_REQ_CREDIT_BUREAU_QRT</th>\n",
       "      <th>AMT_REQ_CREDIT_BUREAU_YEAR</th>\n",
       "      <th>AMT_CREDIT_SUM</th>\n",
       "      <th>AMT_CREDIT_SUM_DEBT</th>\n",
       "    </tr>\n",
       "  </thead>\n",
       "  <tbody>\n",
       "    <tr>\n",
       "      <th>296355</th>\n",
       "      <td>443342</td>\n",
       "      <td>0</td>\n",
       "      <td>Cash loans</td>\n",
       "      <td>F</td>\n",
       "      <td>N</td>\n",
       "      <td>Y</td>\n",
       "      <td>0</td>\n",
       "      <td>270000.0</td>\n",
       "      <td>1459584.0</td>\n",
       "      <td>61969.5</td>\n",
       "      <td>...</td>\n",
       "      <td>0</td>\n",
       "      <td>0</td>\n",
       "      <td>0.0</td>\n",
       "      <td>0.0</td>\n",
       "      <td>0.0</td>\n",
       "      <td>0.0</td>\n",
       "      <td>0.0</td>\n",
       "      <td>1.0</td>\n",
       "      <td>1682833.50</td>\n",
       "      <td>626800.5</td>\n",
       "    </tr>\n",
       "    <tr>\n",
       "      <th>251529</th>\n",
       "      <td>391036</td>\n",
       "      <td>0</td>\n",
       "      <td>Revolving loans</td>\n",
       "      <td>M</td>\n",
       "      <td>N</td>\n",
       "      <td>Y</td>\n",
       "      <td>0</td>\n",
       "      <td>96750.0</td>\n",
       "      <td>270000.0</td>\n",
       "      <td>13500.0</td>\n",
       "      <td>...</td>\n",
       "      <td>0</td>\n",
       "      <td>0</td>\n",
       "      <td>0.0</td>\n",
       "      <td>0.0</td>\n",
       "      <td>0.0</td>\n",
       "      <td>0.0</td>\n",
       "      <td>0.0</td>\n",
       "      <td>2.0</td>\n",
       "      <td>2477943.00</td>\n",
       "      <td>472306.5</td>\n",
       "    </tr>\n",
       "    <tr>\n",
       "      <th>145774</th>\n",
       "      <td>269023</td>\n",
       "      <td>0</td>\n",
       "      <td>Cash loans</td>\n",
       "      <td>M</td>\n",
       "      <td>N</td>\n",
       "      <td>Y</td>\n",
       "      <td>0</td>\n",
       "      <td>103500.0</td>\n",
       "      <td>253377.0</td>\n",
       "      <td>9909.0</td>\n",
       "      <td>...</td>\n",
       "      <td>0</td>\n",
       "      <td>0</td>\n",
       "      <td>0.0</td>\n",
       "      <td>0.0</td>\n",
       "      <td>0.0</td>\n",
       "      <td>0.0</td>\n",
       "      <td>0.0</td>\n",
       "      <td>3.0</td>\n",
       "      <td>2181802.50</td>\n",
       "      <td>1156725.0</td>\n",
       "    </tr>\n",
       "    <tr>\n",
       "      <th>71065</th>\n",
       "      <td>182422</td>\n",
       "      <td>0</td>\n",
       "      <td>Cash loans</td>\n",
       "      <td>M</td>\n",
       "      <td>Y</td>\n",
       "      <td>Y</td>\n",
       "      <td>0</td>\n",
       "      <td>225000.0</td>\n",
       "      <td>519633.0</td>\n",
       "      <td>41184.0</td>\n",
       "      <td>...</td>\n",
       "      <td>0</td>\n",
       "      <td>0</td>\n",
       "      <td>0.0</td>\n",
       "      <td>0.0</td>\n",
       "      <td>0.0</td>\n",
       "      <td>0.0</td>\n",
       "      <td>0.0</td>\n",
       "      <td>2.0</td>\n",
       "      <td>954344.79</td>\n",
       "      <td>0.0</td>\n",
       "    </tr>\n",
       "    <tr>\n",
       "      <th>103448</th>\n",
       "      <td>220072</td>\n",
       "      <td>1</td>\n",
       "      <td>Cash loans</td>\n",
       "      <td>F</td>\n",
       "      <td>N</td>\n",
       "      <td>N</td>\n",
       "      <td>0</td>\n",
       "      <td>90000.0</td>\n",
       "      <td>284400.0</td>\n",
       "      <td>13387.5</td>\n",
       "      <td>...</td>\n",
       "      <td>0</td>\n",
       "      <td>0</td>\n",
       "      <td>0.0</td>\n",
       "      <td>0.0</td>\n",
       "      <td>0.0</td>\n",
       "      <td>0.0</td>\n",
       "      <td>0.0</td>\n",
       "      <td>2.0</td>\n",
       "      <td>5738854.50</td>\n",
       "      <td>2107863.0</td>\n",
       "    </tr>\n",
       "  </tbody>\n",
       "</table>\n",
       "<p>5 rows × 124 columns</p>\n",
       "</div>"
      ],
      "text/plain": [
       "        SK_ID_CURR  TARGET NAME_CONTRACT_TYPE CODE_GENDER FLAG_OWN_CAR  \\\n",
       "296355      443342       0         Cash loans           F            N   \n",
       "251529      391036       0    Revolving loans           M            N   \n",
       "145774      269023       0         Cash loans           M            N   \n",
       "71065       182422       0         Cash loans           M            Y   \n",
       "103448      220072       1         Cash loans           F            N   \n",
       "\n",
       "       FLAG_OWN_REALTY  CNT_CHILDREN  AMT_INCOME_TOTAL  AMT_CREDIT  \\\n",
       "296355               Y             0          270000.0   1459584.0   \n",
       "251529               Y             0           96750.0    270000.0   \n",
       "145774               Y             0          103500.0    253377.0   \n",
       "71065                Y             0          225000.0    519633.0   \n",
       "103448               N             0           90000.0    284400.0   \n",
       "\n",
       "        AMT_ANNUITY  ...  FLAG_DOCUMENT_20 FLAG_DOCUMENT_21  \\\n",
       "296355      61969.5  ...                 0                0   \n",
       "251529      13500.0  ...                 0                0   \n",
       "145774       9909.0  ...                 0                0   \n",
       "71065       41184.0  ...                 0                0   \n",
       "103448      13387.5  ...                 0                0   \n",
       "\n",
       "       AMT_REQ_CREDIT_BUREAU_HOUR AMT_REQ_CREDIT_BUREAU_DAY  \\\n",
       "296355                        0.0                       0.0   \n",
       "251529                        0.0                       0.0   \n",
       "145774                        0.0                       0.0   \n",
       "71065                         0.0                       0.0   \n",
       "103448                        0.0                       0.0   \n",
       "\n",
       "       AMT_REQ_CREDIT_BUREAU_WEEK AMT_REQ_CREDIT_BUREAU_MON  \\\n",
       "296355                        0.0                       0.0   \n",
       "251529                        0.0                       0.0   \n",
       "145774                        0.0                       0.0   \n",
       "71065                         0.0                       0.0   \n",
       "103448                        0.0                       0.0   \n",
       "\n",
       "        AMT_REQ_CREDIT_BUREAU_QRT  AMT_REQ_CREDIT_BUREAU_YEAR  AMT_CREDIT_SUM  \\\n",
       "296355                        0.0                         1.0      1682833.50   \n",
       "251529                        0.0                         2.0      2477943.00   \n",
       "145774                        0.0                         3.0      2181802.50   \n",
       "71065                         0.0                         2.0       954344.79   \n",
       "103448                        0.0                         2.0      5738854.50   \n",
       "\n",
       "        AMT_CREDIT_SUM_DEBT  \n",
       "296355             626800.5  \n",
       "251529             472306.5  \n",
       "145774            1156725.0  \n",
       "71065                   0.0  \n",
       "103448            2107863.0  \n",
       "\n",
       "[5 rows x 124 columns]"
      ]
     },
     "execution_count": 6,
     "metadata": {},
     "output_type": "execute_result"
    }
   ],
   "source": [
    "client_df.sample(5)"
   ]
  },
  {
   "cell_type": "code",
   "execution_count": 7,
   "id": "6cf24a05",
   "metadata": {},
   "outputs": [
    {
     "data": {
      "text/plain": [
       "Index(['SK_ID_CURR', 'TARGET', 'NAME_CONTRACT_TYPE', 'CODE_GENDER',\n",
       "       'FLAG_OWN_CAR', 'FLAG_OWN_REALTY', 'CNT_CHILDREN', 'AMT_INCOME_TOTAL',\n",
       "       'AMT_CREDIT', 'AMT_ANNUITY',\n",
       "       ...\n",
       "       'FLAG_DOCUMENT_20', 'FLAG_DOCUMENT_21', 'AMT_REQ_CREDIT_BUREAU_HOUR',\n",
       "       'AMT_REQ_CREDIT_BUREAU_DAY', 'AMT_REQ_CREDIT_BUREAU_WEEK',\n",
       "       'AMT_REQ_CREDIT_BUREAU_MON', 'AMT_REQ_CREDIT_BUREAU_QRT',\n",
       "       'AMT_REQ_CREDIT_BUREAU_YEAR', 'AMT_CREDIT_SUM', 'AMT_CREDIT_SUM_DEBT'],\n",
       "      dtype='object', length=124)"
      ]
     },
     "execution_count": 7,
     "metadata": {},
     "output_type": "execute_result"
    }
   ],
   "source": [
    "client_df.columns"
   ]
  },
  {
   "cell_type": "code",
   "execution_count": 8,
   "id": "89d86615",
   "metadata": {},
   "outputs": [
    {
     "data": {
      "text/plain": [
       "(307511, 124)"
      ]
     },
     "execution_count": 8,
     "metadata": {},
     "output_type": "execute_result"
    }
   ],
   "source": [
    "client_df.shape"
   ]
  },
  {
   "cell_type": "code",
   "execution_count": 9,
   "id": "20d46345",
   "metadata": {},
   "outputs": [
    {
     "name": "stdout",
     "output_type": "stream",
     "text": [
      "<class 'pandas.core.frame.DataFrame'>\n",
      "RangeIndex: 307511 entries, 0 to 307510\n",
      "Columns: 124 entries, SK_ID_CURR to AMT_CREDIT_SUM_DEBT\n",
      "dtypes: float64(67), int64(41), object(16)\n",
      "memory usage: 290.9+ MB\n"
     ]
    }
   ],
   "source": [
    "client_df.info()"
   ]
  },
  {
   "cell_type": "markdown",
   "id": "72abb9c2",
   "metadata": {},
   "source": [
    "First, delete columns with too many null values, I have 300,000 data, let's set the threshold to be 50,000 first. If null value of a feature exceeds 50,000, we delete this feature."
   ]
  },
  {
   "cell_type": "code",
   "execution_count": 10,
   "id": "633fe3a7",
   "metadata": {},
   "outputs": [
    {
     "data": {
      "text/plain": [
       "(307511, 73)"
      ]
     },
     "execution_count": 10,
     "metadata": {},
     "output_type": "execute_result"
    }
   ],
   "source": [
    "col_countna=client_df.isna().sum().sort_values(ascending=False)\n",
    "nullcolumns=col_countna[col_countna>50000].index\n",
    "client_df1=client_df.drop(columns=nullcolumns)\n",
    "client_df1.shape"
   ]
  },
  {
   "cell_type": "markdown",
   "id": "5345ed83",
   "metadata": {},
   "source": [
    "Next, We should replace float NA with mean, int NA and object NA with mode"
   ]
  },
  {
   "cell_type": "code",
   "execution_count": 11,
   "id": "0d03fda7",
   "metadata": {},
   "outputs": [],
   "source": [
    "object_columns=[]\n",
    "float_columns=[]\n",
    "int_columns=[]\n",
    "for i in client_df1.columns:\n",
    "    if client_df1[i].dtypes=='object':\n",
    "        object_columns.append(i)\n",
    "    elif client_df1[i].dtypes=='float':\n",
    "        float_columns.append(i)\n",
    "    else:\n",
    "        int_columns.append(i)"
   ]
  },
  {
   "cell_type": "code",
   "execution_count": 12,
   "id": "6dd27106",
   "metadata": {},
   "outputs": [
    {
     "data": {
      "text/plain": [
       "41"
      ]
     },
     "execution_count": 12,
     "metadata": {},
     "output_type": "execute_result"
    }
   ],
   "source": [
    "len(int_columns)"
   ]
  },
  {
   "cell_type": "code",
   "execution_count": 13,
   "id": "16bd3410",
   "metadata": {},
   "outputs": [],
   "source": [
    "client_df1[float_columns]=client_df1[float_columns].fillna(client_df1[float_columns].mean())\n",
    "client_df1[int_columns]=client_df1[int_columns].fillna(client_df1[int_columns].mode())\n",
    "client_df1[object_columns]=client_df1[object_columns].fillna(client_df1[object_columns].mode())"
   ]
  },
  {
   "cell_type": "code",
   "execution_count": 14,
   "id": "ac4a6e65",
   "metadata": {},
   "outputs": [
    {
     "data": {
      "text/plain": [
       "NAME_TYPE_SUITE        1292\n",
       "SK_ID_CURR                0\n",
       "FLAG_DOCUMENT_4           0\n",
       "FLAG_DOCUMENT_10          0\n",
       "FLAG_DOCUMENT_9           0\n",
       "                       ... \n",
       "FLAG_CONT_MOBILE          0\n",
       "FLAG_WORK_PHONE           0\n",
       "FLAG_EMP_PHONE            0\n",
       "FLAG_MOBIL                0\n",
       "AMT_CREDIT_SUM_DEBT       0\n",
       "Length: 73, dtype: int64"
      ]
     },
     "execution_count": 14,
     "metadata": {},
     "output_type": "execute_result"
    }
   ],
   "source": [
    "client_df1.isna().sum().sort_values(ascending=False)"
   ]
  },
  {
   "cell_type": "code",
   "execution_count": 15,
   "id": "16a7a695",
   "metadata": {},
   "outputs": [],
   "source": [
    "client_df1['NAME_TYPE_SUITE']=client_df1['NAME_TYPE_SUITE'].fillna('Unaccompanied')"
   ]
  },
  {
   "cell_type": "markdown",
   "id": "22147285",
   "metadata": {},
   "source": [
    "Then, deal with categorical value"
   ]
  },
  {
   "cell_type": "code",
   "execution_count": 16,
   "id": "c0ae3a0e",
   "metadata": {},
   "outputs": [
    {
     "name": "stdout",
     "output_type": "stream",
     "text": [
      "<class 'pandas.core.frame.DataFrame'>\n",
      "RangeIndex: 307511 entries, 0 to 307510\n",
      "Data columns (total 11 columns):\n",
      " #   Column                      Non-Null Count   Dtype \n",
      "---  ------                      --------------   ----- \n",
      " 0   NAME_CONTRACT_TYPE          307511 non-null  object\n",
      " 1   CODE_GENDER                 307511 non-null  object\n",
      " 2   FLAG_OWN_CAR                307511 non-null  object\n",
      " 3   FLAG_OWN_REALTY             307511 non-null  object\n",
      " 4   NAME_TYPE_SUITE             307511 non-null  object\n",
      " 5   NAME_INCOME_TYPE            307511 non-null  object\n",
      " 6   NAME_EDUCATION_TYPE         307511 non-null  object\n",
      " 7   NAME_FAMILY_STATUS          307511 non-null  object\n",
      " 8   NAME_HOUSING_TYPE           307511 non-null  object\n",
      " 9   WEEKDAY_APPR_PROCESS_START  307511 non-null  object\n",
      " 10  ORGANIZATION_TYPE           307511 non-null  object\n",
      "dtypes: object(11)\n",
      "memory usage: 25.8+ MB\n"
     ]
    }
   ],
   "source": [
    "client_df1.loc[:,object_columns].info()"
   ]
  },
  {
   "cell_type": "code",
   "execution_count": 17,
   "id": "b8088757",
   "metadata": {},
   "outputs": [
    {
     "data": {
      "text/plain": [
       "NAME_CONTRACT_TYPE             2\n",
       "CODE_GENDER                    3\n",
       "FLAG_OWN_CAR                   2\n",
       "FLAG_OWN_REALTY                2\n",
       "NAME_TYPE_SUITE                7\n",
       "NAME_INCOME_TYPE               8\n",
       "NAME_EDUCATION_TYPE            5\n",
       "NAME_FAMILY_STATUS             6\n",
       "NAME_HOUSING_TYPE              6\n",
       "WEEKDAY_APPR_PROCESS_START     7\n",
       "ORGANIZATION_TYPE             58\n",
       "dtype: int64"
      ]
     },
     "execution_count": 17,
     "metadata": {},
     "output_type": "execute_result"
    }
   ],
   "source": [
    "client_df1.loc[:,object_columns].nunique()"
   ]
  },
  {
   "cell_type": "markdown",
   "id": "c95e5567",
   "metadata": {},
   "source": [
    "Here I delete the 'organization type' feature since this feature is too complicated, and it will not add value to model as the time it will consume. Also I delete 'weekday_appr_process_start' as this should not impact the model. Then, for categorical object columns that only have two groups, I change it to 0/1 dummy columns."
   ]
  },
  {
   "cell_type": "code",
   "execution_count": 18,
   "id": "5661a470",
   "metadata": {},
   "outputs": [],
   "source": [
    "client_df1['FLAG_CASH_LOANS']=(client_df1['NAME_CONTRACT_TYPE']=='Cash loans') .astype(int)\n",
    "client_df1['FLAG_OWN_CAR']=(client_df1['FLAG_OWN_CAR']=='Y') .astype(int)\n",
    "client_df1['FLAG_OWN_REALTY']=(client_df1['FLAG_OWN_REALTY']=='Y') .astype(int)"
   ]
  },
  {
   "cell_type": "markdown",
   "id": "1192ee17",
   "metadata": {},
   "source": [
    "Next, change gender into dummies"
   ]
  },
  {
   "cell_type": "code",
   "execution_count": 19,
   "id": "ee3eaded",
   "metadata": {},
   "outputs": [
    {
     "data": {
      "text/plain": [
       "F      202448\n",
       "M      105059\n",
       "XNA         4\n",
       "Name: CODE_GENDER, dtype: int64"
      ]
     },
     "execution_count": 19,
     "metadata": {},
     "output_type": "execute_result"
    }
   ],
   "source": [
    "client_df1['CODE_GENDER'].value_counts()"
   ]
  },
  {
   "cell_type": "code",
   "execution_count": 20,
   "id": "5a32eacd",
   "metadata": {},
   "outputs": [],
   "source": [
    "client_df1=client_df1[client_df1['CODE_GENDER']!='XNA']\n",
    "client_df1['GENDER']=(client_df1['CODE_GENDER']=='F') .astype(int)"
   ]
  },
  {
   "cell_type": "code",
   "execution_count": 21,
   "id": "0625691b",
   "metadata": {},
   "outputs": [],
   "source": [
    "client_df1=client_df1.drop(columns=['CODE_GENDER','NAME_CONTRACT_TYPE','WEEKDAY_APPR_PROCESS_START','ORGANIZATION_TYPE'])"
   ]
  },
  {
   "cell_type": "markdown",
   "id": "a57e2883",
   "metadata": {},
   "source": [
    "Look at NAME_TYPE_SUITE,NAME_INCOME_TYPE,NAME_EDUCATION_TYPE,NAME_FAMILY_STATUS,NAME_HOUSING_TYPE, see if average default rate is largely different by categories"
   ]
  },
  {
   "cell_type": "code",
   "execution_count": 22,
   "id": "05063b19",
   "metadata": {},
   "outputs": [
    {
     "data": {
      "text/plain": [
       "<AxesSubplot:xlabel='NAME_TYPE_SUITE'>"
      ]
     },
     "execution_count": 22,
     "metadata": {},
     "output_type": "execute_result"
    },
    {
     "data": {
      "image/png": "[encoded data removed]",
      "text/plain": [
       "<Figure size 432x288 with 1 Axes>"
      ]
     },
     "metadata": {
      "needs_background": "light"
     },
     "output_type": "display_data"
    }
   ],
   "source": [
    "client_df1.groupby('NAME_TYPE_SUITE')['TARGET'].mean().plot(kind='bar')"
   ]
  },
  {
   "cell_type": "code",
   "execution_count": 23,
   "id": "117ed4c3",
   "metadata": {},
   "outputs": [
    {
     "data": {
      "text/plain": [
       "<AxesSubplot:xlabel='NAME_INCOME_TYPE'>"
      ]
     },
     "execution_count": 23,
     "metadata": {},
     "output_type": "execute_result"
    },
    {
     "data": {
      "image/png": "[encoded data removed]",
      "text/plain": [
       "<Figure size 432x288 with 1 Axes>"
      ]
     },
     "metadata": {
      "needs_background": "light"
     },
     "output_type": "display_data"
    }
   ],
   "source": [
    "client_df1.groupby('NAME_INCOME_TYPE')['TARGET'].mean().plot(kind='bar')"
   ]
  },
  {
   "cell_type": "code",
   "execution_count": 24,
   "id": "93a98150",
   "metadata": {},
   "outputs": [
    {
     "data": {
      "text/plain": [
       "<AxesSubplot:xlabel='NAME_EDUCATION_TYPE'>"
      ]
     },
     "execution_count": 24,
     "metadata": {},
     "output_type": "execute_result"
    },
    {
     "data": {
      "image/png": "[encoded data removed]",
      "text/plain": [
       "<Figure size 432x288 with 1 Axes>"
      ]
     },
     "metadata": {
      "needs_background": "light"
     },
     "output_type": "display_data"
    }
   ],
   "source": [
    "client_df1.groupby('NAME_EDUCATION_TYPE')['TARGET'].mean().plot(kind='bar')"
   ]
  },
  {
   "cell_type": "code",
   "execution_count": 25,
   "id": "7231584c",
   "metadata": {},
   "outputs": [
    {
     "data": {
      "text/plain": [
       "<AxesSubplot:xlabel='NAME_FAMILY_STATUS'>"
      ]
     },
     "execution_count": 25,
     "metadata": {},
     "output_type": "execute_result"
    },
    {
     "data": {
      "image/png": "[encoded data removed]",
      "text/plain": [
       "<Figure size 432x288 with 1 Axes>"
      ]
     },
     "metadata": {
      "needs_background": "light"
     },
     "output_type": "display_data"
    }
   ],
   "source": [
    "client_df1.groupby('NAME_FAMILY_STATUS')['TARGET'].mean().plot(kind='bar')"
   ]
  },
  {
   "cell_type": "code",
   "execution_count": 26,
   "id": "98336c39",
   "metadata": {},
   "outputs": [
    {
     "data": {
      "text/plain": [
       "<AxesSubplot:xlabel='NAME_HOUSING_TYPE'>"
      ]
     },
     "execution_count": 26,
     "metadata": {},
     "output_type": "execute_result"
    },
    {
     "data": {
      "image/png": "[encoded data removed]",
      "text/plain": [
       "<Figure size 432x288 with 1 Axes>"
      ]
     },
     "metadata": {
      "needs_background": "light"
     },
     "output_type": "display_data"
    }
   ],
   "source": [
    "client_df1.groupby('NAME_HOUSING_TYPE')['TARGET'].mean().plot(kind='bar')"
   ]
  },
  {
   "cell_type": "markdown",
   "id": "ed1e5ba2",
   "metadata": {},
   "source": [
    "## Observation: \n",
    "\n",
    "'NAME_TYPE_SUITE' doesn't seem to be an important feature\n",
    "\n",
    "'NAME_INCOME_TYPE' = maternity leave or unemployed, looks to have obvious higher default rate\n",
    "\n",
    "'NAME_EDUCATION_TYPE' default rate raised along group: 'academic degree' -> 'higher education' -> 'incomplete higher' -> 'secondary special' -> 'lower secondary'\n",
    "\n",
    "'NAME_FAMILY_STATUS'='widow' seems to have lower default rate\n",
    "\n",
    "'NAME_HOUSING_TYPE'= 'rented apartment' and 'with parents' seem to have higher default rate"
   ]
  },
  {
   "cell_type": "code",
   "execution_count": 27,
   "id": "95d64499",
   "metadata": {},
   "outputs": [
    {
     "name": "stderr",
     "output_type": "stream",
     "text": [
      "/opt/anaconda3/lib/python3.9/site-packages/pandas/core/indexing.py:1732: SettingWithCopyWarning: \n",
      "A value is trying to be set on a copy of a slice from a DataFrame\n",
      "\n",
      "See the caveats in the documentation: https://pandas.pydata.org/pandas-docs/stable/user_guide/indexing.html#returning-a-view-versus-a-copy\n",
      "  self._setitem_single_block(indexer, value, name)\n"
     ]
    }
   ],
   "source": [
    "client_df1['NAME_INCOME_TYPE'].loc[(client_df1['NAME_INCOME_TYPE']!='Maternity leave')&(client_df1['NAME_INCOME_TYPE']!='Unemployed')] = 'Others income type'\n",
    "client_df1=pd.concat([client_df1,pd.get_dummies(client_df1['NAME_INCOME_TYPE'],drop_first=True)],axis=1)"
   ]
  },
  {
   "cell_type": "code",
   "execution_count": 28,
   "id": "02173a55",
   "metadata": {},
   "outputs": [],
   "source": [
    "client_df1['NAME_EDUCATION_TYPE'].loc[client_df1['NAME_EDUCATION_TYPE']=='Lower secondary'] = 1\n",
    "client_df1['NAME_EDUCATION_TYPE'].loc[client_df1['NAME_EDUCATION_TYPE']=='Secondary / secondary special'] = 2\n",
    "client_df1['NAME_EDUCATION_TYPE'].loc[client_df1['NAME_EDUCATION_TYPE']=='Incomplete higher'] = 3\n",
    "client_df1['NAME_EDUCATION_TYPE'].loc[client_df1['NAME_EDUCATION_TYPE']=='Higher education'] = 4\n",
    "client_df1['NAME_EDUCATION_TYPE'].loc[client_df1['NAME_EDUCATION_TYPE']=='Academic degree'] = 5\n",
    "client_df1['NAME_EDUCATION_TYPE']=client_df1['NAME_EDUCATION_TYPE'].astype('int')"
   ]
  },
  {
   "cell_type": "code",
   "execution_count": 29,
   "id": "37dc2097",
   "metadata": {},
   "outputs": [],
   "source": [
    "client_df1['FLAG_WIDOW']=(client_df1['NAME_FAMILY_STATUS']=='Widow').astype('int')"
   ]
  },
  {
   "cell_type": "code",
   "execution_count": 30,
   "id": "ca4d3eb2",
   "metadata": {},
   "outputs": [],
   "source": [
    "client_df1['NAME_HOUSING_TYPE'].loc[(client_df1['NAME_HOUSING_TYPE']!='Rented apartment')&(client_df1['NAME_HOUSING_TYPE']!='With parents')] = 'Others housing type'\n",
    "client_df1=pd.concat([client_df1,pd.get_dummies(client_df1['NAME_HOUSING_TYPE'],drop_first=True)],axis=1)"
   ]
  },
  {
   "cell_type": "code",
   "execution_count": 31,
   "id": "c57db99d",
   "metadata": {},
   "outputs": [],
   "source": [
    "client_df2=client_df1.drop(columns=['NAME_TYPE_SUITE','NAME_INCOME_TYPE','NAME_FAMILY_STATUS','NAME_HOUSING_TYPE'])"
   ]
  },
  {
   "cell_type": "code",
   "execution_count": 32,
   "id": "26136773",
   "metadata": {},
   "outputs": [],
   "source": [
    "client_df2['Others income type']=client_df2['Others income type'].astype('int')\n",
    "client_df2['Unemployed']=client_df2['Unemployed'].astype('int')\n",
    "client_df2['Rented apartment']=client_df2['Rented apartment'].astype('int')\n",
    "client_df2['With parents']=client_df2['With parents'].astype('int')"
   ]
  },
  {
   "cell_type": "code",
   "execution_count": 33,
   "id": "0c8d9651",
   "metadata": {},
   "outputs": [
    {
     "name": "stdout",
     "output_type": "stream",
     "text": [
      "<class 'pandas.core.frame.DataFrame'>\n",
      "Int64Index: 307507 entries, 0 to 307510\n",
      "Data columns (total 72 columns):\n",
      " #   Column                       Non-Null Count   Dtype  \n",
      "---  ------                       --------------   -----  \n",
      " 0   SK_ID_CURR                   307507 non-null  int64  \n",
      " 1   TARGET                       307507 non-null  int64  \n",
      " 2   FLAG_OWN_CAR                 307507 non-null  int64  \n",
      " 3   FLAG_OWN_REALTY              307507 non-null  int64  \n",
      " 4   CNT_CHILDREN                 307507 non-null  int64  \n",
      " 5   AMT_INCOME_TOTAL             307507 non-null  float64\n",
      " 6   AMT_CREDIT                   307507 non-null  float64\n",
      " 7   AMT_ANNUITY                  307507 non-null  float64\n",
      " 8   AMT_GOODS_PRICE              307507 non-null  float64\n",
      " 9   NAME_EDUCATION_TYPE          307507 non-null  int64  \n",
      " 10  REGION_POPULATION_RELATIVE   307507 non-null  float64\n",
      " 11  DAYS_BIRTH                   307507 non-null  int64  \n",
      " 12  DAYS_EMPLOYED                307507 non-null  int64  \n",
      " 13  DAYS_REGISTRATION            307507 non-null  float64\n",
      " 14  DAYS_ID_PUBLISH              307507 non-null  int64  \n",
      " 15  FLAG_MOBIL                   307507 non-null  int64  \n",
      " 16  FLAG_EMP_PHONE               307507 non-null  int64  \n",
      " 17  FLAG_WORK_PHONE              307507 non-null  int64  \n",
      " 18  FLAG_CONT_MOBILE             307507 non-null  int64  \n",
      " 19  FLAG_PHONE                   307507 non-null  int64  \n",
      " 20  FLAG_EMAIL                   307507 non-null  int64  \n",
      " 21  CNT_FAM_MEMBERS              307507 non-null  float64\n",
      " 22  REGION_RATING_CLIENT         307507 non-null  int64  \n",
      " 23  REGION_RATING_CLIENT_W_CITY  307507 non-null  int64  \n",
      " 24  HOUR_APPR_PROCESS_START      307507 non-null  int64  \n",
      " 25  REG_REGION_NOT_LIVE_REGION   307507 non-null  int64  \n",
      " 26  REG_REGION_NOT_WORK_REGION   307507 non-null  int64  \n",
      " 27  LIVE_REGION_NOT_WORK_REGION  307507 non-null  int64  \n",
      " 28  REG_CITY_NOT_LIVE_CITY       307507 non-null  int64  \n",
      " 29  REG_CITY_NOT_WORK_CITY       307507 non-null  int64  \n",
      " 30  LIVE_CITY_NOT_WORK_CITY      307507 non-null  int64  \n",
      " 31  EXT_SOURCE_2                 307507 non-null  float64\n",
      " 32  OBS_30_CNT_SOCIAL_CIRCLE     307507 non-null  float64\n",
      " 33  DEF_30_CNT_SOCIAL_CIRCLE     307507 non-null  float64\n",
      " 34  OBS_60_CNT_SOCIAL_CIRCLE     307507 non-null  float64\n",
      " 35  DEF_60_CNT_SOCIAL_CIRCLE     307507 non-null  float64\n",
      " 36  DAYS_LAST_PHONE_CHANGE       307507 non-null  float64\n",
      " 37  FLAG_DOCUMENT_2              307507 non-null  int64  \n",
      " 38  FLAG_DOCUMENT_3              307507 non-null  int64  \n",
      " 39  FLAG_DOCUMENT_4              307507 non-null  int64  \n",
      " 40  FLAG_DOCUMENT_5              307507 non-null  int64  \n",
      " 41  FLAG_DOCUMENT_6              307507 non-null  int64  \n",
      " 42  FLAG_DOCUMENT_7              307507 non-null  int64  \n",
      " 43  FLAG_DOCUMENT_8              307507 non-null  int64  \n",
      " 44  FLAG_DOCUMENT_9              307507 non-null  int64  \n",
      " 45  FLAG_DOCUMENT_10             307507 non-null  int64  \n",
      " 46  FLAG_DOCUMENT_11             307507 non-null  int64  \n",
      " 47  FLAG_DOCUMENT_12             307507 non-null  int64  \n",
      " 48  FLAG_DOCUMENT_13             307507 non-null  int64  \n",
      " 49  FLAG_DOCUMENT_14             307507 non-null  int64  \n",
      " 50  FLAG_DOCUMENT_15             307507 non-null  int64  \n",
      " 51  FLAG_DOCUMENT_16             307507 non-null  int64  \n",
      " 52  FLAG_DOCUMENT_17             307507 non-null  int64  \n",
      " 53  FLAG_DOCUMENT_18             307507 non-null  int64  \n",
      " 54  FLAG_DOCUMENT_19             307507 non-null  int64  \n",
      " 55  FLAG_DOCUMENT_20             307507 non-null  int64  \n",
      " 56  FLAG_DOCUMENT_21             307507 non-null  int64  \n",
      " 57  AMT_REQ_CREDIT_BUREAU_HOUR   307507 non-null  float64\n",
      " 58  AMT_REQ_CREDIT_BUREAU_DAY    307507 non-null  float64\n",
      " 59  AMT_REQ_CREDIT_BUREAU_WEEK   307507 non-null  float64\n",
      " 60  AMT_REQ_CREDIT_BUREAU_MON    307507 non-null  float64\n",
      " 61  AMT_REQ_CREDIT_BUREAU_QRT    307507 non-null  float64\n",
      " 62  AMT_REQ_CREDIT_BUREAU_YEAR   307507 non-null  float64\n",
      " 63  AMT_CREDIT_SUM               307507 non-null  float64\n",
      " 64  AMT_CREDIT_SUM_DEBT          307507 non-null  float64\n",
      " 65  FLAG_CASH_LOANS              307507 non-null  int64  \n",
      " 66  GENDER                       307507 non-null  int64  \n",
      " 67  Others income type           307507 non-null  int64  \n",
      " 68  Unemployed                   307507 non-null  int64  \n",
      " 69  FLAG_WIDOW                   307507 non-null  int64  \n",
      " 70  Rented apartment             307507 non-null  int64  \n",
      " 71  With parents                 307507 non-null  int64  \n",
      "dtypes: float64(21), int64(51)\n",
      "memory usage: 171.3 MB\n"
     ]
    }
   ],
   "source": [
    "client_df2.info()"
   ]
  },
  {
   "cell_type": "markdown",
   "id": "1581e222",
   "metadata": {},
   "source": [
    "## change days into year"
   ]
  },
  {
   "cell_type": "code",
   "execution_count": 34,
   "id": "48eff163",
   "metadata": {},
   "outputs": [],
   "source": [
    "client_df2['AGE']=client_df2['DAYS_BIRTH']/(-365)\n",
    "client_df2['YEAR_LAST_PHONE_CHANGE']=client_df2['DAYS_LAST_PHONE_CHANGE']/(-365)\n",
    "client_df2['YEAR_ID_PUBLISH']=client_df2['DAYS_ID_PUBLISH']/(-365)\n",
    "client_df2['YEAR_REGISTRATION']=client_df2['DAYS_REGISTRATION']/(-365)\n",
    "client_df2['YEAR_EMPLOYED']=client_df2['DAYS_EMPLOYED']/(-365)\n",
    "client_df2=client_df2.drop(columns=['DAYS_LAST_PHONE_CHANGE','DAYS_ID_PUBLISH','DAYS_BIRTH','DAYS_REGISTRATION','DAYS_EMPLOYED'])"
   ]
  },
  {
   "cell_type": "markdown",
   "id": "d21f16a8",
   "metadata": {},
   "source": [
    "## Feature Engineering"
   ]
  },
  {
   "cell_type": "code",
   "execution_count": 35,
   "id": "8510ed3b",
   "metadata": {},
   "outputs": [],
   "source": [
    "import matplotlib.pyplot as plt"
   ]
  },
  {
   "cell_type": "code",
   "execution_count": 36,
   "id": "d7edf6cf",
   "metadata": {},
   "outputs": [
    {
     "data": {
      "text/plain": [
       "(array([ 6.70853217, 17.93039619, 43.46901895, 32.61594859, 40.69428575,\n",
       "        11.08677477, 15.17322459, 56.36869146, 28.92936295, 14.5220944 ,\n",
       "        40.46463403, 15.07190765, 31.72435953,  8.96452265, 22.1627424 ,\n",
       "         0.        ,  0.        ,  0.        ,  0.        , 18.15869702,\n",
       "         0.        ,  0.        ,  0.        ,  0.        ,  0.        ,\n",
       "         0.        ,  0.        ,  0.        ,  0.        , 11.36370773]),\n",
       " array([0.00029   , 0.00269727, 0.00510453, 0.0075118 , 0.00991907,\n",
       "        0.01232633, 0.0147336 , 0.01714087, 0.01954813, 0.0219554 ,\n",
       "        0.02436267, 0.02676993, 0.0291772 , 0.03158447, 0.03399173,\n",
       "        0.036399  , 0.03880627, 0.04121353, 0.0436208 , 0.04602807,\n",
       "        0.04843533, 0.0508426 , 0.05324987, 0.05565713, 0.0580644 ,\n",
       "        0.06047167, 0.06287893, 0.0652862 , 0.06769347, 0.07010073,\n",
       "        0.072508  ]),\n",
       " <BarContainer object of 30 artists>)"
      ]
     },
     "execution_count": 36,
     "metadata": {},
     "output_type": "execute_result"
    },
    {
     "data": {
      "image/png": "[encoded data removed]",
      "text/plain": [
       "<Figure size 432x288 with 1 Axes>"
      ]
     },
     "metadata": {
      "needs_background": "light"
     },
     "output_type": "display_data"
    }
   ],
   "source": [
    "plt.hist(client_df2['REGION_POPULATION_RELATIVE'], density=True, bins=30)"
   ]
  },
  {
   "cell_type": "code",
   "execution_count": 37,
   "id": "7e144772",
   "metadata": {},
   "outputs": [
    {
     "data": {
      "text/plain": [
       "0.072508"
      ]
     },
     "execution_count": 37,
     "metadata": {},
     "output_type": "execute_result"
    }
   ],
   "source": [
    "max(client_df2['REGION_POPULATION_RELATIVE'])"
   ]
  },
  {
   "cell_type": "code",
   "execution_count": 38,
   "id": "b271a87f",
   "metadata": {},
   "outputs": [],
   "source": [
    "client_df2['REGION_POPULATION_RELATIVE'].loc[client_df2['REGION_POPULATION_RELATIVE']>0.05] = 3\n",
    "client_df2['REGION_POPULATION_RELATIVE'].loc[(client_df2['REGION_POPULATION_RELATIVE']<=0.05)&(client_df2['REGION_POPULATION_RELATIVE']>0.025)] = 2\n",
    "client_df2['REGION_POPULATION_RELATIVE'].loc[client_df2['REGION_POPULATION_RELATIVE']<=0.025] = 1"
   ]
  },
  {
   "cell_type": "code",
   "execution_count": 39,
   "id": "6511419b",
   "metadata": {},
   "outputs": [
    {
     "data": {
      "text/plain": [
       "1.0    204420\n",
       "2.0     94675\n",
       "3.0      8412\n",
       "Name: REGION_POPULATION_RELATIVE, dtype: int64"
      ]
     },
     "execution_count": 39,
     "metadata": {},
     "output_type": "execute_result"
    }
   ],
   "source": [
    "client_df2['REGION_POPULATION_RELATIVE'].value_counts()"
   ]
  },
  {
   "cell_type": "code",
   "execution_count": 40,
   "id": "0cdafdd4",
   "metadata": {},
   "outputs": [
    {
     "data": {
      "text/plain": [
       "<AxesSubplot:xlabel='REGION_POPULATION_RELATIVE'>"
      ]
     },
     "execution_count": 40,
     "metadata": {},
     "output_type": "execute_result"
    },
    {
     "data": {
      "image/png": "[encoded data removed]",
      "text/plain": [
       "<Figure size 432x288 with 1 Axes>"
      ]
     },
     "metadata": {
      "needs_background": "light"
     },
     "output_type": "display_data"
    }
   ],
   "source": [
    "client_df2.groupby('REGION_POPULATION_RELATIVE')['TARGET'].mean().plot(kind='bar')"
   ]
  },
  {
   "cell_type": "code",
   "execution_count": 41,
   "id": "88c3928a",
   "metadata": {},
   "outputs": [],
   "source": [
    "client_df2['AMT_CREDIT_SUM'].loc[client_df2['AMT_CREDIT_SUM']==0] = 1\n",
    "client_df2['DEBT_CREDIT_R']=client_df2['AMT_CREDIT_SUM_DEBT']/client_df2['AMT_CREDIT_SUM']\n",
    "client_df2['CREDIT_ANNUITY_R']=client_df2['AMT_CREDIT']/client_df2['AMT_ANNUITY']"
   ]
  },
  {
   "cell_type": "code",
   "execution_count": 42,
   "id": "8521e3a7",
   "metadata": {},
   "outputs": [
    {
     "data": {
      "text/plain": [
       "75108    -3112461.135\n",
       "296055     -25959.645\n",
       "123864      -8090.685\n",
       "48658       -7549.830\n",
       "289760      -7039.530\n",
       "             ...     \n",
       "92248       54587.835\n",
       "240312      79141.500\n",
       "92926      104654.520\n",
       "99268      227419.695\n",
       "274659    2250000.000\n",
       "Name: DEBT_CREDIT_R, Length: 307507, dtype: float64"
      ]
     },
     "execution_count": 42,
     "metadata": {},
     "output_type": "execute_result"
    }
   ],
   "source": [
    "client_df2['DEBT_CREDIT_R'].sort_values()"
   ]
  },
  {
   "cell_type": "code",
   "execution_count": 43,
   "id": "25cf7ede",
   "metadata": {},
   "outputs": [],
   "source": [
    "client_df2.to_csv('/Users/jaszeng/Desktop/Metis/Classification/client_df2.csv',index=False)"
   ]
  },
  {
   "cell_type": "code",
   "execution_count": 44,
   "id": "9abc3ebb",
   "metadata": {},
   "outputs": [
    {
     "data": {
      "text/html": [
       "<div>\n",
       "<style scoped>\n",
       "    .dataframe tbody tr th:only-of-type {\n",
       "        vertical-align: middle;\n",
       "    }\n",
       "\n",
       "    .dataframe tbody tr th {\n",
       "        vertical-align: top;\n",
       "    }\n",
       "\n",
       "    .dataframe thead th {\n",
       "        text-align: right;\n",
       "    }\n",
       "</style>\n",
       "<table border=\"1\" class=\"dataframe\">\n",
       "  <thead>\n",
       "    <tr style=\"text-align: right;\">\n",
       "      <th></th>\n",
       "      <th>SK_ID_CURR</th>\n",
       "      <th>TARGET</th>\n",
       "      <th>FLAG_OWN_CAR</th>\n",
       "      <th>FLAG_OWN_REALTY</th>\n",
       "      <th>CNT_CHILDREN</th>\n",
       "      <th>AMT_INCOME_TOTAL</th>\n",
       "      <th>AMT_CREDIT</th>\n",
       "      <th>AMT_ANNUITY</th>\n",
       "      <th>AMT_GOODS_PRICE</th>\n",
       "      <th>NAME_EDUCATION_TYPE</th>\n",
       "      <th>...</th>\n",
       "      <th>FLAG_WIDOW</th>\n",
       "      <th>Rented apartment</th>\n",
       "      <th>With parents</th>\n",
       "      <th>AGE</th>\n",
       "      <th>YEAR_LAST_PHONE_CHANGE</th>\n",
       "      <th>YEAR_ID_PUBLISH</th>\n",
       "      <th>YEAR_REGISTRATION</th>\n",
       "      <th>YEAR_EMPLOYED</th>\n",
       "      <th>DEBT_CREDIT_R</th>\n",
       "      <th>CREDIT_ANNUITY_R</th>\n",
       "    </tr>\n",
       "  </thead>\n",
       "  <tbody>\n",
       "    <tr>\n",
       "      <th>307317</th>\n",
       "      <td>456045</td>\n",
       "      <td>0</td>\n",
       "      <td>0</td>\n",
       "      <td>1</td>\n",
       "      <td>1</td>\n",
       "      <td>112500.0</td>\n",
       "      <td>808650.0</td>\n",
       "      <td>23643.0</td>\n",
       "      <td>675000.0</td>\n",
       "      <td>4</td>\n",
       "      <td>...</td>\n",
       "      <td>0</td>\n",
       "      <td>0</td>\n",
       "      <td>0</td>\n",
       "      <td>37.668493</td>\n",
       "      <td>0.232877</td>\n",
       "      <td>16.375342</td>\n",
       "      <td>8.482192</td>\n",
       "      <td>1.167123</td>\n",
       "      <td>0.742630</td>\n",
       "      <td>34.202512</td>\n",
       "    </tr>\n",
       "    <tr>\n",
       "      <th>263207</th>\n",
       "      <td>404772</td>\n",
       "      <td>0</td>\n",
       "      <td>0</td>\n",
       "      <td>1</td>\n",
       "      <td>0</td>\n",
       "      <td>157500.0</td>\n",
       "      <td>136512.0</td>\n",
       "      <td>10912.5</td>\n",
       "      <td>108000.0</td>\n",
       "      <td>1</td>\n",
       "      <td>...</td>\n",
       "      <td>0</td>\n",
       "      <td>0</td>\n",
       "      <td>0</td>\n",
       "      <td>57.991781</td>\n",
       "      <td>4.030137</td>\n",
       "      <td>8.912329</td>\n",
       "      <td>6.668493</td>\n",
       "      <td>9.095890</td>\n",
       "      <td>0.000000</td>\n",
       "      <td>12.509691</td>\n",
       "    </tr>\n",
       "    <tr>\n",
       "      <th>35586</th>\n",
       "      <td>141214</td>\n",
       "      <td>0</td>\n",
       "      <td>0</td>\n",
       "      <td>0</td>\n",
       "      <td>0</td>\n",
       "      <td>207000.0</td>\n",
       "      <td>1078200.0</td>\n",
       "      <td>31653.0</td>\n",
       "      <td>900000.0</td>\n",
       "      <td>4</td>\n",
       "      <td>...</td>\n",
       "      <td>0</td>\n",
       "      <td>0</td>\n",
       "      <td>1</td>\n",
       "      <td>24.909589</td>\n",
       "      <td>1.156164</td>\n",
       "      <td>4.627397</td>\n",
       "      <td>9.975342</td>\n",
       "      <td>2.890411</td>\n",
       "      <td>0.681285</td>\n",
       "      <td>34.063122</td>\n",
       "    </tr>\n",
       "    <tr>\n",
       "      <th>261084</th>\n",
       "      <td>402171</td>\n",
       "      <td>1</td>\n",
       "      <td>0</td>\n",
       "      <td>0</td>\n",
       "      <td>0</td>\n",
       "      <td>90000.0</td>\n",
       "      <td>808650.0</td>\n",
       "      <td>26217.0</td>\n",
       "      <td>675000.0</td>\n",
       "      <td>2</td>\n",
       "      <td>...</td>\n",
       "      <td>0</td>\n",
       "      <td>0</td>\n",
       "      <td>0</td>\n",
       "      <td>37.032877</td>\n",
       "      <td>1.978082</td>\n",
       "      <td>1.002740</td>\n",
       "      <td>20.849315</td>\n",
       "      <td>2.221918</td>\n",
       "      <td>0.327563</td>\n",
       "      <td>30.844490</td>\n",
       "    </tr>\n",
       "    <tr>\n",
       "      <th>57148</th>\n",
       "      <td>166239</td>\n",
       "      <td>0</td>\n",
       "      <td>0</td>\n",
       "      <td>1</td>\n",
       "      <td>0</td>\n",
       "      <td>90000.0</td>\n",
       "      <td>450000.0</td>\n",
       "      <td>25965.0</td>\n",
       "      <td>450000.0</td>\n",
       "      <td>2</td>\n",
       "      <td>...</td>\n",
       "      <td>0</td>\n",
       "      <td>0</td>\n",
       "      <td>0</td>\n",
       "      <td>24.821918</td>\n",
       "      <td>2.800000</td>\n",
       "      <td>2.254795</td>\n",
       "      <td>10.353425</td>\n",
       "      <td>3.109589</td>\n",
       "      <td>0.684836</td>\n",
       "      <td>17.331023</td>\n",
       "    </tr>\n",
       "  </tbody>\n",
       "</table>\n",
       "<p>5 rows × 74 columns</p>\n",
       "</div>"
      ],
      "text/plain": [
       "        SK_ID_CURR  TARGET  FLAG_OWN_CAR  FLAG_OWN_REALTY  CNT_CHILDREN  \\\n",
       "307317      456045       0             0                1             1   \n",
       "263207      404772       0             0                1             0   \n",
       "35586       141214       0             0                0             0   \n",
       "261084      402171       1             0                0             0   \n",
       "57148       166239       0             0                1             0   \n",
       "\n",
       "        AMT_INCOME_TOTAL  AMT_CREDIT  AMT_ANNUITY  AMT_GOODS_PRICE  \\\n",
       "307317          112500.0    808650.0      23643.0         675000.0   \n",
       "263207          157500.0    136512.0      10912.5         108000.0   \n",
       "35586           207000.0   1078200.0      31653.0         900000.0   \n",
       "261084           90000.0    808650.0      26217.0         675000.0   \n",
       "57148            90000.0    450000.0      25965.0         450000.0   \n",
       "\n",
       "        NAME_EDUCATION_TYPE  ...  FLAG_WIDOW  Rented apartment  With parents  \\\n",
       "307317                    4  ...           0                 0             0   \n",
       "263207                    1  ...           0                 0             0   \n",
       "35586                     4  ...           0                 0             1   \n",
       "261084                    2  ...           0                 0             0   \n",
       "57148                     2  ...           0                 0             0   \n",
       "\n",
       "              AGE  YEAR_LAST_PHONE_CHANGE  YEAR_ID_PUBLISH  YEAR_REGISTRATION  \\\n",
       "307317  37.668493                0.232877        16.375342           8.482192   \n",
       "263207  57.991781                4.030137         8.912329           6.668493   \n",
       "35586   24.909589                1.156164         4.627397           9.975342   \n",
       "261084  37.032877                1.978082         1.002740          20.849315   \n",
       "57148   24.821918                2.800000         2.254795          10.353425   \n",
       "\n",
       "        YEAR_EMPLOYED  DEBT_CREDIT_R  CREDIT_ANNUITY_R  \n",
       "307317       1.167123       0.742630         34.202512  \n",
       "263207       9.095890       0.000000         12.509691  \n",
       "35586        2.890411       0.681285         34.063122  \n",
       "261084       2.221918       0.327563         30.844490  \n",
       "57148        3.109589       0.684836         17.331023  \n",
       "\n",
       "[5 rows x 74 columns]"
      ]
     },
     "execution_count": 44,
     "metadata": {},
     "output_type": "execute_result"
    }
   ],
   "source": [
    "import pandas as pd\n",
    "client_df2=pd.read_csv(\"/Users/jaszeng/Desktop/Metis/Classification/client_df2.csv\")\n",
    "client_df2.sample(5)"
   ]
  },
  {
   "cell_type": "code",
   "execution_count": 45,
   "id": "e77646c8",
   "metadata": {},
   "outputs": [
    {
     "data": {
      "text/plain": [
       "(307507, 74)"
      ]
     },
     "execution_count": 45,
     "metadata": {},
     "output_type": "execute_result"
    }
   ],
   "source": [
    "client_df2.shape"
   ]
  },
  {
   "cell_type": "markdown",
   "id": "f320812b",
   "metadata": {},
   "source": [
    "Split data into train and test data and build a baseline model"
   ]
  },
  {
   "cell_type": "code",
   "execution_count": 46,
   "id": "1ed2fe42",
   "metadata": {},
   "outputs": [],
   "source": [
    "from sklearn.linear_model import LogisticRegression\n",
    "from sklearn.model_selection import train_test_split"
   ]
  },
  {
   "cell_type": "code",
   "execution_count": 47,
   "id": "3a6f724e",
   "metadata": {},
   "outputs": [],
   "source": [
    "X=client_df2.drop(columns=['TARGET'])\n",
    "Y=client_df2['TARGET']"
   ]
  },
  {
   "cell_type": "code",
   "execution_count": 48,
   "id": "59924d04",
   "metadata": {},
   "outputs": [],
   "source": [
    "X_train,X_test,Y_train,Y_test=train_test_split(X,Y,test_size=0.2,random_state=222)"
   ]
  },
  {
   "cell_type": "markdown",
   "id": "fbca6c17",
   "metadata": {},
   "source": [
    "# Do 500 neighborhood feature engineering here"
   ]
  },
  {
   "cell_type": "code",
   "execution_count": 49,
   "id": "44bfc7fb",
   "metadata": {},
   "outputs": [],
   "source": [
    "X_train_neibs=X_train[[\"EXT_SOURCE_2\",\"CREDIT_ANNUITY_R\"]]\n",
    "X_test_neibs=X_test[[\"EXT_SOURCE_2\",\"CREDIT_ANNUITY_R\"]]"
   ]
  },
  {
   "cell_type": "code",
   "execution_count": 50,
   "id": "b25c8ef8",
   "metadata": {},
   "outputs": [
    {
     "data": {
      "text/html": [
       "<div>\n",
       "<style scoped>\n",
       "    .dataframe tbody tr th:only-of-type {\n",
       "        vertical-align: middle;\n",
       "    }\n",
       "\n",
       "    .dataframe tbody tr th {\n",
       "        vertical-align: top;\n",
       "    }\n",
       "\n",
       "    .dataframe thead th {\n",
       "        text-align: right;\n",
       "    }\n",
       "</style>\n",
       "<table border=\"1\" class=\"dataframe\">\n",
       "  <thead>\n",
       "    <tr style=\"text-align: right;\">\n",
       "      <th></th>\n",
       "      <th>EXT_SOURCE_2</th>\n",
       "      <th>CREDIT_ANNUITY_R</th>\n",
       "    </tr>\n",
       "  </thead>\n",
       "  <tbody>\n",
       "    <tr>\n",
       "      <th>190997</th>\n",
       "      <td>0.689818</td>\n",
       "      <td>34.201101</td>\n",
       "    </tr>\n",
       "    <tr>\n",
       "      <th>155532</th>\n",
       "      <td>0.055359</td>\n",
       "      <td>25.112662</td>\n",
       "    </tr>\n",
       "    <tr>\n",
       "      <th>4028</th>\n",
       "      <td>0.323341</td>\n",
       "      <td>15.359566</td>\n",
       "    </tr>\n",
       "    <tr>\n",
       "      <th>253824</th>\n",
       "      <td>0.404133</td>\n",
       "      <td>9.528620</td>\n",
       "    </tr>\n",
       "    <tr>\n",
       "      <th>22348</th>\n",
       "      <td>0.700030</td>\n",
       "      <td>20.787811</td>\n",
       "    </tr>\n",
       "  </tbody>\n",
       "</table>\n",
       "</div>"
      ],
      "text/plain": [
       "        EXT_SOURCE_2  CREDIT_ANNUITY_R\n",
       "190997      0.689818         34.201101\n",
       "155532      0.055359         25.112662\n",
       "4028        0.323341         15.359566\n",
       "253824      0.404133          9.528620\n",
       "22348       0.700030         20.787811"
      ]
     },
     "execution_count": 50,
     "metadata": {},
     "output_type": "execute_result"
    }
   ],
   "source": [
    "X_train_neibs.head()"
   ]
  },
  {
   "cell_type": "code",
   "execution_count": 51,
   "id": "2ee5ebe6",
   "metadata": {},
   "outputs": [
    {
     "data": {
      "text/plain": [
       "KNeighborsRegressor(n_neighbors=500)"
      ]
     },
     "execution_count": 51,
     "metadata": {},
     "output_type": "execute_result"
    }
   ],
   "source": [
    "from sklearn.neighbors import KNeighborsRegressor\n",
    "neigh = KNeighborsRegressor(n_neighbors=500)\n",
    "neigh.fit(X_train_neibs, Y_train)"
   ]
  },
  {
   "cell_type": "code",
   "execution_count": 52,
   "id": "553ee65d",
   "metadata": {},
   "outputs": [
    {
     "name": "stderr",
     "output_type": "stream",
     "text": [
      "/var/folders/qh/f_xd4_hs7jq5186tyc9v3gdm0000gn/T/ipykernel_9245/2930280484.py:1: SettingWithCopyWarning: \n",
      "A value is trying to be set on a copy of a slice from a DataFrame.\n",
      "Try using .loc[row_indexer,col_indexer] = value instead\n",
      "\n",
      "See the caveats in the documentation: https://pandas.pydata.org/pandas-docs/stable/user_guide/indexing.html#returning-a-view-versus-a-copy\n",
      "  X_train['neighbors_target_mean_500']=neigh.predict(X_train_neibs)\n",
      "/var/folders/qh/f_xd4_hs7jq5186tyc9v3gdm0000gn/T/ipykernel_9245/2930280484.py:2: SettingWithCopyWarning: \n",
      "A value is trying to be set on a copy of a slice from a DataFrame.\n",
      "Try using .loc[row_indexer,col_indexer] = value instead\n",
      "\n",
      "See the caveats in the documentation: https://pandas.pydata.org/pandas-docs/stable/user_guide/indexing.html#returning-a-view-versus-a-copy\n",
      "  X_test['neighbors_target_mean_500']=neigh.predict(X_test_neibs)\n"
     ]
    }
   ],
   "source": [
    "X_train['neighbors_target_mean_500']=neigh.predict(X_train_neibs)\n",
    "X_test['neighbors_target_mean_500']=neigh.predict(X_test_neibs)"
   ]
  },
  {
   "cell_type": "markdown",
   "id": "efcad734",
   "metadata": {},
   "source": [
    "Baseline model: Logistic Regression"
   ]
  },
  {
   "cell_type": "code",
   "execution_count": 53,
   "id": "ca3a5f83",
   "metadata": {},
   "outputs": [],
   "source": [
    "logit=LogisticRegression(max_iter=100000)\n",
    "logit.fit(X_train,Y_train)\n",
    "logit_pred=logit.predict(X_test)"
   ]
  },
  {
   "cell_type": "code",
   "execution_count": 54,
   "id": "6448d153",
   "metadata": {},
   "outputs": [],
   "source": [
    "def accuracy(actuals, preds):\n",
    "    return np.mean(actuals == preds)\n",
    "\n",
    "def precision(actuals, preds):\n",
    "    tp = np.sum((actuals == 1) & (preds == 1))\n",
    "    fp = np.sum((actuals == 0) & (preds == 1))\n",
    "    return tp / (tp + fp)\n",
    "\n",
    "def recall(actuals, preds):\n",
    "    tp = np.sum((actuals == 1) & (preds == 1))\n",
    "    fn = np.sum((actuals == 1) & (preds == 0))\n",
    "    return tp / (tp + fn)\n",
    "\n",
    "def F1(actuals, preds):\n",
    "    p, r = precision(actuals, preds), recall(actuals, preds)\n",
    "    return 2*p*r / (p + r)"
   ]
  },
  {
   "cell_type": "code",
   "execution_count": 55,
   "id": "6115e271",
   "metadata": {
    "scrolled": true
   },
   "outputs": [
    {
     "name": "stdout",
     "output_type": "stream",
     "text": [
      "accuracy:  0.9178563298754512\n",
      "precision:  0.0\n",
      "recall:  0.0\n",
      "F1:  nan\n"
     ]
    },
    {
     "name": "stderr",
     "output_type": "stream",
     "text": [
      "/var/folders/qh/f_xd4_hs7jq5186tyc9v3gdm0000gn/T/ipykernel_9245/3466243424.py:16: RuntimeWarning: invalid value encountered in double_scalars\n",
      "  return 2*p*r / (p + r)\n"
     ]
    }
   ],
   "source": [
    "import numpy as np\n",
    "print(\"accuracy: \",accuracy(Y_test, logit_pred))\n",
    "print(\"precision: \",precision(Y_test, logit_pred))\n",
    "print(\"recall: \",recall(Y_test, logit_pred))\n",
    "print(\"F1: \", F1(Y_test,logit_pred))"
   ]
  },
  {
   "cell_type": "code",
   "execution_count": 56,
   "id": "ec519613",
   "metadata": {},
   "outputs": [
    {
     "data": {
      "text/plain": [
       "array([1, 1, 1, 1])"
      ]
     },
     "execution_count": 56,
     "metadata": {},
     "output_type": "execute_result"
    }
   ],
   "source": [
    "logit_pred[logit_pred==1]"
   ]
  },
  {
   "cell_type": "code",
   "execution_count": 57,
   "id": "c00053b6",
   "metadata": {},
   "outputs": [],
   "source": [
    "from sklearn.ensemble import RandomForestClassifier\n",
    "\n",
    "rforest = RandomForestClassifier(random_state=42)\n",
    "rforest.fit(X_train,Y_train)\n",
    "rforest_pred=rforest.predict(X_test)"
   ]
  },
  {
   "cell_type": "code",
   "execution_count": 58,
   "id": "f9d31028",
   "metadata": {},
   "outputs": [
    {
     "name": "stdout",
     "output_type": "stream",
     "text": [
      "accuracy:  0.9180189262137817\n",
      "precision:  0.575\n",
      "recall:  0.0045562599049128365\n",
      "F1:  0.009040880503144654\n"
     ]
    }
   ],
   "source": [
    "print(\"accuracy: \",accuracy(Y_test, rforest_pred))\n",
    "print(\"precision: \",precision(Y_test, rforest_pred))\n",
    "print(\"recall: \",recall(Y_test, rforest_pred))\n",
    "print(\"F1: \", F1(Y_test,rforest_pred))"
   ]
  },
  {
   "cell_type": "code",
   "execution_count": 59,
   "id": "365051e1",
   "metadata": {},
   "outputs": [
    {
     "data": {
      "text/plain": [
       "array([1, 1, 1, 1, 1, 1, 1, 1, 1, 1, 1, 1, 1, 1, 1, 1, 1, 1, 1, 1, 1, 1,\n",
       "       1, 1, 1, 1, 1, 1, 1, 1, 1, 1, 1, 1, 1, 1, 1, 1, 1, 1])"
      ]
     },
     "execution_count": 59,
     "metadata": {},
     "output_type": "execute_result"
    }
   ],
   "source": [
    "rforest_pred[rforest_pred==1]"
   ]
  },
  {
   "cell_type": "markdown",
   "id": "1f364fc0",
   "metadata": {},
   "source": [
    "Since all model returns prediction of zero, I guess this is the result of destructive imbalance. I would first try to down-sample my train data set. keep 15,000 default clients and 15,000 good clients and retrain the model."
   ]
  },
  {
   "cell_type": "markdown",
   "id": "0e22f39d",
   "metadata": {},
   "source": [
    "# Random Forest Baseline model to see feature importance"
   ]
  },
  {
   "cell_type": "code",
   "execution_count": 60,
   "id": "9d231e9c",
   "metadata": {},
   "outputs": [],
   "source": [
    "from sklearn.ensemble import RandomForestClassifier\n",
    "\n",
    "rforest = RandomForestClassifier(random_state=42,class_weight={1:10,0:1})\n",
    "rforest.fit(X_train, Y_train)\n",
    "rforest_pred=rforest.predict(X_test)\n",
    "rforest_fit=rforest.predict(X_train)"
   ]
  },
  {
   "cell_type": "code",
   "execution_count": 61,
   "id": "652f00e3",
   "metadata": {},
   "outputs": [
    {
     "name": "stdout",
     "output_type": "stream",
     "text": [
      "random forest confusion matrix - In Sample: \n",
      " \n",
      " [[226228      0]\n",
      " [    10  19767]]\n"
     ]
    }
   ],
   "source": [
    "from sklearn.metrics import confusion_matrix\n",
    "print(\"random forest confusion matrix - In Sample: \\n \\n\", confusion_matrix(Y_train,rforest_fit))"
   ]
  },
  {
   "cell_type": "code",
   "execution_count": 62,
   "id": "c5964429",
   "metadata": {},
   "outputs": [
    {
     "name": "stdout",
     "output_type": "stream",
     "text": [
      "random forest confusion matrix - Out of Sample: \n",
      " \n",
      " [[56436    18]\n",
      " [ 5026    22]]\n"
     ]
    }
   ],
   "source": [
    "print(\"random forest confusion matrix - Out of Sample: \\n \\n\", confusion_matrix(Y_test,rforest_pred))"
   ]
  },
  {
   "cell_type": "code",
   "execution_count": 63,
   "id": "c3a4c8ec",
   "metadata": {},
   "outputs": [],
   "source": [
    "import numpy as np"
   ]
  },
  {
   "cell_type": "code",
   "execution_count": 64,
   "id": "ea923776",
   "metadata": {},
   "outputs": [
    {
     "name": "stdout",
     "output_type": "stream",
     "text": [
      "accuracy:  0.9179864069461156\n",
      "precision:  0.55\n",
      "recall:  0.004358161648177496\n",
      "F1:  0.008647798742138365\n"
     ]
    }
   ],
   "source": [
    "print(\"accuracy: \",accuracy(Y_test, rforest_pred))\n",
    "print(\"precision: \",precision(Y_test, rforest_pred))\n",
    "print(\"recall: \",recall(Y_test, rforest_pred))\n",
    "print(\"F1: \", F1(Y_test,rforest_pred))"
   ]
  },
  {
   "cell_type": "code",
   "execution_count": 65,
   "id": "65eb5393",
   "metadata": {},
   "outputs": [],
   "source": [
    "importances = rforest.feature_importances_\n",
    "feature_names=X_train.columns\n",
    "forest_importances = pd.Series(importances, index=feature_names)\n",
    "forest_importances=forest_importances.sort_values(ascending=False)"
   ]
  },
  {
   "cell_type": "code",
   "execution_count": 66,
   "id": "ad2e9218",
   "metadata": {},
   "outputs": [
    {
     "data": {
      "text/plain": [
       "neighbors_target_mean_500     0.122611\n",
       "EXT_SOURCE_2                  0.069473\n",
       "AGE                           0.049181\n",
       "YEAR_ID_PUBLISH               0.045124\n",
       "YEAR_REGISTRATION             0.044614\n",
       "CREDIT_ANNUITY_R              0.043533\n",
       "SK_ID_CURR                    0.043471\n",
       "YEAR_EMPLOYED                 0.043364\n",
       "YEAR_LAST_PHONE_CHANGE        0.042743\n",
       "AMT_ANNUITY                   0.040996\n",
       "DEBT_CREDIT_R                 0.039474\n",
       "AMT_CREDIT_SUM                0.038505\n",
       "AMT_CREDIT                    0.037485\n",
       "AMT_CREDIT_SUM_DEBT           0.033256\n",
       "AMT_INCOME_TOTAL              0.033140\n",
       "AMT_GOODS_PRICE               0.032845\n",
       "HOUR_APPR_PROCESS_START       0.028714\n",
       "AMT_REQ_CREDIT_BUREAU_YEAR    0.019513\n",
       "OBS_30_CNT_SOCIAL_CIRCLE      0.015281\n",
       "OBS_60_CNT_SOCIAL_CIRCLE      0.015167\n",
       "dtype: float64"
      ]
     },
     "execution_count": 66,
     "metadata": {},
     "output_type": "execute_result"
    }
   ],
   "source": [
    "forest_importances[0:20]"
   ]
  },
  {
   "cell_type": "code",
   "execution_count": 67,
   "id": "26590a60",
   "metadata": {},
   "outputs": [],
   "source": [
    "ini_features_nms=['neighbors_target_mean_500','EXT_SOURCE_2','AGE','YEAR_ID_PUBLISH',\n",
    "                  'YEAR_REGISTRATION','CREDIT_ANNUITY_R','YEAR_EMPLOYED','YEAR_LAST_PHONE_CHANGE',\n",
    "                  'AMT_ANNUITY','DEBT_CREDIT_R','AMT_CREDIT_SUM','HOUR_APPR_PROCESS_START',\n",
    "                  'OBS_30_CNT_SOCIAL_CIRCLE','REGION_POPULATION_RELATIVE']\n",
    "forest_importances=forest_importances[ini_features_nms]"
   ]
  },
  {
   "cell_type": "code",
   "execution_count": 68,
   "id": "6c88447e",
   "metadata": {},
   "outputs": [],
   "source": [
    "std = np.std([tree.feature_importances_ for tree in rforest.estimators_], axis=0)\n",
    "feature_std = pd.Series(std, index=feature_names)\n",
    "STD=feature_std[forest_importances.index]"
   ]
  },
  {
   "cell_type": "code",
   "execution_count": 69,
   "id": "909a38d6",
   "metadata": {},
   "outputs": [
    {
     "data": {
      "image/png": "[encoded data removed]",
      "text/plain": [
       "<Figure size 432x288 with 1 Axes>"
      ]
     },
     "metadata": {
      "needs_background": "light"
     },
     "output_type": "display_data"
    }
   ],
   "source": [
    "import matplotlib.pyplot as plt\n",
    "fig, ax = plt.subplots()\n",
    "forest_importances.plot.bar(yerr=STD, ax=ax)\n",
    "ax.set_title(\"Feature importances using MDI\")\n",
    "ax.set_ylabel(\"Mean decrease in impurity\")\n",
    "fig.tight_layout()"
   ]
  },
  {
   "cell_type": "code",
   "execution_count": 70,
   "id": "7c9bc424",
   "metadata": {},
   "outputs": [],
   "source": [
    "X_train2=X_train[ini_features_nms]\n",
    "X_test2=X_test[ini_features_nms]"
   ]
  },
  {
   "cell_type": "code",
   "execution_count": 71,
   "id": "5b1140ca",
   "metadata": {},
   "outputs": [],
   "source": [
    "rforest = RandomForestClassifier(random_state=42,class_weight={1:10,0:1})"
   ]
  },
  {
   "cell_type": "code",
   "execution_count": 72,
   "id": "57aa8e99",
   "metadata": {},
   "outputs": [],
   "source": [
    "from sklearn.metrics import roc_auc_score, roc_curve"
   ]
  },
  {
   "cell_type": "code",
   "execution_count": 73,
   "id": "ad9bac19",
   "metadata": {},
   "outputs": [],
   "source": [
    "def model_performance (mdl,X_train,Y_train,X_test,Y_test):\n",
    "    mdl.fit(X_train, Y_train)\n",
    "    mdl_fit=mdl.predict(X_train)\n",
    "    mdl_fitpro=mdl.predict_proba(X_train)\n",
    "    mdl_pred=mdl.predict(X_test)\n",
    "    mdl_predpro=mdl.predict_proba(X_test)\n",
    "    print(\"In Sample confusion matrix: \\n \\n\", confusion_matrix(Y_train,mdl_fit),\"\\n \\n\")\n",
    "    print(\"Out of Sample confusion matrix: \\n \\n\", confusion_matrix(Y_test,mdl_pred),\"\\n \\n\")\n",
    "    print(\"In Sample ROC AUC score: \", roc_auc_score(Y_train,mdl_fitpro[:,1]),\"\\n \\n\")\n",
    "    print(\"Out of Sample ROC AUC score: \", roc_auc_score(Y_test,mdl_predpro[:,1]),\"\\n \\n\")\n",
    "    false_positive_rate1, true_positive_rate1, threshold1 = roc_curve(Y_test, mdl_predpro[:,1])\n",
    "    plt.subplots(1, figsize=(10,10))\n",
    "    plt.title('ROC Curve')\n",
    "    plt.plot(false_positive_rate1, true_positive_rate1)\n",
    "    plt.plot([0, 1], ls=\"--\")\n",
    "    plt.plot([0, 0], [1, 0] , c=\".7\"), plt.plot([1, 1] , c=\".7\")\n",
    "    plt.ylabel('True Positive Rate')\n",
    "    plt.xlabel('False Positive Rate')\n",
    "    plt.show()"
   ]
  },
  {
   "cell_type": "code",
   "execution_count": 74,
   "id": "9a0388c2",
   "metadata": {},
   "outputs": [
    {
     "name": "stdout",
     "output_type": "stream",
     "text": [
      "In Sample confusion matrix: \n",
      " \n",
      " [[226228      0]\n",
      " [     9  19768]] \n",
      " \n",
      "\n",
      "Out of Sample confusion matrix: \n",
      " \n",
      " [[56419    35]\n",
      " [ 5013    35]] \n",
      " \n",
      "\n",
      "In Sample ROC AUC score:  1.0 \n",
      " \n",
      "\n",
      "Out of Sample ROC AUC score:  0.7112963557079164 \n",
      " \n",
      "\n"
     ]
    },
    {
     "data": {
      "image/png": "[encoded data removed]",
      "text/plain": [
       "<Figure size 720x720 with 1 Axes>"
      ]
     },
     "metadata": {
      "needs_background": "light"
     },
     "output_type": "display_data"
    }
   ],
   "source": [
    "model_performance(rforest,X_train2,Y_train,X_test2,Y_test)"
   ]
  },
  {
   "cell_type": "code",
   "execution_count": 75,
   "id": "2e221e69",
   "metadata": {},
   "outputs": [],
   "source": [
    "from xgboost import XGBClassifier\n",
    "xgboost = XGBClassifier(scale_pos_weight=90)"
   ]
  },
  {
   "cell_type": "code",
   "execution_count": 76,
   "id": "3e2a97ae",
   "metadata": {},
   "outputs": [],
   "source": [
    "#from sklearn.ensemble import AdaBoostClassifier,GradientBoostingClassifier\n",
    "#AdaBst=AdaBoostClassifier(random_state=42,class_weight={1:10,0:1})"
   ]
  },
  {
   "cell_type": "code",
   "execution_count": 77,
   "id": "e82f2813",
   "metadata": {},
   "outputs": [
    {
     "name": "stderr",
     "output_type": "stream",
     "text": [
      "/opt/anaconda3/lib/python3.9/site-packages/xgboost/sklearn.py:1224: UserWarning: The use of label encoder in XGBClassifier is deprecated and will be removed in a future release. To remove this warning, do the following: 1) Pass option use_label_encoder=False when constructing XGBClassifier object; and 2) Encode your labels (y) as integers starting with 0, i.e. 0, 1, 2, ..., [num_class - 1].\n",
      "  warnings.warn(label_encoder_deprecation_msg, UserWarning)\n"
     ]
    },
    {
     "name": "stdout",
     "output_type": "stream",
     "text": [
      "[00:34:49] WARNING: /Users/runner/miniforge3/conda-bld/xgboost-split_1645117948562/work/src/learner.cc:1115: Starting in XGBoost 1.3.0, the default evaluation metric used with the objective 'binary:logistic' was changed from 'error' to 'logloss'. Explicitly set eval_metric if you'd like to restore the old behavior.\n",
      "In Sample confusion matrix: \n",
      " \n",
      " [[ 46008 180220]\n",
      " [     3  19774]] \n",
      " \n",
      "\n",
      "Out of Sample confusion matrix: \n",
      " \n",
      " [[10933 45521]\n",
      " [  321  4727]] \n",
      " \n",
      "\n",
      "In Sample ROC AUC score:  0.8160600852760753 \n",
      " \n",
      "\n",
      "Out of Sample ROC AUC score:  0.7072345992869558 \n",
      " \n",
      "\n"
     ]
    },
    {
     "data": {
      "image/png": "[encoded data removed]",
      "text/plain": [
       "<Figure size 720x720 with 1 Axes>"
      ]
     },
     "metadata": {
      "needs_background": "light"
     },
     "output_type": "display_data"
    }
   ],
   "source": [
    "model_performance(xgboost,X_train2,Y_train,X_test2,Y_test)"
   ]
  },
  {
   "cell_type": "markdown",
   "id": "2dfb75c5",
   "metadata": {},
   "source": [
    "setting up cross validation using roc-auc metrics"
   ]
  },
  {
   "cell_type": "code",
   "execution_count": 79,
   "id": "b54fddb6",
   "metadata": {},
   "outputs": [],
   "source": [
    "from sklearn.model_selection import cross_val_score\n",
    "from sklearn.ensemble import VotingClassifier"
   ]
  },
  {
   "cell_type": "code",
   "execution_count": 80,
   "id": "3748fba6",
   "metadata": {},
   "outputs": [],
   "source": [
    "model_dict1={}\n",
    "model_dict1['Logistic Regression']=LogisticRegression(max_iter=100000,class_weight={1:10,0:1})\n",
    "model_dict1['Random Forest']=RandomForestClassifier(random_state=42,class_weight={1:10,0:1})\n",
    "#model_dict1['Ada Boost']=AdaBoostClassifier(random_state=42)\n",
    "model_dict1['Gradient Boost']=XGBClassifier(random_state=42,scale_pos_weight=90)\n",
    "model_list=[('lr',model_dict1['Logistic Regression']),('rf',model_dict1['Random Forest']),('gb',model_dict1['Gradient Boost'])]\n",
    "model_dict1['Voting Classifier']=VotingClassifier(estimators=model_list,voting='soft',weights=None)"
   ]
  },
  {
   "cell_type": "code",
   "execution_count": 81,
   "id": "6d7ae6ee",
   "metadata": {},
   "outputs": [
    {
     "name": "stdout",
     "output_type": "stream",
     "text": [
      "{'Logistic Regression': LogisticRegression(class_weight={0: 1, 1: 10}, max_iter=100000), 'Random Forest': RandomForestClassifier(class_weight={0: 1, 1: 10}, random_state=42), 'Gradient Boost': XGBClassifier(base_score=None, booster=None, colsample_bylevel=None,\n",
      "              colsample_bynode=None, colsample_bytree=None,\n",
      "              enable_categorical=False, gamma=None, gpu_id=None,\n",
      "              importance_type=None, interaction_constraints=None,\n",
      "              learning_rate=None, max_delta_step=None, max_depth=None,\n",
      "              min_child_weight=None, missing=nan, monotone_constraints=None,\n",
      "              n_estimators=100, n_jobs=None, num_parallel_tree=None,\n",
      "              predictor=None, random_state=42, reg_alpha=None, reg_lambda=None,\n",
      "              scale_pos_weight=90, subsample=None, tree_method=None,\n",
      "              validate_parameters=None, verbosity=None), 'Voting Classifier': VotingClassifier(estimators=[('lr',\n",
      "                              LogisticRegression(class_weight={0: 1, 1: 10},\n",
      "                                                 max_iter=100000)),\n",
      "                             ('rf',\n",
      "                              RandomForestClassifier(class_weight={0: 1, 1: 10},\n",
      "                                                     random_state=42)),\n",
      "                             ('gb',\n",
      "                              XGBClassifier(base_score=None, booster=None,\n",
      "                                            colsample_bylevel=None,\n",
      "                                            colsample_bynode=None,\n",
      "                                            colsample_bytree=None,\n",
      "                                            enable_categorical=False,\n",
      "                                            gamma=None, gpu_id=None,\n",
      "                                            importance_type=None,\n",
      "                                            interaction_constraints=None,\n",
      "                                            learning_rate=None,\n",
      "                                            max_delta_step=None, max_depth=None,\n",
      "                                            min_child_weight=None, missing=nan,\n",
      "                                            monotone_constraints=None,\n",
      "                                            n_estimators=100, n_jobs=None,\n",
      "                                            num_parallel_tree=None,\n",
      "                                            predictor=None, random_state=42,\n",
      "                                            reg_alpha=None, reg_lambda=None,\n",
      "                                            scale_pos_weight=90, subsample=None,\n",
      "                                            tree_method=None,\n",
      "                                            validate_parameters=None,\n",
      "                                            verbosity=None))],\n",
      "                 voting='soft')}\n"
     ]
    }
   ],
   "source": [
    "print(model_dict1)"
   ]
  },
  {
   "cell_type": "code",
   "execution_count": 84,
   "id": "5ba7b440",
   "metadata": {},
   "outputs": [],
   "source": [
    "from sklearn.model_selection import KFold"
   ]
  },
  {
   "cell_type": "code",
   "execution_count": 85,
   "id": "c5738892",
   "metadata": {},
   "outputs": [],
   "source": [
    "def compare_models_withfeatureeng(model_dict,X,Y):\n",
    "    for i in model_dict.keys():\n",
    "        mdl=model_dict[i]\n",
    "        score=[]\n",
    "        kf = KFold(n_splits=3)\n",
    "        for train_index, test_index in kf.split(X):\n",
    "            X_train, X_test = X.iloc[train_index], X.iloc[test_index]\n",
    "            y_train, y_test = Y.iloc[train_index], Y.iloc[test_index]\n",
    "            X_train_neibs=X_train[[\"EXT_SOURCE_2\",\"CREDIT_ANNUITY_R\"]]\n",
    "            X_test_neibs=X_test[[\"EXT_SOURCE_2\",\"CREDIT_ANNUITY_R\"]]\n",
    "            neigh = KNeighborsRegressor(n_neighbors=500)\n",
    "            neigh.fit(X_train_neibs, y_train)\n",
    "            X_train['neighbors_target_mean_500']=neigh.predict(X_train_neibs)\n",
    "            X_test['neighbors_target_mean_500']=neigh.predict(X_test_neibs)\n",
    "            mdl.fit(X_train, y_train)\n",
    "            mdl_predpro=mdl.predict_proba(X_test)\n",
    "            score.append(roc_auc_score(y_test,mdl_predpro[:,1]))\n",
    "        mean_score= np.asarray(score).mean()\n",
    "        print(\"score of\",i,\": \",mean_score)"
   ]
  },
  {
   "cell_type": "code",
   "execution_count": 86,
   "id": "f932c549",
   "metadata": {},
   "outputs": [
    {
     "name": "stderr",
     "output_type": "stream",
     "text": [
      "/var/folders/qh/f_xd4_hs7jq5186tyc9v3gdm0000gn/T/ipykernel_9245/2309985315.py:13: SettingWithCopyWarning: \n",
      "A value is trying to be set on a copy of a slice from a DataFrame.\n",
      "Try using .loc[row_indexer,col_indexer] = value instead\n",
      "\n",
      "See the caveats in the documentation: https://pandas.pydata.org/pandas-docs/stable/user_guide/indexing.html#returning-a-view-versus-a-copy\n",
      "  X_train['neighbors_target_mean_500']=neigh.predict(X_train_neibs)\n",
      "/var/folders/qh/f_xd4_hs7jq5186tyc9v3gdm0000gn/T/ipykernel_9245/2309985315.py:14: SettingWithCopyWarning: \n",
      "A value is trying to be set on a copy of a slice from a DataFrame.\n",
      "Try using .loc[row_indexer,col_indexer] = value instead\n",
      "\n",
      "See the caveats in the documentation: https://pandas.pydata.org/pandas-docs/stable/user_guide/indexing.html#returning-a-view-versus-a-copy\n",
      "  X_test['neighbors_target_mean_500']=neigh.predict(X_test_neibs)\n",
      "/var/folders/qh/f_xd4_hs7jq5186tyc9v3gdm0000gn/T/ipykernel_9245/2309985315.py:13: SettingWithCopyWarning: \n",
      "A value is trying to be set on a copy of a slice from a DataFrame.\n",
      "Try using .loc[row_indexer,col_indexer] = value instead\n",
      "\n",
      "See the caveats in the documentation: https://pandas.pydata.org/pandas-docs/stable/user_guide/indexing.html#returning-a-view-versus-a-copy\n",
      "  X_train['neighbors_target_mean_500']=neigh.predict(X_train_neibs)\n",
      "/var/folders/qh/f_xd4_hs7jq5186tyc9v3gdm0000gn/T/ipykernel_9245/2309985315.py:14: SettingWithCopyWarning: \n",
      "A value is trying to be set on a copy of a slice from a DataFrame.\n",
      "Try using .loc[row_indexer,col_indexer] = value instead\n",
      "\n",
      "See the caveats in the documentation: https://pandas.pydata.org/pandas-docs/stable/user_guide/indexing.html#returning-a-view-versus-a-copy\n",
      "  X_test['neighbors_target_mean_500']=neigh.predict(X_test_neibs)\n",
      "/var/folders/qh/f_xd4_hs7jq5186tyc9v3gdm0000gn/T/ipykernel_9245/2309985315.py:13: SettingWithCopyWarning: \n",
      "A value is trying to be set on a copy of a slice from a DataFrame.\n",
      "Try using .loc[row_indexer,col_indexer] = value instead\n",
      "\n",
      "See the caveats in the documentation: https://pandas.pydata.org/pandas-docs/stable/user_guide/indexing.html#returning-a-view-versus-a-copy\n",
      "  X_train['neighbors_target_mean_500']=neigh.predict(X_train_neibs)\n",
      "/var/folders/qh/f_xd4_hs7jq5186tyc9v3gdm0000gn/T/ipykernel_9245/2309985315.py:14: SettingWithCopyWarning: \n",
      "A value is trying to be set on a copy of a slice from a DataFrame.\n",
      "Try using .loc[row_indexer,col_indexer] = value instead\n",
      "\n",
      "See the caveats in the documentation: https://pandas.pydata.org/pandas-docs/stable/user_guide/indexing.html#returning-a-view-versus-a-copy\n",
      "  X_test['neighbors_target_mean_500']=neigh.predict(X_test_neibs)\n"
     ]
    },
    {
     "name": "stdout",
     "output_type": "stream",
     "text": [
      "score of Logistic Regression :  0.5439845270110184\n"
     ]
    },
    {
     "name": "stderr",
     "output_type": "stream",
     "text": [
      "/var/folders/qh/f_xd4_hs7jq5186tyc9v3gdm0000gn/T/ipykernel_9245/2309985315.py:13: SettingWithCopyWarning: \n",
      "A value is trying to be set on a copy of a slice from a DataFrame.\n",
      "Try using .loc[row_indexer,col_indexer] = value instead\n",
      "\n",
      "See the caveats in the documentation: https://pandas.pydata.org/pandas-docs/stable/user_guide/indexing.html#returning-a-view-versus-a-copy\n",
      "  X_train['neighbors_target_mean_500']=neigh.predict(X_train_neibs)\n",
      "/var/folders/qh/f_xd4_hs7jq5186tyc9v3gdm0000gn/T/ipykernel_9245/2309985315.py:14: SettingWithCopyWarning: \n",
      "A value is trying to be set on a copy of a slice from a DataFrame.\n",
      "Try using .loc[row_indexer,col_indexer] = value instead\n",
      "\n",
      "See the caveats in the documentation: https://pandas.pydata.org/pandas-docs/stable/user_guide/indexing.html#returning-a-view-versus-a-copy\n",
      "  X_test['neighbors_target_mean_500']=neigh.predict(X_test_neibs)\n",
      "/var/folders/qh/f_xd4_hs7jq5186tyc9v3gdm0000gn/T/ipykernel_9245/2309985315.py:13: SettingWithCopyWarning: \n",
      "A value is trying to be set on a copy of a slice from a DataFrame.\n",
      "Try using .loc[row_indexer,col_indexer] = value instead\n",
      "\n",
      "See the caveats in the documentation: https://pandas.pydata.org/pandas-docs/stable/user_guide/indexing.html#returning-a-view-versus-a-copy\n",
      "  X_train['neighbors_target_mean_500']=neigh.predict(X_train_neibs)\n",
      "/var/folders/qh/f_xd4_hs7jq5186tyc9v3gdm0000gn/T/ipykernel_9245/2309985315.py:14: SettingWithCopyWarning: \n",
      "A value is trying to be set on a copy of a slice from a DataFrame.\n",
      "Try using .loc[row_indexer,col_indexer] = value instead\n",
      "\n",
      "See the caveats in the documentation: https://pandas.pydata.org/pandas-docs/stable/user_guide/indexing.html#returning-a-view-versus-a-copy\n",
      "  X_test['neighbors_target_mean_500']=neigh.predict(X_test_neibs)\n",
      "/var/folders/qh/f_xd4_hs7jq5186tyc9v3gdm0000gn/T/ipykernel_9245/2309985315.py:13: SettingWithCopyWarning: \n",
      "A value is trying to be set on a copy of a slice from a DataFrame.\n",
      "Try using .loc[row_indexer,col_indexer] = value instead\n",
      "\n",
      "See the caveats in the documentation: https://pandas.pydata.org/pandas-docs/stable/user_guide/indexing.html#returning-a-view-versus-a-copy\n",
      "  X_train['neighbors_target_mean_500']=neigh.predict(X_train_neibs)\n",
      "/var/folders/qh/f_xd4_hs7jq5186tyc9v3gdm0000gn/T/ipykernel_9245/2309985315.py:14: SettingWithCopyWarning: \n",
      "A value is trying to be set on a copy of a slice from a DataFrame.\n",
      "Try using .loc[row_indexer,col_indexer] = value instead\n",
      "\n",
      "See the caveats in the documentation: https://pandas.pydata.org/pandas-docs/stable/user_guide/indexing.html#returning-a-view-versus-a-copy\n",
      "  X_test['neighbors_target_mean_500']=neigh.predict(X_test_neibs)\n"
     ]
    },
    {
     "name": "stdout",
     "output_type": "stream",
     "text": [
      "score of Random Forest :  0.7077899835301662\n"
     ]
    },
    {
     "name": "stderr",
     "output_type": "stream",
     "text": [
      "/var/folders/qh/f_xd4_hs7jq5186tyc9v3gdm0000gn/T/ipykernel_9245/2309985315.py:13: SettingWithCopyWarning: \n",
      "A value is trying to be set on a copy of a slice from a DataFrame.\n",
      "Try using .loc[row_indexer,col_indexer] = value instead\n",
      "\n",
      "See the caveats in the documentation: https://pandas.pydata.org/pandas-docs/stable/user_guide/indexing.html#returning-a-view-versus-a-copy\n",
      "  X_train['neighbors_target_mean_500']=neigh.predict(X_train_neibs)\n",
      "/var/folders/qh/f_xd4_hs7jq5186tyc9v3gdm0000gn/T/ipykernel_9245/2309985315.py:14: SettingWithCopyWarning: \n",
      "A value is trying to be set on a copy of a slice from a DataFrame.\n",
      "Try using .loc[row_indexer,col_indexer] = value instead\n",
      "\n",
      "See the caveats in the documentation: https://pandas.pydata.org/pandas-docs/stable/user_guide/indexing.html#returning-a-view-versus-a-copy\n",
      "  X_test['neighbors_target_mean_500']=neigh.predict(X_test_neibs)\n",
      "/opt/anaconda3/lib/python3.9/site-packages/xgboost/sklearn.py:1224: UserWarning: The use of label encoder in XGBClassifier is deprecated and will be removed in a future release. To remove this warning, do the following: 1) Pass option use_label_encoder=False when constructing XGBClassifier object; and 2) Encode your labels (y) as integers starting with 0, i.e. 0, 1, 2, ..., [num_class - 1].\n",
      "  warnings.warn(label_encoder_deprecation_msg, UserWarning)\n"
     ]
    },
    {
     "name": "stdout",
     "output_type": "stream",
     "text": [
      "[00:50:05] WARNING: /Users/runner/miniforge3/conda-bld/xgboost-split_1645117948562/work/src/learner.cc:1115: Starting in XGBoost 1.3.0, the default evaluation metric used with the objective 'binary:logistic' was changed from 'error' to 'logloss'. Explicitly set eval_metric if you'd like to restore the old behavior.\n"
     ]
    },
    {
     "name": "stderr",
     "output_type": "stream",
     "text": [
      "/var/folders/qh/f_xd4_hs7jq5186tyc9v3gdm0000gn/T/ipykernel_9245/2309985315.py:13: SettingWithCopyWarning: \n",
      "A value is trying to be set on a copy of a slice from a DataFrame.\n",
      "Try using .loc[row_indexer,col_indexer] = value instead\n",
      "\n",
      "See the caveats in the documentation: https://pandas.pydata.org/pandas-docs/stable/user_guide/indexing.html#returning-a-view-versus-a-copy\n",
      "  X_train['neighbors_target_mean_500']=neigh.predict(X_train_neibs)\n",
      "/var/folders/qh/f_xd4_hs7jq5186tyc9v3gdm0000gn/T/ipykernel_9245/2309985315.py:14: SettingWithCopyWarning: \n",
      "A value is trying to be set on a copy of a slice from a DataFrame.\n",
      "Try using .loc[row_indexer,col_indexer] = value instead\n",
      "\n",
      "See the caveats in the documentation: https://pandas.pydata.org/pandas-docs/stable/user_guide/indexing.html#returning-a-view-versus-a-copy\n",
      "  X_test['neighbors_target_mean_500']=neigh.predict(X_test_neibs)\n",
      "/opt/anaconda3/lib/python3.9/site-packages/xgboost/sklearn.py:1224: UserWarning: The use of label encoder in XGBClassifier is deprecated and will be removed in a future release. To remove this warning, do the following: 1) Pass option use_label_encoder=False when constructing XGBClassifier object; and 2) Encode your labels (y) as integers starting with 0, i.e. 0, 1, 2, ..., [num_class - 1].\n",
      "  warnings.warn(label_encoder_deprecation_msg, UserWarning)\n"
     ]
    },
    {
     "name": "stdout",
     "output_type": "stream",
     "text": [
      "[00:50:30] WARNING: /Users/runner/miniforge3/conda-bld/xgboost-split_1645117948562/work/src/learner.cc:1115: Starting in XGBoost 1.3.0, the default evaluation metric used with the objective 'binary:logistic' was changed from 'error' to 'logloss'. Explicitly set eval_metric if you'd like to restore the old behavior.\n"
     ]
    },
    {
     "name": "stderr",
     "output_type": "stream",
     "text": [
      "/var/folders/qh/f_xd4_hs7jq5186tyc9v3gdm0000gn/T/ipykernel_9245/2309985315.py:13: SettingWithCopyWarning: \n",
      "A value is trying to be set on a copy of a slice from a DataFrame.\n",
      "Try using .loc[row_indexer,col_indexer] = value instead\n",
      "\n",
      "See the caveats in the documentation: https://pandas.pydata.org/pandas-docs/stable/user_guide/indexing.html#returning-a-view-versus-a-copy\n",
      "  X_train['neighbors_target_mean_500']=neigh.predict(X_train_neibs)\n",
      "/var/folders/qh/f_xd4_hs7jq5186tyc9v3gdm0000gn/T/ipykernel_9245/2309985315.py:14: SettingWithCopyWarning: \n",
      "A value is trying to be set on a copy of a slice from a DataFrame.\n",
      "Try using .loc[row_indexer,col_indexer] = value instead\n",
      "\n",
      "See the caveats in the documentation: https://pandas.pydata.org/pandas-docs/stable/user_guide/indexing.html#returning-a-view-versus-a-copy\n",
      "  X_test['neighbors_target_mean_500']=neigh.predict(X_test_neibs)\n",
      "/opt/anaconda3/lib/python3.9/site-packages/xgboost/sklearn.py:1224: UserWarning: The use of label encoder in XGBClassifier is deprecated and will be removed in a future release. To remove this warning, do the following: 1) Pass option use_label_encoder=False when constructing XGBClassifier object; and 2) Encode your labels (y) as integers starting with 0, i.e. 0, 1, 2, ..., [num_class - 1].\n",
      "  warnings.warn(label_encoder_deprecation_msg, UserWarning)\n"
     ]
    },
    {
     "name": "stdout",
     "output_type": "stream",
     "text": [
      "[00:50:55] WARNING: /Users/runner/miniforge3/conda-bld/xgboost-split_1645117948562/work/src/learner.cc:1115: Starting in XGBoost 1.3.0, the default evaluation metric used with the objective 'binary:logistic' was changed from 'error' to 'logloss'. Explicitly set eval_metric if you'd like to restore the old behavior.\n",
      "score of Gradient Boost :  0.695809635714892\n"
     ]
    },
    {
     "name": "stderr",
     "output_type": "stream",
     "text": [
      "/var/folders/qh/f_xd4_hs7jq5186tyc9v3gdm0000gn/T/ipykernel_9245/2309985315.py:13: SettingWithCopyWarning: \n",
      "A value is trying to be set on a copy of a slice from a DataFrame.\n",
      "Try using .loc[row_indexer,col_indexer] = value instead\n",
      "\n",
      "See the caveats in the documentation: https://pandas.pydata.org/pandas-docs/stable/user_guide/indexing.html#returning-a-view-versus-a-copy\n",
      "  X_train['neighbors_target_mean_500']=neigh.predict(X_train_neibs)\n",
      "/var/folders/qh/f_xd4_hs7jq5186tyc9v3gdm0000gn/T/ipykernel_9245/2309985315.py:14: SettingWithCopyWarning: \n",
      "A value is trying to be set on a copy of a slice from a DataFrame.\n",
      "Try using .loc[row_indexer,col_indexer] = value instead\n",
      "\n",
      "See the caveats in the documentation: https://pandas.pydata.org/pandas-docs/stable/user_guide/indexing.html#returning-a-view-versus-a-copy\n",
      "  X_test['neighbors_target_mean_500']=neigh.predict(X_test_neibs)\n",
      "/opt/anaconda3/lib/python3.9/site-packages/xgboost/sklearn.py:1224: UserWarning: The use of label encoder in XGBClassifier is deprecated and will be removed in a future release. To remove this warning, do the following: 1) Pass option use_label_encoder=False when constructing XGBClassifier object; and 2) Encode your labels (y) as integers starting with 0, i.e. 0, 1, 2, ..., [num_class - 1].\n",
      "  warnings.warn(label_encoder_deprecation_msg, UserWarning)\n"
     ]
    },
    {
     "name": "stdout",
     "output_type": "stream",
     "text": [
      "[00:51:52] WARNING: /Users/runner/miniforge3/conda-bld/xgboost-split_1645117948562/work/src/learner.cc:1115: Starting in XGBoost 1.3.0, the default evaluation metric used with the objective 'binary:logistic' was changed from 'error' to 'logloss'. Explicitly set eval_metric if you'd like to restore the old behavior.\n"
     ]
    },
    {
     "name": "stderr",
     "output_type": "stream",
     "text": [
      "/var/folders/qh/f_xd4_hs7jq5186tyc9v3gdm0000gn/T/ipykernel_9245/2309985315.py:13: SettingWithCopyWarning: \n",
      "A value is trying to be set on a copy of a slice from a DataFrame.\n",
      "Try using .loc[row_indexer,col_indexer] = value instead\n",
      "\n",
      "See the caveats in the documentation: https://pandas.pydata.org/pandas-docs/stable/user_guide/indexing.html#returning-a-view-versus-a-copy\n",
      "  X_train['neighbors_target_mean_500']=neigh.predict(X_train_neibs)\n",
      "/var/folders/qh/f_xd4_hs7jq5186tyc9v3gdm0000gn/T/ipykernel_9245/2309985315.py:14: SettingWithCopyWarning: \n",
      "A value is trying to be set on a copy of a slice from a DataFrame.\n",
      "Try using .loc[row_indexer,col_indexer] = value instead\n",
      "\n",
      "See the caveats in the documentation: https://pandas.pydata.org/pandas-docs/stable/user_guide/indexing.html#returning-a-view-versus-a-copy\n",
      "  X_test['neighbors_target_mean_500']=neigh.predict(X_test_neibs)\n",
      "/opt/anaconda3/lib/python3.9/site-packages/xgboost/sklearn.py:1224: UserWarning: The use of label encoder in XGBClassifier is deprecated and will be removed in a future release. To remove this warning, do the following: 1) Pass option use_label_encoder=False when constructing XGBClassifier object; and 2) Encode your labels (y) as integers starting with 0, i.e. 0, 1, 2, ..., [num_class - 1].\n",
      "  warnings.warn(label_encoder_deprecation_msg, UserWarning)\n"
     ]
    },
    {
     "name": "stdout",
     "output_type": "stream",
     "text": [
      "[00:52:51] WARNING: /Users/runner/miniforge3/conda-bld/xgboost-split_1645117948562/work/src/learner.cc:1115: Starting in XGBoost 1.3.0, the default evaluation metric used with the objective 'binary:logistic' was changed from 'error' to 'logloss'. Explicitly set eval_metric if you'd like to restore the old behavior.\n"
     ]
    },
    {
     "name": "stderr",
     "output_type": "stream",
     "text": [
      "/var/folders/qh/f_xd4_hs7jq5186tyc9v3gdm0000gn/T/ipykernel_9245/2309985315.py:13: SettingWithCopyWarning: \n",
      "A value is trying to be set on a copy of a slice from a DataFrame.\n",
      "Try using .loc[row_indexer,col_indexer] = value instead\n",
      "\n",
      "See the caveats in the documentation: https://pandas.pydata.org/pandas-docs/stable/user_guide/indexing.html#returning-a-view-versus-a-copy\n",
      "  X_train['neighbors_target_mean_500']=neigh.predict(X_train_neibs)\n",
      "/var/folders/qh/f_xd4_hs7jq5186tyc9v3gdm0000gn/T/ipykernel_9245/2309985315.py:14: SettingWithCopyWarning: \n",
      "A value is trying to be set on a copy of a slice from a DataFrame.\n",
      "Try using .loc[row_indexer,col_indexer] = value instead\n",
      "\n",
      "See the caveats in the documentation: https://pandas.pydata.org/pandas-docs/stable/user_guide/indexing.html#returning-a-view-versus-a-copy\n",
      "  X_test['neighbors_target_mean_500']=neigh.predict(X_test_neibs)\n",
      "/opt/anaconda3/lib/python3.9/site-packages/xgboost/sklearn.py:1224: UserWarning: The use of label encoder in XGBClassifier is deprecated and will be removed in a future release. To remove this warning, do the following: 1) Pass option use_label_encoder=False when constructing XGBClassifier object; and 2) Encode your labels (y) as integers starting with 0, i.e. 0, 1, 2, ..., [num_class - 1].\n",
      "  warnings.warn(label_encoder_deprecation_msg, UserWarning)\n"
     ]
    },
    {
     "name": "stdout",
     "output_type": "stream",
     "text": [
      "[00:53:50] WARNING: /Users/runner/miniforge3/conda-bld/xgboost-split_1645117948562/work/src/learner.cc:1115: Starting in XGBoost 1.3.0, the default evaluation metric used with the objective 'binary:logistic' was changed from 'error' to 'logloss'. Explicitly set eval_metric if you'd like to restore the old behavior.\n",
      "score of Voting Classifier :  0.7030964592406361\n"
     ]
    }
   ],
   "source": [
    "compare_models_withfeatureeng(model_dict1,X_train2,Y_train)"
   ]
  },
  {
   "cell_type": "code",
   "execution_count": 87,
   "id": "5804f2bf",
   "metadata": {},
   "outputs": [],
   "source": [
    "ini_10features_nms=['neighbors_target_mean_500','EXT_SOURCE_2','AGE','YEAR_ID_PUBLISH',\n",
    "                  'YEAR_REGISTRATION','CREDIT_ANNUITY_R','YEAR_EMPLOYED','YEAR_LAST_PHONE_CHANGE',\n",
    "                  'AMT_ANNUITY','DEBT_CREDIT_R']"
   ]
  },
  {
   "cell_type": "code",
   "execution_count": 88,
   "id": "a0595063",
   "metadata": {},
   "outputs": [],
   "source": [
    "X_train3=X_train[ini_10features_nms]"
   ]
  },
  {
   "cell_type": "code",
   "execution_count": 89,
   "id": "360cafc0",
   "metadata": {},
   "outputs": [
    {
     "name": "stderr",
     "output_type": "stream",
     "text": [
      "/var/folders/qh/f_xd4_hs7jq5186tyc9v3gdm0000gn/T/ipykernel_9245/2309985315.py:13: SettingWithCopyWarning: \n",
      "A value is trying to be set on a copy of a slice from a DataFrame.\n",
      "Try using .loc[row_indexer,col_indexer] = value instead\n",
      "\n",
      "See the caveats in the documentation: https://pandas.pydata.org/pandas-docs/stable/user_guide/indexing.html#returning-a-view-versus-a-copy\n",
      "  X_train['neighbors_target_mean_500']=neigh.predict(X_train_neibs)\n",
      "/var/folders/qh/f_xd4_hs7jq5186tyc9v3gdm0000gn/T/ipykernel_9245/2309985315.py:14: SettingWithCopyWarning: \n",
      "A value is trying to be set on a copy of a slice from a DataFrame.\n",
      "Try using .loc[row_indexer,col_indexer] = value instead\n",
      "\n",
      "See the caveats in the documentation: https://pandas.pydata.org/pandas-docs/stable/user_guide/indexing.html#returning-a-view-versus-a-copy\n",
      "  X_test['neighbors_target_mean_500']=neigh.predict(X_test_neibs)\n",
      "/var/folders/qh/f_xd4_hs7jq5186tyc9v3gdm0000gn/T/ipykernel_9245/2309985315.py:13: SettingWithCopyWarning: \n",
      "A value is trying to be set on a copy of a slice from a DataFrame.\n",
      "Try using .loc[row_indexer,col_indexer] = value instead\n",
      "\n",
      "See the caveats in the documentation: https://pandas.pydata.org/pandas-docs/stable/user_guide/indexing.html#returning-a-view-versus-a-copy\n",
      "  X_train['neighbors_target_mean_500']=neigh.predict(X_train_neibs)\n",
      "/var/folders/qh/f_xd4_hs7jq5186tyc9v3gdm0000gn/T/ipykernel_9245/2309985315.py:14: SettingWithCopyWarning: \n",
      "A value is trying to be set on a copy of a slice from a DataFrame.\n",
      "Try using .loc[row_indexer,col_indexer] = value instead\n",
      "\n",
      "See the caveats in the documentation: https://pandas.pydata.org/pandas-docs/stable/user_guide/indexing.html#returning-a-view-versus-a-copy\n",
      "  X_test['neighbors_target_mean_500']=neigh.predict(X_test_neibs)\n",
      "/var/folders/qh/f_xd4_hs7jq5186tyc9v3gdm0000gn/T/ipykernel_9245/2309985315.py:13: SettingWithCopyWarning: \n",
      "A value is trying to be set on a copy of a slice from a DataFrame.\n",
      "Try using .loc[row_indexer,col_indexer] = value instead\n",
      "\n",
      "See the caveats in the documentation: https://pandas.pydata.org/pandas-docs/stable/user_guide/indexing.html#returning-a-view-versus-a-copy\n",
      "  X_train['neighbors_target_mean_500']=neigh.predict(X_train_neibs)\n",
      "/var/folders/qh/f_xd4_hs7jq5186tyc9v3gdm0000gn/T/ipykernel_9245/2309985315.py:14: SettingWithCopyWarning: \n",
      "A value is trying to be set on a copy of a slice from a DataFrame.\n",
      "Try using .loc[row_indexer,col_indexer] = value instead\n",
      "\n",
      "See the caveats in the documentation: https://pandas.pydata.org/pandas-docs/stable/user_guide/indexing.html#returning-a-view-versus-a-copy\n",
      "  X_test['neighbors_target_mean_500']=neigh.predict(X_test_neibs)\n"
     ]
    },
    {
     "name": "stdout",
     "output_type": "stream",
     "text": [
      "score of Logistic Regression :  0.5729096773473518\n"
     ]
    },
    {
     "name": "stderr",
     "output_type": "stream",
     "text": [
      "/var/folders/qh/f_xd4_hs7jq5186tyc9v3gdm0000gn/T/ipykernel_9245/2309985315.py:13: SettingWithCopyWarning: \n",
      "A value is trying to be set on a copy of a slice from a DataFrame.\n",
      "Try using .loc[row_indexer,col_indexer] = value instead\n",
      "\n",
      "See the caveats in the documentation: https://pandas.pydata.org/pandas-docs/stable/user_guide/indexing.html#returning-a-view-versus-a-copy\n",
      "  X_train['neighbors_target_mean_500']=neigh.predict(X_train_neibs)\n",
      "/var/folders/qh/f_xd4_hs7jq5186tyc9v3gdm0000gn/T/ipykernel_9245/2309985315.py:14: SettingWithCopyWarning: \n",
      "A value is trying to be set on a copy of a slice from a DataFrame.\n",
      "Try using .loc[row_indexer,col_indexer] = value instead\n",
      "\n",
      "See the caveats in the documentation: https://pandas.pydata.org/pandas-docs/stable/user_guide/indexing.html#returning-a-view-versus-a-copy\n",
      "  X_test['neighbors_target_mean_500']=neigh.predict(X_test_neibs)\n",
      "/var/folders/qh/f_xd4_hs7jq5186tyc9v3gdm0000gn/T/ipykernel_9245/2309985315.py:13: SettingWithCopyWarning: \n",
      "A value is trying to be set on a copy of a slice from a DataFrame.\n",
      "Try using .loc[row_indexer,col_indexer] = value instead\n",
      "\n",
      "See the caveats in the documentation: https://pandas.pydata.org/pandas-docs/stable/user_guide/indexing.html#returning-a-view-versus-a-copy\n",
      "  X_train['neighbors_target_mean_500']=neigh.predict(X_train_neibs)\n",
      "/var/folders/qh/f_xd4_hs7jq5186tyc9v3gdm0000gn/T/ipykernel_9245/2309985315.py:14: SettingWithCopyWarning: \n",
      "A value is trying to be set on a copy of a slice from a DataFrame.\n",
      "Try using .loc[row_indexer,col_indexer] = value instead\n",
      "\n",
      "See the caveats in the documentation: https://pandas.pydata.org/pandas-docs/stable/user_guide/indexing.html#returning-a-view-versus-a-copy\n",
      "  X_test['neighbors_target_mean_500']=neigh.predict(X_test_neibs)\n",
      "/var/folders/qh/f_xd4_hs7jq5186tyc9v3gdm0000gn/T/ipykernel_9245/2309985315.py:13: SettingWithCopyWarning: \n",
      "A value is trying to be set on a copy of a slice from a DataFrame.\n",
      "Try using .loc[row_indexer,col_indexer] = value instead\n",
      "\n",
      "See the caveats in the documentation: https://pandas.pydata.org/pandas-docs/stable/user_guide/indexing.html#returning-a-view-versus-a-copy\n",
      "  X_train['neighbors_target_mean_500']=neigh.predict(X_train_neibs)\n",
      "/var/folders/qh/f_xd4_hs7jq5186tyc9v3gdm0000gn/T/ipykernel_9245/2309985315.py:14: SettingWithCopyWarning: \n",
      "A value is trying to be set on a copy of a slice from a DataFrame.\n",
      "Try using .loc[row_indexer,col_indexer] = value instead\n",
      "\n",
      "See the caveats in the documentation: https://pandas.pydata.org/pandas-docs/stable/user_guide/indexing.html#returning-a-view-versus-a-copy\n",
      "  X_test['neighbors_target_mean_500']=neigh.predict(X_test_neibs)\n"
     ]
    },
    {
     "name": "stdout",
     "output_type": "stream",
     "text": [
      "score of Random Forest :  0.7048729096056513\n"
     ]
    },
    {
     "name": "stderr",
     "output_type": "stream",
     "text": [
      "/var/folders/qh/f_xd4_hs7jq5186tyc9v3gdm0000gn/T/ipykernel_9245/2309985315.py:13: SettingWithCopyWarning: \n",
      "A value is trying to be set on a copy of a slice from a DataFrame.\n",
      "Try using .loc[row_indexer,col_indexer] = value instead\n",
      "\n",
      "See the caveats in the documentation: https://pandas.pydata.org/pandas-docs/stable/user_guide/indexing.html#returning-a-view-versus-a-copy\n",
      "  X_train['neighbors_target_mean_500']=neigh.predict(X_train_neibs)\n",
      "/var/folders/qh/f_xd4_hs7jq5186tyc9v3gdm0000gn/T/ipykernel_9245/2309985315.py:14: SettingWithCopyWarning: \n",
      "A value is trying to be set on a copy of a slice from a DataFrame.\n",
      "Try using .loc[row_indexer,col_indexer] = value instead\n",
      "\n",
      "See the caveats in the documentation: https://pandas.pydata.org/pandas-docs/stable/user_guide/indexing.html#returning-a-view-versus-a-copy\n",
      "  X_test['neighbors_target_mean_500']=neigh.predict(X_test_neibs)\n",
      "/opt/anaconda3/lib/python3.9/site-packages/xgboost/sklearn.py:1224: UserWarning: The use of label encoder in XGBClassifier is deprecated and will be removed in a future release. To remove this warning, do the following: 1) Pass option use_label_encoder=False when constructing XGBClassifier object; and 2) Encode your labels (y) as integers starting with 0, i.e. 0, 1, 2, ..., [num_class - 1].\n",
      "  warnings.warn(label_encoder_deprecation_msg, UserWarning)\n"
     ]
    },
    {
     "name": "stdout",
     "output_type": "stream",
     "text": [
      "[01:48:38] WARNING: /Users/runner/miniforge3/conda-bld/xgboost-split_1645117948562/work/src/learner.cc:1115: Starting in XGBoost 1.3.0, the default evaluation metric used with the objective 'binary:logistic' was changed from 'error' to 'logloss'. Explicitly set eval_metric if you'd like to restore the old behavior.\n"
     ]
    },
    {
     "name": "stderr",
     "output_type": "stream",
     "text": [
      "/var/folders/qh/f_xd4_hs7jq5186tyc9v3gdm0000gn/T/ipykernel_9245/2309985315.py:13: SettingWithCopyWarning: \n",
      "A value is trying to be set on a copy of a slice from a DataFrame.\n",
      "Try using .loc[row_indexer,col_indexer] = value instead\n",
      "\n",
      "See the caveats in the documentation: https://pandas.pydata.org/pandas-docs/stable/user_guide/indexing.html#returning-a-view-versus-a-copy\n",
      "  X_train['neighbors_target_mean_500']=neigh.predict(X_train_neibs)\n",
      "/var/folders/qh/f_xd4_hs7jq5186tyc9v3gdm0000gn/T/ipykernel_9245/2309985315.py:14: SettingWithCopyWarning: \n",
      "A value is trying to be set on a copy of a slice from a DataFrame.\n",
      "Try using .loc[row_indexer,col_indexer] = value instead\n",
      "\n",
      "See the caveats in the documentation: https://pandas.pydata.org/pandas-docs/stable/user_guide/indexing.html#returning-a-view-versus-a-copy\n",
      "  X_test['neighbors_target_mean_500']=neigh.predict(X_test_neibs)\n",
      "/opt/anaconda3/lib/python3.9/site-packages/xgboost/sklearn.py:1224: UserWarning: The use of label encoder in XGBClassifier is deprecated and will be removed in a future release. To remove this warning, do the following: 1) Pass option use_label_encoder=False when constructing XGBClassifier object; and 2) Encode your labels (y) as integers starting with 0, i.e. 0, 1, 2, ..., [num_class - 1].\n",
      "  warnings.warn(label_encoder_deprecation_msg, UserWarning)\n"
     ]
    },
    {
     "name": "stdout",
     "output_type": "stream",
     "text": [
      "[01:49:03] WARNING: /Users/runner/miniforge3/conda-bld/xgboost-split_1645117948562/work/src/learner.cc:1115: Starting in XGBoost 1.3.0, the default evaluation metric used with the objective 'binary:logistic' was changed from 'error' to 'logloss'. Explicitly set eval_metric if you'd like to restore the old behavior.\n"
     ]
    },
    {
     "name": "stderr",
     "output_type": "stream",
     "text": [
      "/var/folders/qh/f_xd4_hs7jq5186tyc9v3gdm0000gn/T/ipykernel_9245/2309985315.py:13: SettingWithCopyWarning: \n",
      "A value is trying to be set on a copy of a slice from a DataFrame.\n",
      "Try using .loc[row_indexer,col_indexer] = value instead\n",
      "\n",
      "See the caveats in the documentation: https://pandas.pydata.org/pandas-docs/stable/user_guide/indexing.html#returning-a-view-versus-a-copy\n",
      "  X_train['neighbors_target_mean_500']=neigh.predict(X_train_neibs)\n",
      "/var/folders/qh/f_xd4_hs7jq5186tyc9v3gdm0000gn/T/ipykernel_9245/2309985315.py:14: SettingWithCopyWarning: \n",
      "A value is trying to be set on a copy of a slice from a DataFrame.\n",
      "Try using .loc[row_indexer,col_indexer] = value instead\n",
      "\n",
      "See the caveats in the documentation: https://pandas.pydata.org/pandas-docs/stable/user_guide/indexing.html#returning-a-view-versus-a-copy\n",
      "  X_test['neighbors_target_mean_500']=neigh.predict(X_test_neibs)\n",
      "/opt/anaconda3/lib/python3.9/site-packages/xgboost/sklearn.py:1224: UserWarning: The use of label encoder in XGBClassifier is deprecated and will be removed in a future release. To remove this warning, do the following: 1) Pass option use_label_encoder=False when constructing XGBClassifier object; and 2) Encode your labels (y) as integers starting with 0, i.e. 0, 1, 2, ..., [num_class - 1].\n",
      "  warnings.warn(label_encoder_deprecation_msg, UserWarning)\n"
     ]
    },
    {
     "name": "stdout",
     "output_type": "stream",
     "text": [
      "[01:49:27] WARNING: /Users/runner/miniforge3/conda-bld/xgboost-split_1645117948562/work/src/learner.cc:1115: Starting in XGBoost 1.3.0, the default evaluation metric used with the objective 'binary:logistic' was changed from 'error' to 'logloss'. Explicitly set eval_metric if you'd like to restore the old behavior.\n",
      "score of Gradient Boost :  0.6956667772176005\n"
     ]
    },
    {
     "name": "stderr",
     "output_type": "stream",
     "text": [
      "/var/folders/qh/f_xd4_hs7jq5186tyc9v3gdm0000gn/T/ipykernel_9245/2309985315.py:13: SettingWithCopyWarning: \n",
      "A value is trying to be set on a copy of a slice from a DataFrame.\n",
      "Try using .loc[row_indexer,col_indexer] = value instead\n",
      "\n",
      "See the caveats in the documentation: https://pandas.pydata.org/pandas-docs/stable/user_guide/indexing.html#returning-a-view-versus-a-copy\n",
      "  X_train['neighbors_target_mean_500']=neigh.predict(X_train_neibs)\n",
      "/var/folders/qh/f_xd4_hs7jq5186tyc9v3gdm0000gn/T/ipykernel_9245/2309985315.py:14: SettingWithCopyWarning: \n",
      "A value is trying to be set on a copy of a slice from a DataFrame.\n",
      "Try using .loc[row_indexer,col_indexer] = value instead\n",
      "\n",
      "See the caveats in the documentation: https://pandas.pydata.org/pandas-docs/stable/user_guide/indexing.html#returning-a-view-versus-a-copy\n",
      "  X_test['neighbors_target_mean_500']=neigh.predict(X_test_neibs)\n",
      "/opt/anaconda3/lib/python3.9/site-packages/xgboost/sklearn.py:1224: UserWarning: The use of label encoder in XGBClassifier is deprecated and will be removed in a future release. To remove this warning, do the following: 1) Pass option use_label_encoder=False when constructing XGBClassifier object; and 2) Encode your labels (y) as integers starting with 0, i.e. 0, 1, 2, ..., [num_class - 1].\n",
      "  warnings.warn(label_encoder_deprecation_msg, UserWarning)\n"
     ]
    },
    {
     "name": "stdout",
     "output_type": "stream",
     "text": [
      "[02:06:32] WARNING: /Users/runner/miniforge3/conda-bld/xgboost-split_1645117948562/work/src/learner.cc:1115: Starting in XGBoost 1.3.0, the default evaluation metric used with the objective 'binary:logistic' was changed from 'error' to 'logloss'. Explicitly set eval_metric if you'd like to restore the old behavior.\n"
     ]
    },
    {
     "name": "stderr",
     "output_type": "stream",
     "text": [
      "/var/folders/qh/f_xd4_hs7jq5186tyc9v3gdm0000gn/T/ipykernel_9245/2309985315.py:13: SettingWithCopyWarning: \n",
      "A value is trying to be set on a copy of a slice from a DataFrame.\n",
      "Try using .loc[row_indexer,col_indexer] = value instead\n",
      "\n",
      "See the caveats in the documentation: https://pandas.pydata.org/pandas-docs/stable/user_guide/indexing.html#returning-a-view-versus-a-copy\n",
      "  X_train['neighbors_target_mean_500']=neigh.predict(X_train_neibs)\n",
      "/var/folders/qh/f_xd4_hs7jq5186tyc9v3gdm0000gn/T/ipykernel_9245/2309985315.py:14: SettingWithCopyWarning: \n",
      "A value is trying to be set on a copy of a slice from a DataFrame.\n",
      "Try using .loc[row_indexer,col_indexer] = value instead\n",
      "\n",
      "See the caveats in the documentation: https://pandas.pydata.org/pandas-docs/stable/user_guide/indexing.html#returning-a-view-versus-a-copy\n",
      "  X_test['neighbors_target_mean_500']=neigh.predict(X_test_neibs)\n",
      "/opt/anaconda3/lib/python3.9/site-packages/xgboost/sklearn.py:1224: UserWarning: The use of label encoder in XGBClassifier is deprecated and will be removed in a future release. To remove this warning, do the following: 1) Pass option use_label_encoder=False when constructing XGBClassifier object; and 2) Encode your labels (y) as integers starting with 0, i.e. 0, 1, 2, ..., [num_class - 1].\n",
      "  warnings.warn(label_encoder_deprecation_msg, UserWarning)\n"
     ]
    },
    {
     "name": "stdout",
     "output_type": "stream",
     "text": [
      "[02:23:44] WARNING: /Users/runner/miniforge3/conda-bld/xgboost-split_1645117948562/work/src/learner.cc:1115: Starting in XGBoost 1.3.0, the default evaluation metric used with the objective 'binary:logistic' was changed from 'error' to 'logloss'. Explicitly set eval_metric if you'd like to restore the old behavior.\n"
     ]
    },
    {
     "name": "stderr",
     "output_type": "stream",
     "text": [
      "/var/folders/qh/f_xd4_hs7jq5186tyc9v3gdm0000gn/T/ipykernel_9245/2309985315.py:13: SettingWithCopyWarning: \n",
      "A value is trying to be set on a copy of a slice from a DataFrame.\n",
      "Try using .loc[row_indexer,col_indexer] = value instead\n",
      "\n",
      "See the caveats in the documentation: https://pandas.pydata.org/pandas-docs/stable/user_guide/indexing.html#returning-a-view-versus-a-copy\n",
      "  X_train['neighbors_target_mean_500']=neigh.predict(X_train_neibs)\n",
      "/var/folders/qh/f_xd4_hs7jq5186tyc9v3gdm0000gn/T/ipykernel_9245/2309985315.py:14: SettingWithCopyWarning: \n",
      "A value is trying to be set on a copy of a slice from a DataFrame.\n",
      "Try using .loc[row_indexer,col_indexer] = value instead\n",
      "\n",
      "See the caveats in the documentation: https://pandas.pydata.org/pandas-docs/stable/user_guide/indexing.html#returning-a-view-versus-a-copy\n",
      "  X_test['neighbors_target_mean_500']=neigh.predict(X_test_neibs)\n",
      "/opt/anaconda3/lib/python3.9/site-packages/xgboost/sklearn.py:1224: UserWarning: The use of label encoder in XGBClassifier is deprecated and will be removed in a future release. To remove this warning, do the following: 1) Pass option use_label_encoder=False when constructing XGBClassifier object; and 2) Encode your labels (y) as integers starting with 0, i.e. 0, 1, 2, ..., [num_class - 1].\n",
      "  warnings.warn(label_encoder_deprecation_msg, UserWarning)\n"
     ]
    },
    {
     "name": "stdout",
     "output_type": "stream",
     "text": [
      "[02:39:57] WARNING: /Users/runner/miniforge3/conda-bld/xgboost-split_1645117948562/work/src/learner.cc:1115: Starting in XGBoost 1.3.0, the default evaluation metric used with the objective 'binary:logistic' was changed from 'error' to 'logloss'. Explicitly set eval_metric if you'd like to restore the old behavior.\n",
      "score of Voting Classifier :  0.7023999235355448\n"
     ]
    }
   ],
   "source": [
    "compare_models_withfeatureeng(model_dict1,X_train3,Y_train)"
   ]
  },
  {
   "cell_type": "markdown",
   "id": "d5226c6f",
   "metadata": {},
   "source": [
    "Optimize Tree depth using CV"
   ]
  },
  {
   "cell_type": "code",
   "execution_count": null,
   "id": "b5534314",
   "metadata": {},
   "outputs": [],
   "source": [
    "model_dict2={}\n",
    "model_dict2['Random Forest3']=RandomForestClassifier(random_state=42,class_weight={1:10,0:1},max_depth=3)\n",
    "model_dict2['Random Forest4']=RandomForestClassifier(random_state=42,class_weight={1:10,0:1},max_depth=4)\n",
    "model_dict2['Random Forest5']=RandomForestClassifier(random_state=42,class_weight={1:10,0:1},max_depth=5)\n",
    "model_dict2['Random Forest6']=RandomForestClassifier(random_state=42,class_weight={1:10,0:1},max_depth=6)\n",
    "model_dict2['Random Forest7']=RandomForestClassifier(random_state=42,class_weight={1:10,0:1},max_depth=7)\n",
    "model_dict2['Random Forest8']=RandomForestClassifier(random_state=42,class_weight={1:10,0:1},max_depth=8)\n",
    "model_dict2['Random Forest9']=RandomForestClassifier(random_state=42,class_weight={1:10,0:1},max_depth=9)\n",
    "model_dict2['Random Forest10']=RandomForestClassifier(random_state=42,class_weight={1:10,0:1},max_depth=10)"
   ]
  },
  {
   "cell_type": "code",
   "execution_count": 91,
   "id": "474bc0db",
   "metadata": {},
   "outputs": [
    {
     "name": "stderr",
     "output_type": "stream",
     "text": [
      "/var/folders/qh/f_xd4_hs7jq5186tyc9v3gdm0000gn/T/ipykernel_9245/2309985315.py:13: SettingWithCopyWarning: \n",
      "A value is trying to be set on a copy of a slice from a DataFrame.\n",
      "Try using .loc[row_indexer,col_indexer] = value instead\n",
      "\n",
      "See the caveats in the documentation: https://pandas.pydata.org/pandas-docs/stable/user_guide/indexing.html#returning-a-view-versus-a-copy\n",
      "  X_train['neighbors_target_mean_500']=neigh.predict(X_train_neibs)\n",
      "/var/folders/qh/f_xd4_hs7jq5186tyc9v3gdm0000gn/T/ipykernel_9245/2309985315.py:14: SettingWithCopyWarning: \n",
      "A value is trying to be set on a copy of a slice from a DataFrame.\n",
      "Try using .loc[row_indexer,col_indexer] = value instead\n",
      "\n",
      "See the caveats in the documentation: https://pandas.pydata.org/pandas-docs/stable/user_guide/indexing.html#returning-a-view-versus-a-copy\n",
      "  X_test['neighbors_target_mean_500']=neigh.predict(X_test_neibs)\n",
      "/var/folders/qh/f_xd4_hs7jq5186tyc9v3gdm0000gn/T/ipykernel_9245/2309985315.py:13: SettingWithCopyWarning: \n",
      "A value is trying to be set on a copy of a slice from a DataFrame.\n",
      "Try using .loc[row_indexer,col_indexer] = value instead\n",
      "\n",
      "See the caveats in the documentation: https://pandas.pydata.org/pandas-docs/stable/user_guide/indexing.html#returning-a-view-versus-a-copy\n",
      "  X_train['neighbors_target_mean_500']=neigh.predict(X_train_neibs)\n",
      "/var/folders/qh/f_xd4_hs7jq5186tyc9v3gdm0000gn/T/ipykernel_9245/2309985315.py:14: SettingWithCopyWarning: \n",
      "A value is trying to be set on a copy of a slice from a DataFrame.\n",
      "Try using .loc[row_indexer,col_indexer] = value instead\n",
      "\n",
      "See the caveats in the documentation: https://pandas.pydata.org/pandas-docs/stable/user_guide/indexing.html#returning-a-view-versus-a-copy\n",
      "  X_test['neighbors_target_mean_500']=neigh.predict(X_test_neibs)\n",
      "/var/folders/qh/f_xd4_hs7jq5186tyc9v3gdm0000gn/T/ipykernel_9245/2309985315.py:13: SettingWithCopyWarning: \n",
      "A value is trying to be set on a copy of a slice from a DataFrame.\n",
      "Try using .loc[row_indexer,col_indexer] = value instead\n",
      "\n",
      "See the caveats in the documentation: https://pandas.pydata.org/pandas-docs/stable/user_guide/indexing.html#returning-a-view-versus-a-copy\n",
      "  X_train['neighbors_target_mean_500']=neigh.predict(X_train_neibs)\n",
      "/var/folders/qh/f_xd4_hs7jq5186tyc9v3gdm0000gn/T/ipykernel_9245/2309985315.py:14: SettingWithCopyWarning: \n",
      "A value is trying to be set on a copy of a slice from a DataFrame.\n",
      "Try using .loc[row_indexer,col_indexer] = value instead\n",
      "\n",
      "See the caveats in the documentation: https://pandas.pydata.org/pandas-docs/stable/user_guide/indexing.html#returning-a-view-versus-a-copy\n",
      "  X_test['neighbors_target_mean_500']=neigh.predict(X_test_neibs)\n"
     ]
    },
    {
     "name": "stdout",
     "output_type": "stream",
     "text": [
      "score of Random Forest3 :  0.7228208553522406\n"
     ]
    },
    {
     "name": "stderr",
     "output_type": "stream",
     "text": [
      "/var/folders/qh/f_xd4_hs7jq5186tyc9v3gdm0000gn/T/ipykernel_9245/2309985315.py:13: SettingWithCopyWarning: \n",
      "A value is trying to be set on a copy of a slice from a DataFrame.\n",
      "Try using .loc[row_indexer,col_indexer] = value instead\n",
      "\n",
      "See the caveats in the documentation: https://pandas.pydata.org/pandas-docs/stable/user_guide/indexing.html#returning-a-view-versus-a-copy\n",
      "  X_train['neighbors_target_mean_500']=neigh.predict(X_train_neibs)\n",
      "/var/folders/qh/f_xd4_hs7jq5186tyc9v3gdm0000gn/T/ipykernel_9245/2309985315.py:14: SettingWithCopyWarning: \n",
      "A value is trying to be set on a copy of a slice from a DataFrame.\n",
      "Try using .loc[row_indexer,col_indexer] = value instead\n",
      "\n",
      "See the caveats in the documentation: https://pandas.pydata.org/pandas-docs/stable/user_guide/indexing.html#returning-a-view-versus-a-copy\n",
      "  X_test['neighbors_target_mean_500']=neigh.predict(X_test_neibs)\n",
      "/var/folders/qh/f_xd4_hs7jq5186tyc9v3gdm0000gn/T/ipykernel_9245/2309985315.py:13: SettingWithCopyWarning: \n",
      "A value is trying to be set on a copy of a slice from a DataFrame.\n",
      "Try using .loc[row_indexer,col_indexer] = value instead\n",
      "\n",
      "See the caveats in the documentation: https://pandas.pydata.org/pandas-docs/stable/user_guide/indexing.html#returning-a-view-versus-a-copy\n",
      "  X_train['neighbors_target_mean_500']=neigh.predict(X_train_neibs)\n",
      "/var/folders/qh/f_xd4_hs7jq5186tyc9v3gdm0000gn/T/ipykernel_9245/2309985315.py:14: SettingWithCopyWarning: \n",
      "A value is trying to be set on a copy of a slice from a DataFrame.\n",
      "Try using .loc[row_indexer,col_indexer] = value instead\n",
      "\n",
      "See the caveats in the documentation: https://pandas.pydata.org/pandas-docs/stable/user_guide/indexing.html#returning-a-view-versus-a-copy\n",
      "  X_test['neighbors_target_mean_500']=neigh.predict(X_test_neibs)\n",
      "/var/folders/qh/f_xd4_hs7jq5186tyc9v3gdm0000gn/T/ipykernel_9245/2309985315.py:13: SettingWithCopyWarning: \n",
      "A value is trying to be set on a copy of a slice from a DataFrame.\n",
      "Try using .loc[row_indexer,col_indexer] = value instead\n",
      "\n",
      "See the caveats in the documentation: https://pandas.pydata.org/pandas-docs/stable/user_guide/indexing.html#returning-a-view-versus-a-copy\n",
      "  X_train['neighbors_target_mean_500']=neigh.predict(X_train_neibs)\n",
      "/var/folders/qh/f_xd4_hs7jq5186tyc9v3gdm0000gn/T/ipykernel_9245/2309985315.py:14: SettingWithCopyWarning: \n",
      "A value is trying to be set on a copy of a slice from a DataFrame.\n",
      "Try using .loc[row_indexer,col_indexer] = value instead\n",
      "\n",
      "See the caveats in the documentation: https://pandas.pydata.org/pandas-docs/stable/user_guide/indexing.html#returning-a-view-versus-a-copy\n",
      "  X_test['neighbors_target_mean_500']=neigh.predict(X_test_neibs)\n"
     ]
    },
    {
     "name": "stdout",
     "output_type": "stream",
     "text": [
      "score of Random Forest4 :  0.7250895165938527\n"
     ]
    },
    {
     "name": "stderr",
     "output_type": "stream",
     "text": [
      "/var/folders/qh/f_xd4_hs7jq5186tyc9v3gdm0000gn/T/ipykernel_9245/2309985315.py:13: SettingWithCopyWarning: \n",
      "A value is trying to be set on a copy of a slice from a DataFrame.\n",
      "Try using .loc[row_indexer,col_indexer] = value instead\n",
      "\n",
      "See the caveats in the documentation: https://pandas.pydata.org/pandas-docs/stable/user_guide/indexing.html#returning-a-view-versus-a-copy\n",
      "  X_train['neighbors_target_mean_500']=neigh.predict(X_train_neibs)\n",
      "/var/folders/qh/f_xd4_hs7jq5186tyc9v3gdm0000gn/T/ipykernel_9245/2309985315.py:14: SettingWithCopyWarning: \n",
      "A value is trying to be set on a copy of a slice from a DataFrame.\n",
      "Try using .loc[row_indexer,col_indexer] = value instead\n",
      "\n",
      "See the caveats in the documentation: https://pandas.pydata.org/pandas-docs/stable/user_guide/indexing.html#returning-a-view-versus-a-copy\n",
      "  X_test['neighbors_target_mean_500']=neigh.predict(X_test_neibs)\n",
      "/var/folders/qh/f_xd4_hs7jq5186tyc9v3gdm0000gn/T/ipykernel_9245/2309985315.py:13: SettingWithCopyWarning: \n",
      "A value is trying to be set on a copy of a slice from a DataFrame.\n",
      "Try using .loc[row_indexer,col_indexer] = value instead\n",
      "\n",
      "See the caveats in the documentation: https://pandas.pydata.org/pandas-docs/stable/user_guide/indexing.html#returning-a-view-versus-a-copy\n",
      "  X_train['neighbors_target_mean_500']=neigh.predict(X_train_neibs)\n",
      "/var/folders/qh/f_xd4_hs7jq5186tyc9v3gdm0000gn/T/ipykernel_9245/2309985315.py:14: SettingWithCopyWarning: \n",
      "A value is trying to be set on a copy of a slice from a DataFrame.\n",
      "Try using .loc[row_indexer,col_indexer] = value instead\n",
      "\n",
      "See the caveats in the documentation: https://pandas.pydata.org/pandas-docs/stable/user_guide/indexing.html#returning-a-view-versus-a-copy\n",
      "  X_test['neighbors_target_mean_500']=neigh.predict(X_test_neibs)\n",
      "/var/folders/qh/f_xd4_hs7jq5186tyc9v3gdm0000gn/T/ipykernel_9245/2309985315.py:13: SettingWithCopyWarning: \n",
      "A value is trying to be set on a copy of a slice from a DataFrame.\n",
      "Try using .loc[row_indexer,col_indexer] = value instead\n",
      "\n",
      "See the caveats in the documentation: https://pandas.pydata.org/pandas-docs/stable/user_guide/indexing.html#returning-a-view-versus-a-copy\n",
      "  X_train['neighbors_target_mean_500']=neigh.predict(X_train_neibs)\n",
      "/var/folders/qh/f_xd4_hs7jq5186tyc9v3gdm0000gn/T/ipykernel_9245/2309985315.py:14: SettingWithCopyWarning: \n",
      "A value is trying to be set on a copy of a slice from a DataFrame.\n",
      "Try using .loc[row_indexer,col_indexer] = value instead\n",
      "\n",
      "See the caveats in the documentation: https://pandas.pydata.org/pandas-docs/stable/user_guide/indexing.html#returning-a-view-versus-a-copy\n",
      "  X_test['neighbors_target_mean_500']=neigh.predict(X_test_neibs)\n"
     ]
    },
    {
     "name": "stdout",
     "output_type": "stream",
     "text": [
      "score of Random Forest5 :  0.727286506461859\n"
     ]
    },
    {
     "name": "stderr",
     "output_type": "stream",
     "text": [
      "/var/folders/qh/f_xd4_hs7jq5186tyc9v3gdm0000gn/T/ipykernel_9245/2309985315.py:13: SettingWithCopyWarning: \n",
      "A value is trying to be set on a copy of a slice from a DataFrame.\n",
      "Try using .loc[row_indexer,col_indexer] = value instead\n",
      "\n",
      "See the caveats in the documentation: https://pandas.pydata.org/pandas-docs/stable/user_guide/indexing.html#returning-a-view-versus-a-copy\n",
      "  X_train['neighbors_target_mean_500']=neigh.predict(X_train_neibs)\n",
      "/var/folders/qh/f_xd4_hs7jq5186tyc9v3gdm0000gn/T/ipykernel_9245/2309985315.py:14: SettingWithCopyWarning: \n",
      "A value is trying to be set on a copy of a slice from a DataFrame.\n",
      "Try using .loc[row_indexer,col_indexer] = value instead\n",
      "\n",
      "See the caveats in the documentation: https://pandas.pydata.org/pandas-docs/stable/user_guide/indexing.html#returning-a-view-versus-a-copy\n",
      "  X_test['neighbors_target_mean_500']=neigh.predict(X_test_neibs)\n",
      "/var/folders/qh/f_xd4_hs7jq5186tyc9v3gdm0000gn/T/ipykernel_9245/2309985315.py:13: SettingWithCopyWarning: \n",
      "A value is trying to be set on a copy of a slice from a DataFrame.\n",
      "Try using .loc[row_indexer,col_indexer] = value instead\n",
      "\n",
      "See the caveats in the documentation: https://pandas.pydata.org/pandas-docs/stable/user_guide/indexing.html#returning-a-view-versus-a-copy\n",
      "  X_train['neighbors_target_mean_500']=neigh.predict(X_train_neibs)\n",
      "/var/folders/qh/f_xd4_hs7jq5186tyc9v3gdm0000gn/T/ipykernel_9245/2309985315.py:14: SettingWithCopyWarning: \n",
      "A value is trying to be set on a copy of a slice from a DataFrame.\n",
      "Try using .loc[row_indexer,col_indexer] = value instead\n",
      "\n",
      "See the caveats in the documentation: https://pandas.pydata.org/pandas-docs/stable/user_guide/indexing.html#returning-a-view-versus-a-copy\n",
      "  X_test['neighbors_target_mean_500']=neigh.predict(X_test_neibs)\n",
      "/var/folders/qh/f_xd4_hs7jq5186tyc9v3gdm0000gn/T/ipykernel_9245/2309985315.py:13: SettingWithCopyWarning: \n",
      "A value is trying to be set on a copy of a slice from a DataFrame.\n",
      "Try using .loc[row_indexer,col_indexer] = value instead\n",
      "\n",
      "See the caveats in the documentation: https://pandas.pydata.org/pandas-docs/stable/user_guide/indexing.html#returning-a-view-versus-a-copy\n",
      "  X_train['neighbors_target_mean_500']=neigh.predict(X_train_neibs)\n",
      "/var/folders/qh/f_xd4_hs7jq5186tyc9v3gdm0000gn/T/ipykernel_9245/2309985315.py:14: SettingWithCopyWarning: \n",
      "A value is trying to be set on a copy of a slice from a DataFrame.\n",
      "Try using .loc[row_indexer,col_indexer] = value instead\n",
      "\n",
      "See the caveats in the documentation: https://pandas.pydata.org/pandas-docs/stable/user_guide/indexing.html#returning-a-view-versus-a-copy\n",
      "  X_test['neighbors_target_mean_500']=neigh.predict(X_test_neibs)\n"
     ]
    },
    {
     "name": "stdout",
     "output_type": "stream",
     "text": [
      "score of Random Forest6 :  0.728553994390963\n"
     ]
    },
    {
     "name": "stderr",
     "output_type": "stream",
     "text": [
      "/var/folders/qh/f_xd4_hs7jq5186tyc9v3gdm0000gn/T/ipykernel_9245/2309985315.py:13: SettingWithCopyWarning: \n",
      "A value is trying to be set on a copy of a slice from a DataFrame.\n",
      "Try using .loc[row_indexer,col_indexer] = value instead\n",
      "\n",
      "See the caveats in the documentation: https://pandas.pydata.org/pandas-docs/stable/user_guide/indexing.html#returning-a-view-versus-a-copy\n",
      "  X_train['neighbors_target_mean_500']=neigh.predict(X_train_neibs)\n",
      "/var/folders/qh/f_xd4_hs7jq5186tyc9v3gdm0000gn/T/ipykernel_9245/2309985315.py:14: SettingWithCopyWarning: \n",
      "A value is trying to be set on a copy of a slice from a DataFrame.\n",
      "Try using .loc[row_indexer,col_indexer] = value instead\n",
      "\n",
      "See the caveats in the documentation: https://pandas.pydata.org/pandas-docs/stable/user_guide/indexing.html#returning-a-view-versus-a-copy\n",
      "  X_test['neighbors_target_mean_500']=neigh.predict(X_test_neibs)\n",
      "/var/folders/qh/f_xd4_hs7jq5186tyc9v3gdm0000gn/T/ipykernel_9245/2309985315.py:13: SettingWithCopyWarning: \n",
      "A value is trying to be set on a copy of a slice from a DataFrame.\n",
      "Try using .loc[row_indexer,col_indexer] = value instead\n",
      "\n",
      "See the caveats in the documentation: https://pandas.pydata.org/pandas-docs/stable/user_guide/indexing.html#returning-a-view-versus-a-copy\n",
      "  X_train['neighbors_target_mean_500']=neigh.predict(X_train_neibs)\n",
      "/var/folders/qh/f_xd4_hs7jq5186tyc9v3gdm0000gn/T/ipykernel_9245/2309985315.py:14: SettingWithCopyWarning: \n",
      "A value is trying to be set on a copy of a slice from a DataFrame.\n",
      "Try using .loc[row_indexer,col_indexer] = value instead\n",
      "\n",
      "See the caveats in the documentation: https://pandas.pydata.org/pandas-docs/stable/user_guide/indexing.html#returning-a-view-versus-a-copy\n",
      "  X_test['neighbors_target_mean_500']=neigh.predict(X_test_neibs)\n",
      "/var/folders/qh/f_xd4_hs7jq5186tyc9v3gdm0000gn/T/ipykernel_9245/2309985315.py:13: SettingWithCopyWarning: \n",
      "A value is trying to be set on a copy of a slice from a DataFrame.\n",
      "Try using .loc[row_indexer,col_indexer] = value instead\n",
      "\n",
      "See the caveats in the documentation: https://pandas.pydata.org/pandas-docs/stable/user_guide/indexing.html#returning-a-view-versus-a-copy\n",
      "  X_train['neighbors_target_mean_500']=neigh.predict(X_train_neibs)\n",
      "/var/folders/qh/f_xd4_hs7jq5186tyc9v3gdm0000gn/T/ipykernel_9245/2309985315.py:14: SettingWithCopyWarning: \n",
      "A value is trying to be set on a copy of a slice from a DataFrame.\n",
      "Try using .loc[row_indexer,col_indexer] = value instead\n",
      "\n",
      "See the caveats in the documentation: https://pandas.pydata.org/pandas-docs/stable/user_guide/indexing.html#returning-a-view-versus-a-copy\n",
      "  X_test['neighbors_target_mean_500']=neigh.predict(X_test_neibs)\n"
     ]
    },
    {
     "name": "stdout",
     "output_type": "stream",
     "text": [
      "score of Random Forest7 :  0.7297296645817344\n"
     ]
    },
    {
     "name": "stderr",
     "output_type": "stream",
     "text": [
      "/var/folders/qh/f_xd4_hs7jq5186tyc9v3gdm0000gn/T/ipykernel_9245/2309985315.py:13: SettingWithCopyWarning: \n",
      "A value is trying to be set on a copy of a slice from a DataFrame.\n",
      "Try using .loc[row_indexer,col_indexer] = value instead\n",
      "\n",
      "See the caveats in the documentation: https://pandas.pydata.org/pandas-docs/stable/user_guide/indexing.html#returning-a-view-versus-a-copy\n",
      "  X_train['neighbors_target_mean_500']=neigh.predict(X_train_neibs)\n",
      "/var/folders/qh/f_xd4_hs7jq5186tyc9v3gdm0000gn/T/ipykernel_9245/2309985315.py:14: SettingWithCopyWarning: \n",
      "A value is trying to be set on a copy of a slice from a DataFrame.\n",
      "Try using .loc[row_indexer,col_indexer] = value instead\n",
      "\n",
      "See the caveats in the documentation: https://pandas.pydata.org/pandas-docs/stable/user_guide/indexing.html#returning-a-view-versus-a-copy\n",
      "  X_test['neighbors_target_mean_500']=neigh.predict(X_test_neibs)\n",
      "/var/folders/qh/f_xd4_hs7jq5186tyc9v3gdm0000gn/T/ipykernel_9245/2309985315.py:13: SettingWithCopyWarning: \n",
      "A value is trying to be set on a copy of a slice from a DataFrame.\n",
      "Try using .loc[row_indexer,col_indexer] = value instead\n",
      "\n",
      "See the caveats in the documentation: https://pandas.pydata.org/pandas-docs/stable/user_guide/indexing.html#returning-a-view-versus-a-copy\n",
      "  X_train['neighbors_target_mean_500']=neigh.predict(X_train_neibs)\n",
      "/var/folders/qh/f_xd4_hs7jq5186tyc9v3gdm0000gn/T/ipykernel_9245/2309985315.py:14: SettingWithCopyWarning: \n",
      "A value is trying to be set on a copy of a slice from a DataFrame.\n",
      "Try using .loc[row_indexer,col_indexer] = value instead\n",
      "\n",
      "See the caveats in the documentation: https://pandas.pydata.org/pandas-docs/stable/user_guide/indexing.html#returning-a-view-versus-a-copy\n",
      "  X_test['neighbors_target_mean_500']=neigh.predict(X_test_neibs)\n",
      "/var/folders/qh/f_xd4_hs7jq5186tyc9v3gdm0000gn/T/ipykernel_9245/2309985315.py:13: SettingWithCopyWarning: \n",
      "A value is trying to be set on a copy of a slice from a DataFrame.\n",
      "Try using .loc[row_indexer,col_indexer] = value instead\n",
      "\n",
      "See the caveats in the documentation: https://pandas.pydata.org/pandas-docs/stable/user_guide/indexing.html#returning-a-view-versus-a-copy\n",
      "  X_train['neighbors_target_mean_500']=neigh.predict(X_train_neibs)\n",
      "/var/folders/qh/f_xd4_hs7jq5186tyc9v3gdm0000gn/T/ipykernel_9245/2309985315.py:14: SettingWithCopyWarning: \n",
      "A value is trying to be set on a copy of a slice from a DataFrame.\n",
      "Try using .loc[row_indexer,col_indexer] = value instead\n",
      "\n",
      "See the caveats in the documentation: https://pandas.pydata.org/pandas-docs/stable/user_guide/indexing.html#returning-a-view-versus-a-copy\n",
      "  X_test['neighbors_target_mean_500']=neigh.predict(X_test_neibs)\n"
     ]
    },
    {
     "name": "stdout",
     "output_type": "stream",
     "text": [
      "score of Random Forest8 :  0.73030113935355\n"
     ]
    },
    {
     "name": "stderr",
     "output_type": "stream",
     "text": [
      "/var/folders/qh/f_xd4_hs7jq5186tyc9v3gdm0000gn/T/ipykernel_9245/2309985315.py:13: SettingWithCopyWarning: \n",
      "A value is trying to be set on a copy of a slice from a DataFrame.\n",
      "Try using .loc[row_indexer,col_indexer] = value instead\n",
      "\n",
      "See the caveats in the documentation: https://pandas.pydata.org/pandas-docs/stable/user_guide/indexing.html#returning-a-view-versus-a-copy\n",
      "  X_train['neighbors_target_mean_500']=neigh.predict(X_train_neibs)\n",
      "/var/folders/qh/f_xd4_hs7jq5186tyc9v3gdm0000gn/T/ipykernel_9245/2309985315.py:14: SettingWithCopyWarning: \n",
      "A value is trying to be set on a copy of a slice from a DataFrame.\n",
      "Try using .loc[row_indexer,col_indexer] = value instead\n",
      "\n",
      "See the caveats in the documentation: https://pandas.pydata.org/pandas-docs/stable/user_guide/indexing.html#returning-a-view-versus-a-copy\n",
      "  X_test['neighbors_target_mean_500']=neigh.predict(X_test_neibs)\n",
      "/var/folders/qh/f_xd4_hs7jq5186tyc9v3gdm0000gn/T/ipykernel_9245/2309985315.py:13: SettingWithCopyWarning: \n",
      "A value is trying to be set on a copy of a slice from a DataFrame.\n",
      "Try using .loc[row_indexer,col_indexer] = value instead\n",
      "\n",
      "See the caveats in the documentation: https://pandas.pydata.org/pandas-docs/stable/user_guide/indexing.html#returning-a-view-versus-a-copy\n",
      "  X_train['neighbors_target_mean_500']=neigh.predict(X_train_neibs)\n",
      "/var/folders/qh/f_xd4_hs7jq5186tyc9v3gdm0000gn/T/ipykernel_9245/2309985315.py:14: SettingWithCopyWarning: \n",
      "A value is trying to be set on a copy of a slice from a DataFrame.\n",
      "Try using .loc[row_indexer,col_indexer] = value instead\n",
      "\n",
      "See the caveats in the documentation: https://pandas.pydata.org/pandas-docs/stable/user_guide/indexing.html#returning-a-view-versus-a-copy\n",
      "  X_test['neighbors_target_mean_500']=neigh.predict(X_test_neibs)\n",
      "/var/folders/qh/f_xd4_hs7jq5186tyc9v3gdm0000gn/T/ipykernel_9245/2309985315.py:13: SettingWithCopyWarning: \n",
      "A value is trying to be set on a copy of a slice from a DataFrame.\n",
      "Try using .loc[row_indexer,col_indexer] = value instead\n",
      "\n",
      "See the caveats in the documentation: https://pandas.pydata.org/pandas-docs/stable/user_guide/indexing.html#returning-a-view-versus-a-copy\n",
      "  X_train['neighbors_target_mean_500']=neigh.predict(X_train_neibs)\n",
      "/var/folders/qh/f_xd4_hs7jq5186tyc9v3gdm0000gn/T/ipykernel_9245/2309985315.py:14: SettingWithCopyWarning: \n",
      "A value is trying to be set on a copy of a slice from a DataFrame.\n",
      "Try using .loc[row_indexer,col_indexer] = value instead\n",
      "\n",
      "See the caveats in the documentation: https://pandas.pydata.org/pandas-docs/stable/user_guide/indexing.html#returning-a-view-versus-a-copy\n",
      "  X_test['neighbors_target_mean_500']=neigh.predict(X_test_neibs)\n"
     ]
    },
    {
     "name": "stdout",
     "output_type": "stream",
     "text": [
      "score of Random Forest9 :  0.7301486092637633\n"
     ]
    },
    {
     "name": "stderr",
     "output_type": "stream",
     "text": [
      "/var/folders/qh/f_xd4_hs7jq5186tyc9v3gdm0000gn/T/ipykernel_9245/2309985315.py:13: SettingWithCopyWarning: \n",
      "A value is trying to be set on a copy of a slice from a DataFrame.\n",
      "Try using .loc[row_indexer,col_indexer] = value instead\n",
      "\n",
      "See the caveats in the documentation: https://pandas.pydata.org/pandas-docs/stable/user_guide/indexing.html#returning-a-view-versus-a-copy\n",
      "  X_train['neighbors_target_mean_500']=neigh.predict(X_train_neibs)\n",
      "/var/folders/qh/f_xd4_hs7jq5186tyc9v3gdm0000gn/T/ipykernel_9245/2309985315.py:14: SettingWithCopyWarning: \n",
      "A value is trying to be set on a copy of a slice from a DataFrame.\n",
      "Try using .loc[row_indexer,col_indexer] = value instead\n",
      "\n",
      "See the caveats in the documentation: https://pandas.pydata.org/pandas-docs/stable/user_guide/indexing.html#returning-a-view-versus-a-copy\n",
      "  X_test['neighbors_target_mean_500']=neigh.predict(X_test_neibs)\n",
      "/var/folders/qh/f_xd4_hs7jq5186tyc9v3gdm0000gn/T/ipykernel_9245/2309985315.py:13: SettingWithCopyWarning: \n",
      "A value is trying to be set on a copy of a slice from a DataFrame.\n",
      "Try using .loc[row_indexer,col_indexer] = value instead\n",
      "\n",
      "See the caveats in the documentation: https://pandas.pydata.org/pandas-docs/stable/user_guide/indexing.html#returning-a-view-versus-a-copy\n",
      "  X_train['neighbors_target_mean_500']=neigh.predict(X_train_neibs)\n",
      "/var/folders/qh/f_xd4_hs7jq5186tyc9v3gdm0000gn/T/ipykernel_9245/2309985315.py:14: SettingWithCopyWarning: \n",
      "A value is trying to be set on a copy of a slice from a DataFrame.\n",
      "Try using .loc[row_indexer,col_indexer] = value instead\n",
      "\n",
      "See the caveats in the documentation: https://pandas.pydata.org/pandas-docs/stable/user_guide/indexing.html#returning-a-view-versus-a-copy\n",
      "  X_test['neighbors_target_mean_500']=neigh.predict(X_test_neibs)\n"
     ]
    },
    {
     "ename": "KeyboardInterrupt",
     "evalue": "",
     "output_type": "error",
     "traceback": [
      "\u001b[0;31m---------------------------------------------------------------------------\u001b[0m",
      "\u001b[0;31mKeyboardInterrupt\u001b[0m                         Traceback (most recent call last)",
      "\u001b[0;32m/var/folders/qh/f_xd4_hs7jq5186tyc9v3gdm0000gn/T/ipykernel_9245/2172059005.py\u001b[0m in \u001b[0;36m<module>\u001b[0;34m\u001b[0m\n\u001b[0;32m----> 1\u001b[0;31m \u001b[0mcompare_models_withfeatureeng\u001b[0m\u001b[0;34m(\u001b[0m\u001b[0mmodel_dict2\u001b[0m\u001b[0;34m,\u001b[0m\u001b[0mX_train3\u001b[0m\u001b[0;34m,\u001b[0m\u001b[0mY_train\u001b[0m\u001b[0;34m)\u001b[0m\u001b[0;34m\u001b[0m\u001b[0;34m\u001b[0m\u001b[0m\n\u001b[0m",
      "\u001b[0;32m/var/folders/qh/f_xd4_hs7jq5186tyc9v3gdm0000gn/T/ipykernel_9245/2309985315.py\u001b[0m in \u001b[0;36mcompare_models_withfeatureeng\u001b[0;34m(model_dict, X, Y)\u001b[0m\n\u001b[1;32m     11\u001b[0m             \u001b[0mneigh\u001b[0m \u001b[0;34m=\u001b[0m \u001b[0mKNeighborsRegressor\u001b[0m\u001b[0;34m(\u001b[0m\u001b[0mn_neighbors\u001b[0m\u001b[0;34m=\u001b[0m\u001b[0;36m500\u001b[0m\u001b[0;34m)\u001b[0m\u001b[0;34m\u001b[0m\u001b[0;34m\u001b[0m\u001b[0m\n\u001b[1;32m     12\u001b[0m             \u001b[0mneigh\u001b[0m\u001b[0;34m.\u001b[0m\u001b[0mfit\u001b[0m\u001b[0;34m(\u001b[0m\u001b[0mX_train_neibs\u001b[0m\u001b[0;34m,\u001b[0m \u001b[0my_train\u001b[0m\u001b[0;34m)\u001b[0m\u001b[0;34m\u001b[0m\u001b[0;34m\u001b[0m\u001b[0m\n\u001b[0;32m---> 13\u001b[0;31m             \u001b[0mX_train\u001b[0m\u001b[0;34m[\u001b[0m\u001b[0;34m'neighbors_target_mean_500'\u001b[0m\u001b[0;34m]\u001b[0m\u001b[0;34m=\u001b[0m\u001b[0mneigh\u001b[0m\u001b[0;34m.\u001b[0m\u001b[0mpredict\u001b[0m\u001b[0;34m(\u001b[0m\u001b[0mX_train_neibs\u001b[0m\u001b[0;34m)\u001b[0m\u001b[0;34m\u001b[0m\u001b[0;34m\u001b[0m\u001b[0m\n\u001b[0m\u001b[1;32m     14\u001b[0m             \u001b[0mX_test\u001b[0m\u001b[0;34m[\u001b[0m\u001b[0;34m'neighbors_target_mean_500'\u001b[0m\u001b[0;34m]\u001b[0m\u001b[0;34m=\u001b[0m\u001b[0mneigh\u001b[0m\u001b[0;34m.\u001b[0m\u001b[0mpredict\u001b[0m\u001b[0;34m(\u001b[0m\u001b[0mX_test_neibs\u001b[0m\u001b[0;34m)\u001b[0m\u001b[0;34m\u001b[0m\u001b[0;34m\u001b[0m\u001b[0m\n\u001b[1;32m     15\u001b[0m             \u001b[0mmdl\u001b[0m\u001b[0;34m.\u001b[0m\u001b[0mfit\u001b[0m\u001b[0;34m(\u001b[0m\u001b[0mX_train\u001b[0m\u001b[0;34m,\u001b[0m \u001b[0my_train\u001b[0m\u001b[0;34m)\u001b[0m\u001b[0;34m\u001b[0m\u001b[0;34m\u001b[0m\u001b[0m\n",
      "\u001b[0;32m/opt/anaconda3/lib/python3.9/site-packages/sklearn/neighbors/_regression.py\u001b[0m in \u001b[0;36mpredict\u001b[0;34m(self, X)\u001b[0m\n\u001b[1;32m    206\u001b[0m         \u001b[0mX\u001b[0m \u001b[0;34m=\u001b[0m \u001b[0mcheck_array\u001b[0m\u001b[0;34m(\u001b[0m\u001b[0mX\u001b[0m\u001b[0;34m,\u001b[0m \u001b[0maccept_sparse\u001b[0m\u001b[0;34m=\u001b[0m\u001b[0;34m'csr'\u001b[0m\u001b[0;34m)\u001b[0m\u001b[0;34m\u001b[0m\u001b[0;34m\u001b[0m\u001b[0m\n\u001b[1;32m    207\u001b[0m \u001b[0;34m\u001b[0m\u001b[0m\n\u001b[0;32m--> 208\u001b[0;31m         \u001b[0mneigh_dist\u001b[0m\u001b[0;34m,\u001b[0m \u001b[0mneigh_ind\u001b[0m \u001b[0;34m=\u001b[0m \u001b[0mself\u001b[0m\u001b[0;34m.\u001b[0m\u001b[0mkneighbors\u001b[0m\u001b[0;34m(\u001b[0m\u001b[0mX\u001b[0m\u001b[0;34m)\u001b[0m\u001b[0;34m\u001b[0m\u001b[0;34m\u001b[0m\u001b[0m\n\u001b[0m\u001b[1;32m    209\u001b[0m \u001b[0;34m\u001b[0m\u001b[0m\n\u001b[1;32m    210\u001b[0m         \u001b[0mweights\u001b[0m \u001b[0;34m=\u001b[0m \u001b[0m_get_weights\u001b[0m\u001b[0;34m(\u001b[0m\u001b[0mneigh_dist\u001b[0m\u001b[0;34m,\u001b[0m \u001b[0mself\u001b[0m\u001b[0;34m.\u001b[0m\u001b[0mweights\u001b[0m\u001b[0;34m)\u001b[0m\u001b[0;34m\u001b[0m\u001b[0;34m\u001b[0m\u001b[0m\n",
      "\u001b[0;32m/opt/anaconda3/lib/python3.9/site-packages/sklearn/neighbors/_base.py\u001b[0m in \u001b[0;36mkneighbors\u001b[0;34m(self, X, n_neighbors, return_distance)\u001b[0m\n\u001b[1;32m    720\u001b[0m             \u001b[0;32melse\u001b[0m\u001b[0;34m:\u001b[0m\u001b[0;34m\u001b[0m\u001b[0;34m\u001b[0m\u001b[0m\n\u001b[1;32m    721\u001b[0m                 \u001b[0mparallel_kwargs\u001b[0m \u001b[0;34m=\u001b[0m \u001b[0;34m{\u001b[0m\u001b[0;34m\"prefer\"\u001b[0m\u001b[0;34m:\u001b[0m \u001b[0;34m\"threads\"\u001b[0m\u001b[0;34m}\u001b[0m\u001b[0;34m\u001b[0m\u001b[0;34m\u001b[0m\u001b[0m\n\u001b[0;32m--> 722\u001b[0;31m             chunked_results = Parallel(n_jobs, **parallel_kwargs)(\n\u001b[0m\u001b[1;32m    723\u001b[0m                 delayed(_tree_query_parallel_helper)(\n\u001b[1;32m    724\u001b[0m                     self._tree, X[s], n_neighbors, return_distance)\n",
      "\u001b[0;32m/opt/anaconda3/lib/python3.9/site-packages/joblib/parallel.py\u001b[0m in \u001b[0;36m__call__\u001b[0;34m(self, iterable)\u001b[0m\n\u001b[1;32m   1041\u001b[0m             \u001b[0;31m# remaining jobs.\u001b[0m\u001b[0;34m\u001b[0m\u001b[0;34m\u001b[0m\u001b[0m\n\u001b[1;32m   1042\u001b[0m             \u001b[0mself\u001b[0m\u001b[0;34m.\u001b[0m\u001b[0m_iterating\u001b[0m \u001b[0;34m=\u001b[0m \u001b[0;32mFalse\u001b[0m\u001b[0;34m\u001b[0m\u001b[0;34m\u001b[0m\u001b[0m\n\u001b[0;32m-> 1043\u001b[0;31m             \u001b[0;32mif\u001b[0m \u001b[0mself\u001b[0m\u001b[0;34m.\u001b[0m\u001b[0mdispatch_one_batch\u001b[0m\u001b[0;34m(\u001b[0m\u001b[0miterator\u001b[0m\u001b[0;34m)\u001b[0m\u001b[0;34m:\u001b[0m\u001b[0;34m\u001b[0m\u001b[0;34m\u001b[0m\u001b[0m\n\u001b[0m\u001b[1;32m   1044\u001b[0m                 \u001b[0mself\u001b[0m\u001b[0;34m.\u001b[0m\u001b[0m_iterating\u001b[0m \u001b[0;34m=\u001b[0m \u001b[0mself\u001b[0m\u001b[0;34m.\u001b[0m\u001b[0m_original_iterator\u001b[0m \u001b[0;32mis\u001b[0m \u001b[0;32mnot\u001b[0m \u001b[0;32mNone\u001b[0m\u001b[0;34m\u001b[0m\u001b[0;34m\u001b[0m\u001b[0m\n\u001b[1;32m   1045\u001b[0m \u001b[0;34m\u001b[0m\u001b[0m\n",
      "\u001b[0;32m/opt/anaconda3/lib/python3.9/site-packages/joblib/parallel.py\u001b[0m in \u001b[0;36mdispatch_one_batch\u001b[0;34m(self, iterator)\u001b[0m\n\u001b[1;32m    859\u001b[0m                 \u001b[0;32mreturn\u001b[0m \u001b[0;32mFalse\u001b[0m\u001b[0;34m\u001b[0m\u001b[0;34m\u001b[0m\u001b[0m\n\u001b[1;32m    860\u001b[0m             \u001b[0;32melse\u001b[0m\u001b[0;34m:\u001b[0m\u001b[0;34m\u001b[0m\u001b[0;34m\u001b[0m\u001b[0m\n\u001b[0;32m--> 861\u001b[0;31m                 \u001b[0mself\u001b[0m\u001b[0;34m.\u001b[0m\u001b[0m_dispatch\u001b[0m\u001b[0;34m(\u001b[0m\u001b[0mtasks\u001b[0m\u001b[0;34m)\u001b[0m\u001b[0;34m\u001b[0m\u001b[0;34m\u001b[0m\u001b[0m\n\u001b[0m\u001b[1;32m    862\u001b[0m                 \u001b[0;32mreturn\u001b[0m \u001b[0;32mTrue\u001b[0m\u001b[0;34m\u001b[0m\u001b[0;34m\u001b[0m\u001b[0m\n\u001b[1;32m    863\u001b[0m \u001b[0;34m\u001b[0m\u001b[0m\n",
      "\u001b[0;32m/opt/anaconda3/lib/python3.9/site-packages/joblib/parallel.py\u001b[0m in \u001b[0;36m_dispatch\u001b[0;34m(self, batch)\u001b[0m\n\u001b[1;32m    777\u001b[0m         \u001b[0;32mwith\u001b[0m \u001b[0mself\u001b[0m\u001b[0;34m.\u001b[0m\u001b[0m_lock\u001b[0m\u001b[0;34m:\u001b[0m\u001b[0;34m\u001b[0m\u001b[0;34m\u001b[0m\u001b[0m\n\u001b[1;32m    778\u001b[0m             \u001b[0mjob_idx\u001b[0m \u001b[0;34m=\u001b[0m \u001b[0mlen\u001b[0m\u001b[0;34m(\u001b[0m\u001b[0mself\u001b[0m\u001b[0;34m.\u001b[0m\u001b[0m_jobs\u001b[0m\u001b[0;34m)\u001b[0m\u001b[0;34m\u001b[0m\u001b[0;34m\u001b[0m\u001b[0m\n\u001b[0;32m--> 779\u001b[0;31m             \u001b[0mjob\u001b[0m \u001b[0;34m=\u001b[0m \u001b[0mself\u001b[0m\u001b[0;34m.\u001b[0m\u001b[0m_backend\u001b[0m\u001b[0;34m.\u001b[0m\u001b[0mapply_async\u001b[0m\u001b[0;34m(\u001b[0m\u001b[0mbatch\u001b[0m\u001b[0;34m,\u001b[0m \u001b[0mcallback\u001b[0m\u001b[0;34m=\u001b[0m\u001b[0mcb\u001b[0m\u001b[0;34m)\u001b[0m\u001b[0;34m\u001b[0m\u001b[0;34m\u001b[0m\u001b[0m\n\u001b[0m\u001b[1;32m    780\u001b[0m             \u001b[0;31m# A job can complete so quickly than its callback is\u001b[0m\u001b[0;34m\u001b[0m\u001b[0;34m\u001b[0m\u001b[0m\n\u001b[1;32m    781\u001b[0m             \u001b[0;31m# called before we get here, causing self._jobs to\u001b[0m\u001b[0;34m\u001b[0m\u001b[0;34m\u001b[0m\u001b[0m\n",
      "\u001b[0;32m/opt/anaconda3/lib/python3.9/site-packages/joblib/_parallel_backends.py\u001b[0m in \u001b[0;36mapply_async\u001b[0;34m(self, func, callback)\u001b[0m\n\u001b[1;32m    206\u001b[0m     \u001b[0;32mdef\u001b[0m \u001b[0mapply_async\u001b[0m\u001b[0;34m(\u001b[0m\u001b[0mself\u001b[0m\u001b[0;34m,\u001b[0m \u001b[0mfunc\u001b[0m\u001b[0;34m,\u001b[0m \u001b[0mcallback\u001b[0m\u001b[0;34m=\u001b[0m\u001b[0;32mNone\u001b[0m\u001b[0;34m)\u001b[0m\u001b[0;34m:\u001b[0m\u001b[0;34m\u001b[0m\u001b[0;34m\u001b[0m\u001b[0m\n\u001b[1;32m    207\u001b[0m         \u001b[0;34m\"\"\"Schedule a func to be run\"\"\"\u001b[0m\u001b[0;34m\u001b[0m\u001b[0;34m\u001b[0m\u001b[0m\n\u001b[0;32m--> 208\u001b[0;31m         \u001b[0mresult\u001b[0m \u001b[0;34m=\u001b[0m \u001b[0mImmediateResult\u001b[0m\u001b[0;34m(\u001b[0m\u001b[0mfunc\u001b[0m\u001b[0;34m)\u001b[0m\u001b[0;34m\u001b[0m\u001b[0;34m\u001b[0m\u001b[0m\n\u001b[0m\u001b[1;32m    209\u001b[0m         \u001b[0;32mif\u001b[0m \u001b[0mcallback\u001b[0m\u001b[0;34m:\u001b[0m\u001b[0;34m\u001b[0m\u001b[0;34m\u001b[0m\u001b[0m\n\u001b[1;32m    210\u001b[0m             \u001b[0mcallback\u001b[0m\u001b[0;34m(\u001b[0m\u001b[0mresult\u001b[0m\u001b[0;34m)\u001b[0m\u001b[0;34m\u001b[0m\u001b[0;34m\u001b[0m\u001b[0m\n",
      "\u001b[0;32m/opt/anaconda3/lib/python3.9/site-packages/joblib/_parallel_backends.py\u001b[0m in \u001b[0;36m__init__\u001b[0;34m(self, batch)\u001b[0m\n\u001b[1;32m    570\u001b[0m         \u001b[0;31m# Don't delay the application, to avoid keeping the input\u001b[0m\u001b[0;34m\u001b[0m\u001b[0;34m\u001b[0m\u001b[0m\n\u001b[1;32m    571\u001b[0m         \u001b[0;31m# arguments in memory\u001b[0m\u001b[0;34m\u001b[0m\u001b[0;34m\u001b[0m\u001b[0m\n\u001b[0;32m--> 572\u001b[0;31m         \u001b[0mself\u001b[0m\u001b[0;34m.\u001b[0m\u001b[0mresults\u001b[0m \u001b[0;34m=\u001b[0m \u001b[0mbatch\u001b[0m\u001b[0;34m(\u001b[0m\u001b[0;34m)\u001b[0m\u001b[0;34m\u001b[0m\u001b[0;34m\u001b[0m\u001b[0m\n\u001b[0m\u001b[1;32m    573\u001b[0m \u001b[0;34m\u001b[0m\u001b[0m\n\u001b[1;32m    574\u001b[0m     \u001b[0;32mdef\u001b[0m \u001b[0mget\u001b[0m\u001b[0;34m(\u001b[0m\u001b[0mself\u001b[0m\u001b[0;34m)\u001b[0m\u001b[0;34m:\u001b[0m\u001b[0;34m\u001b[0m\u001b[0;34m\u001b[0m\u001b[0m\n",
      "\u001b[0;32m/opt/anaconda3/lib/python3.9/site-packages/joblib/parallel.py\u001b[0m in \u001b[0;36m__call__\u001b[0;34m(self)\u001b[0m\n\u001b[1;32m    260\u001b[0m         \u001b[0;31m# change the default number of processes to -1\u001b[0m\u001b[0;34m\u001b[0m\u001b[0;34m\u001b[0m\u001b[0m\n\u001b[1;32m    261\u001b[0m         \u001b[0;32mwith\u001b[0m \u001b[0mparallel_backend\u001b[0m\u001b[0;34m(\u001b[0m\u001b[0mself\u001b[0m\u001b[0;34m.\u001b[0m\u001b[0m_backend\u001b[0m\u001b[0;34m,\u001b[0m \u001b[0mn_jobs\u001b[0m\u001b[0;34m=\u001b[0m\u001b[0mself\u001b[0m\u001b[0;34m.\u001b[0m\u001b[0m_n_jobs\u001b[0m\u001b[0;34m)\u001b[0m\u001b[0;34m:\u001b[0m\u001b[0;34m\u001b[0m\u001b[0;34m\u001b[0m\u001b[0m\n\u001b[0;32m--> 262\u001b[0;31m             return [func(*args, **kwargs)\n\u001b[0m\u001b[1;32m    263\u001b[0m                     for func, args, kwargs in self.items]\n\u001b[1;32m    264\u001b[0m \u001b[0;34m\u001b[0m\u001b[0m\n",
      "\u001b[0;32m/opt/anaconda3/lib/python3.9/site-packages/joblib/parallel.py\u001b[0m in \u001b[0;36m<listcomp>\u001b[0;34m(.0)\u001b[0m\n\u001b[1;32m    260\u001b[0m         \u001b[0;31m# change the default number of processes to -1\u001b[0m\u001b[0;34m\u001b[0m\u001b[0;34m\u001b[0m\u001b[0m\n\u001b[1;32m    261\u001b[0m         \u001b[0;32mwith\u001b[0m \u001b[0mparallel_backend\u001b[0m\u001b[0;34m(\u001b[0m\u001b[0mself\u001b[0m\u001b[0;34m.\u001b[0m\u001b[0m_backend\u001b[0m\u001b[0;34m,\u001b[0m \u001b[0mn_jobs\u001b[0m\u001b[0;34m=\u001b[0m\u001b[0mself\u001b[0m\u001b[0;34m.\u001b[0m\u001b[0m_n_jobs\u001b[0m\u001b[0;34m)\u001b[0m\u001b[0;34m:\u001b[0m\u001b[0;34m\u001b[0m\u001b[0;34m\u001b[0m\u001b[0m\n\u001b[0;32m--> 262\u001b[0;31m             return [func(*args, **kwargs)\n\u001b[0m\u001b[1;32m    263\u001b[0m                     for func, args, kwargs in self.items]\n\u001b[1;32m    264\u001b[0m \u001b[0;34m\u001b[0m\u001b[0m\n",
      "\u001b[0;32m/opt/anaconda3/lib/python3.9/site-packages/sklearn/utils/fixes.py\u001b[0m in \u001b[0;36m__call__\u001b[0;34m(self, *args, **kwargs)\u001b[0m\n\u001b[1;32m    220\u001b[0m     \u001b[0;32mdef\u001b[0m \u001b[0m__call__\u001b[0m\u001b[0;34m(\u001b[0m\u001b[0mself\u001b[0m\u001b[0;34m,\u001b[0m \u001b[0;34m*\u001b[0m\u001b[0margs\u001b[0m\u001b[0;34m,\u001b[0m \u001b[0;34m**\u001b[0m\u001b[0mkwargs\u001b[0m\u001b[0;34m)\u001b[0m\u001b[0;34m:\u001b[0m\u001b[0;34m\u001b[0m\u001b[0;34m\u001b[0m\u001b[0m\n\u001b[1;32m    221\u001b[0m         \u001b[0;32mwith\u001b[0m \u001b[0mconfig_context\u001b[0m\u001b[0;34m(\u001b[0m\u001b[0;34m**\u001b[0m\u001b[0mself\u001b[0m\u001b[0;34m.\u001b[0m\u001b[0mconfig\u001b[0m\u001b[0;34m)\u001b[0m\u001b[0;34m:\u001b[0m\u001b[0;34m\u001b[0m\u001b[0;34m\u001b[0m\u001b[0m\n\u001b[0;32m--> 222\u001b[0;31m             \u001b[0;32mreturn\u001b[0m \u001b[0mself\u001b[0m\u001b[0;34m.\u001b[0m\u001b[0mfunction\u001b[0m\u001b[0;34m(\u001b[0m\u001b[0;34m*\u001b[0m\u001b[0margs\u001b[0m\u001b[0;34m,\u001b[0m \u001b[0;34m**\u001b[0m\u001b[0mkwargs\u001b[0m\u001b[0;34m)\u001b[0m\u001b[0;34m\u001b[0m\u001b[0;34m\u001b[0m\u001b[0m\n\u001b[0m",
      "\u001b[0;32m/opt/anaconda3/lib/python3.9/site-packages/sklearn/neighbors/_base.py\u001b[0m in \u001b[0;36m_tree_query_parallel_helper\u001b[0;34m(tree, *args, **kwargs)\u001b[0m\n\u001b[1;32m    545\u001b[0m     \u001b[0munder\u001b[0m \u001b[0mPyPy\u001b[0m\u001b[0;34m.\u001b[0m\u001b[0;34m\u001b[0m\u001b[0;34m\u001b[0m\u001b[0m\n\u001b[1;32m    546\u001b[0m     \"\"\"\n\u001b[0;32m--> 547\u001b[0;31m     \u001b[0;32mreturn\u001b[0m \u001b[0mtree\u001b[0m\u001b[0;34m.\u001b[0m\u001b[0mquery\u001b[0m\u001b[0;34m(\u001b[0m\u001b[0;34m*\u001b[0m\u001b[0margs\u001b[0m\u001b[0;34m,\u001b[0m \u001b[0;34m**\u001b[0m\u001b[0mkwargs\u001b[0m\u001b[0;34m)\u001b[0m\u001b[0;34m\u001b[0m\u001b[0;34m\u001b[0m\u001b[0m\n\u001b[0m\u001b[1;32m    548\u001b[0m \u001b[0;34m\u001b[0m\u001b[0m\n\u001b[1;32m    549\u001b[0m \u001b[0;34m\u001b[0m\u001b[0m\n",
      "\u001b[0;31mKeyboardInterrupt\u001b[0m: "
     ]
    }
   ],
   "source": [
    "compare_models_withfeatureeng(model_dict2,X_train3,Y_train)"
   ]
  },
  {
   "cell_type": "code",
   "execution_count": 92,
   "id": "eacaea3b",
   "metadata": {},
   "outputs": [],
   "source": [
    "model_dict3={}\n",
    "model_dict3['Random Forest0']=RandomForestClassifier(random_state=42)\n",
    "model_dict3['Random Forest1']=RandomForestClassifier(random_state=42,class_weight={1:10,0:1})\n",
    "model_dict3['Random Forest2']=RandomForestClassifier(random_state=42,class_weight={1:20,0:1})\n",
    "model_dict3['Random Forest3']=RandomForestClassifier(random_state=42,class_weight={1:30,0:1})\n",
    "model_dict3['Random Forest4']=RandomForestClassifier(random_state=42,class_weight={1:40,0:1})"
   ]
  },
  {
   "cell_type": "code",
   "execution_count": 93,
   "id": "eef93ba4",
   "metadata": {},
   "outputs": [
    {
     "name": "stderr",
     "output_type": "stream",
     "text": [
      "/var/folders/qh/f_xd4_hs7jq5186tyc9v3gdm0000gn/T/ipykernel_9245/2309985315.py:13: SettingWithCopyWarning: \n",
      "A value is trying to be set on a copy of a slice from a DataFrame.\n",
      "Try using .loc[row_indexer,col_indexer] = value instead\n",
      "\n",
      "See the caveats in the documentation: https://pandas.pydata.org/pandas-docs/stable/user_guide/indexing.html#returning-a-view-versus-a-copy\n",
      "  X_train['neighbors_target_mean_500']=neigh.predict(X_train_neibs)\n",
      "/var/folders/qh/f_xd4_hs7jq5186tyc9v3gdm0000gn/T/ipykernel_9245/2309985315.py:14: SettingWithCopyWarning: \n",
      "A value is trying to be set on a copy of a slice from a DataFrame.\n",
      "Try using .loc[row_indexer,col_indexer] = value instead\n",
      "\n",
      "See the caveats in the documentation: https://pandas.pydata.org/pandas-docs/stable/user_guide/indexing.html#returning-a-view-versus-a-copy\n",
      "  X_test['neighbors_target_mean_500']=neigh.predict(X_test_neibs)\n",
      "/var/folders/qh/f_xd4_hs7jq5186tyc9v3gdm0000gn/T/ipykernel_9245/2309985315.py:13: SettingWithCopyWarning: \n",
      "A value is trying to be set on a copy of a slice from a DataFrame.\n",
      "Try using .loc[row_indexer,col_indexer] = value instead\n",
      "\n",
      "See the caveats in the documentation: https://pandas.pydata.org/pandas-docs/stable/user_guide/indexing.html#returning-a-view-versus-a-copy\n",
      "  X_train['neighbors_target_mean_500']=neigh.predict(X_train_neibs)\n",
      "/var/folders/qh/f_xd4_hs7jq5186tyc9v3gdm0000gn/T/ipykernel_9245/2309985315.py:14: SettingWithCopyWarning: \n",
      "A value is trying to be set on a copy of a slice from a DataFrame.\n",
      "Try using .loc[row_indexer,col_indexer] = value instead\n",
      "\n",
      "See the caveats in the documentation: https://pandas.pydata.org/pandas-docs/stable/user_guide/indexing.html#returning-a-view-versus-a-copy\n",
      "  X_test['neighbors_target_mean_500']=neigh.predict(X_test_neibs)\n",
      "/var/folders/qh/f_xd4_hs7jq5186tyc9v3gdm0000gn/T/ipykernel_9245/2309985315.py:13: SettingWithCopyWarning: \n",
      "A value is trying to be set on a copy of a slice from a DataFrame.\n",
      "Try using .loc[row_indexer,col_indexer] = value instead\n",
      "\n",
      "See the caveats in the documentation: https://pandas.pydata.org/pandas-docs/stable/user_guide/indexing.html#returning-a-view-versus-a-copy\n",
      "  X_train['neighbors_target_mean_500']=neigh.predict(X_train_neibs)\n",
      "/var/folders/qh/f_xd4_hs7jq5186tyc9v3gdm0000gn/T/ipykernel_9245/2309985315.py:14: SettingWithCopyWarning: \n",
      "A value is trying to be set on a copy of a slice from a DataFrame.\n",
      "Try using .loc[row_indexer,col_indexer] = value instead\n",
      "\n",
      "See the caveats in the documentation: https://pandas.pydata.org/pandas-docs/stable/user_guide/indexing.html#returning-a-view-versus-a-copy\n",
      "  X_test['neighbors_target_mean_500']=neigh.predict(X_test_neibs)\n"
     ]
    },
    {
     "name": "stdout",
     "output_type": "stream",
     "text": [
      "score of Random Forest0 :  0.7043496281853758\n"
     ]
    },
    {
     "name": "stderr",
     "output_type": "stream",
     "text": [
      "/var/folders/qh/f_xd4_hs7jq5186tyc9v3gdm0000gn/T/ipykernel_9245/2309985315.py:13: SettingWithCopyWarning: \n",
      "A value is trying to be set on a copy of a slice from a DataFrame.\n",
      "Try using .loc[row_indexer,col_indexer] = value instead\n",
      "\n",
      "See the caveats in the documentation: https://pandas.pydata.org/pandas-docs/stable/user_guide/indexing.html#returning-a-view-versus-a-copy\n",
      "  X_train['neighbors_target_mean_500']=neigh.predict(X_train_neibs)\n",
      "/var/folders/qh/f_xd4_hs7jq5186tyc9v3gdm0000gn/T/ipykernel_9245/2309985315.py:14: SettingWithCopyWarning: \n",
      "A value is trying to be set on a copy of a slice from a DataFrame.\n",
      "Try using .loc[row_indexer,col_indexer] = value instead\n",
      "\n",
      "See the caveats in the documentation: https://pandas.pydata.org/pandas-docs/stable/user_guide/indexing.html#returning-a-view-versus-a-copy\n",
      "  X_test['neighbors_target_mean_500']=neigh.predict(X_test_neibs)\n",
      "/var/folders/qh/f_xd4_hs7jq5186tyc9v3gdm0000gn/T/ipykernel_9245/2309985315.py:13: SettingWithCopyWarning: \n",
      "A value is trying to be set on a copy of a slice from a DataFrame.\n",
      "Try using .loc[row_indexer,col_indexer] = value instead\n",
      "\n",
      "See the caveats in the documentation: https://pandas.pydata.org/pandas-docs/stable/user_guide/indexing.html#returning-a-view-versus-a-copy\n",
      "  X_train['neighbors_target_mean_500']=neigh.predict(X_train_neibs)\n",
      "/var/folders/qh/f_xd4_hs7jq5186tyc9v3gdm0000gn/T/ipykernel_9245/2309985315.py:14: SettingWithCopyWarning: \n",
      "A value is trying to be set on a copy of a slice from a DataFrame.\n",
      "Try using .loc[row_indexer,col_indexer] = value instead\n",
      "\n",
      "See the caveats in the documentation: https://pandas.pydata.org/pandas-docs/stable/user_guide/indexing.html#returning-a-view-versus-a-copy\n",
      "  X_test['neighbors_target_mean_500']=neigh.predict(X_test_neibs)\n",
      "/var/folders/qh/f_xd4_hs7jq5186tyc9v3gdm0000gn/T/ipykernel_9245/2309985315.py:13: SettingWithCopyWarning: \n",
      "A value is trying to be set on a copy of a slice from a DataFrame.\n",
      "Try using .loc[row_indexer,col_indexer] = value instead\n",
      "\n",
      "See the caveats in the documentation: https://pandas.pydata.org/pandas-docs/stable/user_guide/indexing.html#returning-a-view-versus-a-copy\n",
      "  X_train['neighbors_target_mean_500']=neigh.predict(X_train_neibs)\n",
      "/var/folders/qh/f_xd4_hs7jq5186tyc9v3gdm0000gn/T/ipykernel_9245/2309985315.py:14: SettingWithCopyWarning: \n",
      "A value is trying to be set on a copy of a slice from a DataFrame.\n",
      "Try using .loc[row_indexer,col_indexer] = value instead\n",
      "\n",
      "See the caveats in the documentation: https://pandas.pydata.org/pandas-docs/stable/user_guide/indexing.html#returning-a-view-versus-a-copy\n",
      "  X_test['neighbors_target_mean_500']=neigh.predict(X_test_neibs)\n"
     ]
    },
    {
     "name": "stdout",
     "output_type": "stream",
     "text": [
      "score of Random Forest1 :  0.7048729096056513\n"
     ]
    },
    {
     "name": "stderr",
     "output_type": "stream",
     "text": [
      "/var/folders/qh/f_xd4_hs7jq5186tyc9v3gdm0000gn/T/ipykernel_9245/2309985315.py:13: SettingWithCopyWarning: \n",
      "A value is trying to be set on a copy of a slice from a DataFrame.\n",
      "Try using .loc[row_indexer,col_indexer] = value instead\n",
      "\n",
      "See the caveats in the documentation: https://pandas.pydata.org/pandas-docs/stable/user_guide/indexing.html#returning-a-view-versus-a-copy\n",
      "  X_train['neighbors_target_mean_500']=neigh.predict(X_train_neibs)\n",
      "/var/folders/qh/f_xd4_hs7jq5186tyc9v3gdm0000gn/T/ipykernel_9245/2309985315.py:14: SettingWithCopyWarning: \n",
      "A value is trying to be set on a copy of a slice from a DataFrame.\n",
      "Try using .loc[row_indexer,col_indexer] = value instead\n",
      "\n",
      "See the caveats in the documentation: https://pandas.pydata.org/pandas-docs/stable/user_guide/indexing.html#returning-a-view-versus-a-copy\n",
      "  X_test['neighbors_target_mean_500']=neigh.predict(X_test_neibs)\n",
      "/var/folders/qh/f_xd4_hs7jq5186tyc9v3gdm0000gn/T/ipykernel_9245/2309985315.py:13: SettingWithCopyWarning: \n",
      "A value is trying to be set on a copy of a slice from a DataFrame.\n",
      "Try using .loc[row_indexer,col_indexer] = value instead\n",
      "\n",
      "See the caveats in the documentation: https://pandas.pydata.org/pandas-docs/stable/user_guide/indexing.html#returning-a-view-versus-a-copy\n",
      "  X_train['neighbors_target_mean_500']=neigh.predict(X_train_neibs)\n",
      "/var/folders/qh/f_xd4_hs7jq5186tyc9v3gdm0000gn/T/ipykernel_9245/2309985315.py:14: SettingWithCopyWarning: \n",
      "A value is trying to be set on a copy of a slice from a DataFrame.\n",
      "Try using .loc[row_indexer,col_indexer] = value instead\n",
      "\n",
      "See the caveats in the documentation: https://pandas.pydata.org/pandas-docs/stable/user_guide/indexing.html#returning-a-view-versus-a-copy\n",
      "  X_test['neighbors_target_mean_500']=neigh.predict(X_test_neibs)\n",
      "/var/folders/qh/f_xd4_hs7jq5186tyc9v3gdm0000gn/T/ipykernel_9245/2309985315.py:13: SettingWithCopyWarning: \n",
      "A value is trying to be set on a copy of a slice from a DataFrame.\n",
      "Try using .loc[row_indexer,col_indexer] = value instead\n",
      "\n",
      "See the caveats in the documentation: https://pandas.pydata.org/pandas-docs/stable/user_guide/indexing.html#returning-a-view-versus-a-copy\n",
      "  X_train['neighbors_target_mean_500']=neigh.predict(X_train_neibs)\n",
      "/var/folders/qh/f_xd4_hs7jq5186tyc9v3gdm0000gn/T/ipykernel_9245/2309985315.py:14: SettingWithCopyWarning: \n",
      "A value is trying to be set on a copy of a slice from a DataFrame.\n",
      "Try using .loc[row_indexer,col_indexer] = value instead\n",
      "\n",
      "See the caveats in the documentation: https://pandas.pydata.org/pandas-docs/stable/user_guide/indexing.html#returning-a-view-versus-a-copy\n",
      "  X_test['neighbors_target_mean_500']=neigh.predict(X_test_neibs)\n"
     ]
    },
    {
     "name": "stdout",
     "output_type": "stream",
     "text": [
      "score of Random Forest2 :  0.6987430336846341\n"
     ]
    },
    {
     "name": "stderr",
     "output_type": "stream",
     "text": [
      "/var/folders/qh/f_xd4_hs7jq5186tyc9v3gdm0000gn/T/ipykernel_9245/2309985315.py:13: SettingWithCopyWarning: \n",
      "A value is trying to be set on a copy of a slice from a DataFrame.\n",
      "Try using .loc[row_indexer,col_indexer] = value instead\n",
      "\n",
      "See the caveats in the documentation: https://pandas.pydata.org/pandas-docs/stable/user_guide/indexing.html#returning-a-view-versus-a-copy\n",
      "  X_train['neighbors_target_mean_500']=neigh.predict(X_train_neibs)\n",
      "/var/folders/qh/f_xd4_hs7jq5186tyc9v3gdm0000gn/T/ipykernel_9245/2309985315.py:14: SettingWithCopyWarning: \n",
      "A value is trying to be set on a copy of a slice from a DataFrame.\n",
      "Try using .loc[row_indexer,col_indexer] = value instead\n",
      "\n",
      "See the caveats in the documentation: https://pandas.pydata.org/pandas-docs/stable/user_guide/indexing.html#returning-a-view-versus-a-copy\n",
      "  X_test['neighbors_target_mean_500']=neigh.predict(X_test_neibs)\n",
      "/var/folders/qh/f_xd4_hs7jq5186tyc9v3gdm0000gn/T/ipykernel_9245/2309985315.py:13: SettingWithCopyWarning: \n",
      "A value is trying to be set on a copy of a slice from a DataFrame.\n",
      "Try using .loc[row_indexer,col_indexer] = value instead\n",
      "\n",
      "See the caveats in the documentation: https://pandas.pydata.org/pandas-docs/stable/user_guide/indexing.html#returning-a-view-versus-a-copy\n",
      "  X_train['neighbors_target_mean_500']=neigh.predict(X_train_neibs)\n",
      "/var/folders/qh/f_xd4_hs7jq5186tyc9v3gdm0000gn/T/ipykernel_9245/2309985315.py:14: SettingWithCopyWarning: \n",
      "A value is trying to be set on a copy of a slice from a DataFrame.\n",
      "Try using .loc[row_indexer,col_indexer] = value instead\n",
      "\n",
      "See the caveats in the documentation: https://pandas.pydata.org/pandas-docs/stable/user_guide/indexing.html#returning-a-view-versus-a-copy\n",
      "  X_test['neighbors_target_mean_500']=neigh.predict(X_test_neibs)\n",
      "/var/folders/qh/f_xd4_hs7jq5186tyc9v3gdm0000gn/T/ipykernel_9245/2309985315.py:13: SettingWithCopyWarning: \n",
      "A value is trying to be set on a copy of a slice from a DataFrame.\n",
      "Try using .loc[row_indexer,col_indexer] = value instead\n",
      "\n",
      "See the caveats in the documentation: https://pandas.pydata.org/pandas-docs/stable/user_guide/indexing.html#returning-a-view-versus-a-copy\n",
      "  X_train['neighbors_target_mean_500']=neigh.predict(X_train_neibs)\n",
      "/var/folders/qh/f_xd4_hs7jq5186tyc9v3gdm0000gn/T/ipykernel_9245/2309985315.py:14: SettingWithCopyWarning: \n",
      "A value is trying to be set on a copy of a slice from a DataFrame.\n",
      "Try using .loc[row_indexer,col_indexer] = value instead\n",
      "\n",
      "See the caveats in the documentation: https://pandas.pydata.org/pandas-docs/stable/user_guide/indexing.html#returning-a-view-versus-a-copy\n",
      "  X_test['neighbors_target_mean_500']=neigh.predict(X_test_neibs)\n"
     ]
    },
    {
     "name": "stdout",
     "output_type": "stream",
     "text": [
      "score of Random Forest3 :  0.6981447193727176\n"
     ]
    },
    {
     "name": "stderr",
     "output_type": "stream",
     "text": [
      "/var/folders/qh/f_xd4_hs7jq5186tyc9v3gdm0000gn/T/ipykernel_9245/2309985315.py:13: SettingWithCopyWarning: \n",
      "A value is trying to be set on a copy of a slice from a DataFrame.\n",
      "Try using .loc[row_indexer,col_indexer] = value instead\n",
      "\n",
      "See the caveats in the documentation: https://pandas.pydata.org/pandas-docs/stable/user_guide/indexing.html#returning-a-view-versus-a-copy\n",
      "  X_train['neighbors_target_mean_500']=neigh.predict(X_train_neibs)\n",
      "/var/folders/qh/f_xd4_hs7jq5186tyc9v3gdm0000gn/T/ipykernel_9245/2309985315.py:14: SettingWithCopyWarning: \n",
      "A value is trying to be set on a copy of a slice from a DataFrame.\n",
      "Try using .loc[row_indexer,col_indexer] = value instead\n",
      "\n",
      "See the caveats in the documentation: https://pandas.pydata.org/pandas-docs/stable/user_guide/indexing.html#returning-a-view-versus-a-copy\n",
      "  X_test['neighbors_target_mean_500']=neigh.predict(X_test_neibs)\n",
      "/var/folders/qh/f_xd4_hs7jq5186tyc9v3gdm0000gn/T/ipykernel_9245/2309985315.py:13: SettingWithCopyWarning: \n",
      "A value is trying to be set on a copy of a slice from a DataFrame.\n",
      "Try using .loc[row_indexer,col_indexer] = value instead\n",
      "\n",
      "See the caveats in the documentation: https://pandas.pydata.org/pandas-docs/stable/user_guide/indexing.html#returning-a-view-versus-a-copy\n",
      "  X_train['neighbors_target_mean_500']=neigh.predict(X_train_neibs)\n",
      "/var/folders/qh/f_xd4_hs7jq5186tyc9v3gdm0000gn/T/ipykernel_9245/2309985315.py:14: SettingWithCopyWarning: \n",
      "A value is trying to be set on a copy of a slice from a DataFrame.\n",
      "Try using .loc[row_indexer,col_indexer] = value instead\n",
      "\n",
      "See the caveats in the documentation: https://pandas.pydata.org/pandas-docs/stable/user_guide/indexing.html#returning-a-view-versus-a-copy\n",
      "  X_test['neighbors_target_mean_500']=neigh.predict(X_test_neibs)\n",
      "/var/folders/qh/f_xd4_hs7jq5186tyc9v3gdm0000gn/T/ipykernel_9245/2309985315.py:13: SettingWithCopyWarning: \n",
      "A value is trying to be set on a copy of a slice from a DataFrame.\n",
      "Try using .loc[row_indexer,col_indexer] = value instead\n",
      "\n",
      "See the caveats in the documentation: https://pandas.pydata.org/pandas-docs/stable/user_guide/indexing.html#returning-a-view-versus-a-copy\n",
      "  X_train['neighbors_target_mean_500']=neigh.predict(X_train_neibs)\n",
      "/var/folders/qh/f_xd4_hs7jq5186tyc9v3gdm0000gn/T/ipykernel_9245/2309985315.py:14: SettingWithCopyWarning: \n",
      "A value is trying to be set on a copy of a slice from a DataFrame.\n",
      "Try using .loc[row_indexer,col_indexer] = value instead\n",
      "\n",
      "See the caveats in the documentation: https://pandas.pydata.org/pandas-docs/stable/user_guide/indexing.html#returning-a-view-versus-a-copy\n",
      "  X_test['neighbors_target_mean_500']=neigh.predict(X_test_neibs)\n"
     ]
    },
    {
     "name": "stdout",
     "output_type": "stream",
     "text": [
      "score of Random Forest4 :  0.6942731583890422\n"
     ]
    }
   ],
   "source": [
    "compare_models_withfeatureeng(model_dict3,X_train3,Y_train)"
   ]
  },
  {
   "cell_type": "markdown",
   "id": "8c758d28",
   "metadata": {},
   "source": [
    "## Plot final ROC curves for comparison"
   ]
  },
  {
   "cell_type": "code",
   "execution_count": 105,
   "id": "10f48e88",
   "metadata": {},
   "outputs": [
    {
     "name": "stderr",
     "output_type": "stream",
     "text": [
      "/opt/anaconda3/lib/python3.9/site-packages/xgboost/sklearn.py:1224: UserWarning: The use of label encoder in XGBClassifier is deprecated and will be removed in a future release. To remove this warning, do the following: 1) Pass option use_label_encoder=False when constructing XGBClassifier object; and 2) Encode your labels (y) as integers starting with 0, i.e. 0, 1, 2, ..., [num_class - 1].\n",
      "  warnings.warn(label_encoder_deprecation_msg, UserWarning)\n"
     ]
    },
    {
     "name": "stdout",
     "output_type": "stream",
     "text": [
      "[13:50:20] WARNING: /Users/runner/miniforge3/conda-bld/xgboost-split_1645117948562/work/src/learner.cc:1115: Starting in XGBoost 1.3.0, the default evaluation metric used with the objective 'binary:logistic' was changed from 'error' to 'logloss'. Explicitly set eval_metric if you'd like to restore the old behavior.\n"
     ]
    },
    {
     "name": "stderr",
     "output_type": "stream",
     "text": [
      "/opt/anaconda3/lib/python3.9/site-packages/xgboost/sklearn.py:1224: UserWarning: The use of label encoder in XGBClassifier is deprecated and will be removed in a future release. To remove this warning, do the following: 1) Pass option use_label_encoder=False when constructing XGBClassifier object; and 2) Encode your labels (y) as integers starting with 0, i.e. 0, 1, 2, ..., [num_class - 1].\n",
      "  warnings.warn(label_encoder_deprecation_msg, UserWarning)\n"
     ]
    },
    {
     "name": "stdout",
     "output_type": "stream",
     "text": [
      "[13:51:20] WARNING: /Users/runner/miniforge3/conda-bld/xgboost-split_1645117948562/work/src/learner.cc:1115: Starting in XGBoost 1.3.0, the default evaluation metric used with the objective 'binary:logistic' was changed from 'error' to 'logloss'. Explicitly set eval_metric if you'd like to restore the old behavior.\n"
     ]
    },
    {
     "data": {
      "image/png": "[encoded data removed]",
      "text/plain": [
       "<Figure size 432x288 with 1 Axes>"
      ]
     },
     "metadata": {
      "needs_background": "light"
     },
     "output_type": "display_data"
    }
   ],
   "source": [
    "from sklearn import metrics\n",
    "import matplotlib.pyplot as plt\n",
    "plt.figure()\n",
    "\n",
    "# Add the models to the list that you want to view on the ROC plot\n",
    "models = [\n",
    "{\n",
    "    'label': 'Logistic Regression',\n",
    "    'model': LogisticRegression(max_iter=100000,class_weight={1:10,0:1}),\n",
    "},\n",
    "{\n",
    "    'label': 'Random Forest - default max depth',\n",
    "    'model': RandomForestClassifier(random_state=42,class_weight={1:10,0:1}),\n",
    "},\n",
    "{\n",
    "    'label': 'Gradient Boost',\n",
    "    'model': XGBClassifier(random_state=42,scale_pos_weight=90),\n",
    "},\n",
    "{\n",
    "    'label': 'Voting Classifier',\n",
    "    'model': VotingClassifier(estimators=model_list,voting='soft',weights=None),\n",
    "},\n",
    "{\n",
    "    'label': 'Random Forest - optimized max depth of 8',\n",
    "    'model': RandomForestClassifier(random_state=42,class_weight={1:10,0:1},max_depth=8),\n",
    "},\n",
    "]\n",
    "\n",
    "# Below for loop iterates through your models list\n",
    "for m in models:\n",
    "    model = m['model'] # select the model\n",
    "    model.fit(X_train2,Y_train) # train the model\n",
    "    y_pred=model.predict(X_test2) # predict the test data\n",
    "# Compute False postive rate, and True positive rate\n",
    "    fpr, tpr, thresholds = metrics.roc_curve(Y_test, model.predict_proba(X_test2)[:,1])\n",
    "# Calculate Area under the curve to display on the plot\n",
    "    auc = metrics.roc_auc_score(Y_test,model.predict_proba(X_test2)[:,1])\n",
    "# Now, plot the computed values\n",
    "    plt.plot(fpr, tpr, label='%s ROC (area = %0.2f)' % (m['label'], auc))\n",
    "# Custom settings for the plot \n",
    "plt.plot([0, 1], [0, 1],'r--')\n",
    "plt.xlim([0.0, 1.0])\n",
    "plt.ylim([0.0, 1.05])\n",
    "plt.xlabel('1-Specificity(False Positive Rate)')\n",
    "plt.ylabel('Sensitivity(True Positive Rate)')\n",
    "plt.title('Receiver Operating Characteristic')\n",
    "plt.legend(loc=\"lower right\")\n",
    "plt.savefig('/Users/jaszeng/Desktop/Metis/Classification/ROC curves.png')\n",
    "plt.show()# Display"
   ]
  },
  {
   "cell_type": "code",
   "execution_count": 104,
   "id": "b4144897",
   "metadata": {},
   "outputs": [],
   "source": [
    "plt.show()"
   ]
  },
  {
   "cell_type": "markdown",
   "id": "e7b49d7f",
   "metadata": {},
   "source": [
    "To display final feature importance"
   ]
  },
  {
   "cell_type": "code",
   "execution_count": 100,
   "id": "0b60fed7",
   "metadata": {},
   "outputs": [
    {
     "data": {
      "image/png": "[encoded data removed]",
      "text/plain": [
       "<Figure size 432x288 with 1 Axes>"
      ]
     },
     "metadata": {
      "needs_background": "light"
     },
     "output_type": "display_data"
    }
   ],
   "source": [
    "rforest=RandomForestClassifier(random_state=42,class_weight={1:10,0:1},max_depth=8)\n",
    "rforest.fit(X_train2,Y_train)\n",
    "importances = rforest.feature_importances_\n",
    "feature_names=X_train2.columns\n",
    "forest_importances = pd.Series(importances, index=feature_names)\n",
    "forest_importances=forest_importances.sort_values(ascending=False)\n",
    "std = np.std([tree.feature_importances_ for tree in rforest.estimators_], axis=0)\n",
    "feature_std = pd.Series(std, index=feature_names)\n",
    "STD=feature_std[forest_importances.index]\n",
    "fig, ax = plt.subplots()\n",
    "forest_importances.plot.bar(yerr=STD, ax=ax)\n",
    "ax.set_title(\"Feature importances using MDI\")\n",
    "ax.set_ylabel(\"Mean decrease in impurity\")\n",
    "fig.tight_layout()"
   ]
  },
  {
   "cell_type": "code",
   "execution_count": null,
   "id": "51d32ef5",
   "metadata": {},
   "outputs": [],
   "source": []
  }
 ],
 "metadata": {
  "kernelspec": {
   "display_name": "Python 3 (ipykernel)",
   "language": "python",
   "name": "python3"
  },
  "language_info": {
   "codemirror_mode": {
    "name": "ipython",
    "version": 3
   },
   "file_extension": ".py",
   "mimetype": "text/x-python",
   "name": "python",
   "nbconvert_exporter": "python",
   "pygments_lexer": "ipython3",
   "version": "3.9.7"
  }
 },
 "nbformat": 4,
 "nbformat_minor": 5
}
