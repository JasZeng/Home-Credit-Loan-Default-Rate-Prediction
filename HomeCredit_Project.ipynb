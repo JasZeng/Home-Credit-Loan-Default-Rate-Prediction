{
 "cells": [
  {
   "cell_type": "code",
   "execution_count": 1,
   "id": "b0c2b7c8",
   "metadata": {},
   "outputs": [],
   "source": [
    "import pandas as pd\n",
    "import numpy as np"
   ]
  },
  {
   "cell_type": "code",
   "execution_count": 2,
   "id": "9c695d9c",
   "metadata": {},
   "outputs": [],
   "source": [
    "client_df=pd.read_csv(\"/Users/jaszeng/Desktop/Metis/Classification/application_train.csv\")"
   ]
  },
  {
   "cell_type": "code",
   "execution_count": 3,
   "id": "37837ea9",
   "metadata": {},
   "outputs": [
    {
     "data": {
      "text/html": [
       "<div>\n",
       "<style scoped>\n",
       "    .dataframe tbody tr th:only-of-type {\n",
       "        vertical-align: middle;\n",
       "    }\n",
       "\n",
       "    .dataframe tbody tr th {\n",
       "        vertical-align: top;\n",
       "    }\n",
       "\n",
       "    .dataframe thead th {\n",
       "        text-align: right;\n",
       "    }\n",
       "</style>\n",
       "<table border=\"1\" class=\"dataframe\">\n",
       "  <thead>\n",
       "    <tr style=\"text-align: right;\">\n",
       "      <th></th>\n",
       "      <th>SK_ID_CURR</th>\n",
       "      <th>TARGET</th>\n",
       "      <th>NAME_CONTRACT_TYPE</th>\n",
       "      <th>CODE_GENDER</th>\n",
       "      <th>FLAG_OWN_CAR</th>\n",
       "      <th>FLAG_OWN_REALTY</th>\n",
       "      <th>CNT_CHILDREN</th>\n",
       "      <th>AMT_INCOME_TOTAL</th>\n",
       "      <th>AMT_CREDIT</th>\n",
       "      <th>AMT_ANNUITY</th>\n",
       "      <th>...</th>\n",
       "      <th>FLAG_DOCUMENT_18</th>\n",
       "      <th>FLAG_DOCUMENT_19</th>\n",
       "      <th>FLAG_DOCUMENT_20</th>\n",
       "      <th>FLAG_DOCUMENT_21</th>\n",
       "      <th>AMT_REQ_CREDIT_BUREAU_HOUR</th>\n",
       "      <th>AMT_REQ_CREDIT_BUREAU_DAY</th>\n",
       "      <th>AMT_REQ_CREDIT_BUREAU_WEEK</th>\n",
       "      <th>AMT_REQ_CREDIT_BUREAU_MON</th>\n",
       "      <th>AMT_REQ_CREDIT_BUREAU_QRT</th>\n",
       "      <th>AMT_REQ_CREDIT_BUREAU_YEAR</th>\n",
       "    </tr>\n",
       "  </thead>\n",
       "  <tbody>\n",
       "    <tr>\n",
       "      <th>105490</th>\n",
       "      <td>222408</td>\n",
       "      <td>0</td>\n",
       "      <td>Revolving loans</td>\n",
       "      <td>F</td>\n",
       "      <td>Y</td>\n",
       "      <td>N</td>\n",
       "      <td>1</td>\n",
       "      <td>180000.0</td>\n",
       "      <td>180000.0</td>\n",
       "      <td>9000.0</td>\n",
       "      <td>...</td>\n",
       "      <td>0</td>\n",
       "      <td>0</td>\n",
       "      <td>0</td>\n",
       "      <td>0</td>\n",
       "      <td>0.0</td>\n",
       "      <td>0.0</td>\n",
       "      <td>0.0</td>\n",
       "      <td>0.0</td>\n",
       "      <td>0.0</td>\n",
       "      <td>0.0</td>\n",
       "    </tr>\n",
       "    <tr>\n",
       "      <th>186444</th>\n",
       "      <td>316143</td>\n",
       "      <td>0</td>\n",
       "      <td>Cash loans</td>\n",
       "      <td>F</td>\n",
       "      <td>N</td>\n",
       "      <td>N</td>\n",
       "      <td>0</td>\n",
       "      <td>180000.0</td>\n",
       "      <td>585000.0</td>\n",
       "      <td>28143.0</td>\n",
       "      <td>...</td>\n",
       "      <td>0</td>\n",
       "      <td>0</td>\n",
       "      <td>0</td>\n",
       "      <td>0</td>\n",
       "      <td>0.0</td>\n",
       "      <td>0.0</td>\n",
       "      <td>0.0</td>\n",
       "      <td>0.0</td>\n",
       "      <td>0.0</td>\n",
       "      <td>1.0</td>\n",
       "    </tr>\n",
       "    <tr>\n",
       "      <th>123379</th>\n",
       "      <td>243076</td>\n",
       "      <td>0</td>\n",
       "      <td>Cash loans</td>\n",
       "      <td>F</td>\n",
       "      <td>N</td>\n",
       "      <td>Y</td>\n",
       "      <td>0</td>\n",
       "      <td>225000.0</td>\n",
       "      <td>1027327.5</td>\n",
       "      <td>40873.5</td>\n",
       "      <td>...</td>\n",
       "      <td>0</td>\n",
       "      <td>0</td>\n",
       "      <td>0</td>\n",
       "      <td>0</td>\n",
       "      <td>0.0</td>\n",
       "      <td>0.0</td>\n",
       "      <td>0.0</td>\n",
       "      <td>0.0</td>\n",
       "      <td>0.0</td>\n",
       "      <td>1.0</td>\n",
       "    </tr>\n",
       "    <tr>\n",
       "      <th>306502</th>\n",
       "      <td>455110</td>\n",
       "      <td>0</td>\n",
       "      <td>Cash loans</td>\n",
       "      <td>F</td>\n",
       "      <td>N</td>\n",
       "      <td>Y</td>\n",
       "      <td>0</td>\n",
       "      <td>67500.0</td>\n",
       "      <td>675000.0</td>\n",
       "      <td>19867.5</td>\n",
       "      <td>...</td>\n",
       "      <td>0</td>\n",
       "      <td>0</td>\n",
       "      <td>0</td>\n",
       "      <td>0</td>\n",
       "      <td>0.0</td>\n",
       "      <td>0.0</td>\n",
       "      <td>0.0</td>\n",
       "      <td>0.0</td>\n",
       "      <td>0.0</td>\n",
       "      <td>1.0</td>\n",
       "    </tr>\n",
       "    <tr>\n",
       "      <th>3630</th>\n",
       "      <td>104237</td>\n",
       "      <td>0</td>\n",
       "      <td>Cash loans</td>\n",
       "      <td>F</td>\n",
       "      <td>N</td>\n",
       "      <td>Y</td>\n",
       "      <td>1</td>\n",
       "      <td>225000.0</td>\n",
       "      <td>640080.0</td>\n",
       "      <td>31261.5</td>\n",
       "      <td>...</td>\n",
       "      <td>0</td>\n",
       "      <td>0</td>\n",
       "      <td>0</td>\n",
       "      <td>0</td>\n",
       "      <td>0.0</td>\n",
       "      <td>0.0</td>\n",
       "      <td>0.0</td>\n",
       "      <td>0.0</td>\n",
       "      <td>0.0</td>\n",
       "      <td>1.0</td>\n",
       "    </tr>\n",
       "  </tbody>\n",
       "</table>\n",
       "<p>5 rows × 122 columns</p>\n",
       "</div>"
      ],
      "text/plain": [
       "        SK_ID_CURR  TARGET NAME_CONTRACT_TYPE CODE_GENDER FLAG_OWN_CAR  \\\n",
       "105490      222408       0    Revolving loans           F            Y   \n",
       "186444      316143       0         Cash loans           F            N   \n",
       "123379      243076       0         Cash loans           F            N   \n",
       "306502      455110       0         Cash loans           F            N   \n",
       "3630        104237       0         Cash loans           F            N   \n",
       "\n",
       "       FLAG_OWN_REALTY  CNT_CHILDREN  AMT_INCOME_TOTAL  AMT_CREDIT  \\\n",
       "105490               N             1          180000.0    180000.0   \n",
       "186444               N             0          180000.0    585000.0   \n",
       "123379               Y             0          225000.0   1027327.5   \n",
       "306502               Y             0           67500.0    675000.0   \n",
       "3630                 Y             1          225000.0    640080.0   \n",
       "\n",
       "        AMT_ANNUITY  ...  FLAG_DOCUMENT_18 FLAG_DOCUMENT_19 FLAG_DOCUMENT_20  \\\n",
       "105490       9000.0  ...                 0                0                0   \n",
       "186444      28143.0  ...                 0                0                0   \n",
       "123379      40873.5  ...                 0                0                0   \n",
       "306502      19867.5  ...                 0                0                0   \n",
       "3630        31261.5  ...                 0                0                0   \n",
       "\n",
       "       FLAG_DOCUMENT_21 AMT_REQ_CREDIT_BUREAU_HOUR AMT_REQ_CREDIT_BUREAU_DAY  \\\n",
       "105490                0                        0.0                       0.0   \n",
       "186444                0                        0.0                       0.0   \n",
       "123379                0                        0.0                       0.0   \n",
       "306502                0                        0.0                       0.0   \n",
       "3630                  0                        0.0                       0.0   \n",
       "\n",
       "        AMT_REQ_CREDIT_BUREAU_WEEK  AMT_REQ_CREDIT_BUREAU_MON  \\\n",
       "105490                         0.0                        0.0   \n",
       "186444                         0.0                        0.0   \n",
       "123379                         0.0                        0.0   \n",
       "306502                         0.0                        0.0   \n",
       "3630                           0.0                        0.0   \n",
       "\n",
       "        AMT_REQ_CREDIT_BUREAU_QRT  AMT_REQ_CREDIT_BUREAU_YEAR  \n",
       "105490                        0.0                         0.0  \n",
       "186444                        0.0                         1.0  \n",
       "123379                        0.0                         1.0  \n",
       "306502                        0.0                         1.0  \n",
       "3630                          0.0                         1.0  \n",
       "\n",
       "[5 rows x 122 columns]"
      ]
     },
     "execution_count": 3,
     "metadata": {},
     "output_type": "execute_result"
    }
   ],
   "source": [
    "client_df.sample(5)"
   ]
  },
  {
   "cell_type": "code",
   "execution_count": 4,
   "id": "6cf24a05",
   "metadata": {},
   "outputs": [
    {
     "data": {
      "text/plain": [
       "Index(['SK_ID_CURR', 'TARGET', 'NAME_CONTRACT_TYPE', 'CODE_GENDER',\n",
       "       'FLAG_OWN_CAR', 'FLAG_OWN_REALTY', 'CNT_CHILDREN', 'AMT_INCOME_TOTAL',\n",
       "       'AMT_CREDIT', 'AMT_ANNUITY',\n",
       "       ...\n",
       "       'FLAG_DOCUMENT_18', 'FLAG_DOCUMENT_19', 'FLAG_DOCUMENT_20',\n",
       "       'FLAG_DOCUMENT_21', 'AMT_REQ_CREDIT_BUREAU_HOUR',\n",
       "       'AMT_REQ_CREDIT_BUREAU_DAY', 'AMT_REQ_CREDIT_BUREAU_WEEK',\n",
       "       'AMT_REQ_CREDIT_BUREAU_MON', 'AMT_REQ_CREDIT_BUREAU_QRT',\n",
       "       'AMT_REQ_CREDIT_BUREAU_YEAR'],\n",
       "      dtype='object', length=122)"
      ]
     },
     "execution_count": 4,
     "metadata": {},
     "output_type": "execute_result"
    }
   ],
   "source": [
    "client_df.columns"
   ]
  },
  {
   "cell_type": "code",
   "execution_count": 5,
   "id": "89d86615",
   "metadata": {},
   "outputs": [
    {
     "data": {
      "text/plain": [
       "(307511, 122)"
      ]
     },
     "execution_count": 5,
     "metadata": {},
     "output_type": "execute_result"
    }
   ],
   "source": [
    "client_df.shape"
   ]
  },
  {
   "cell_type": "code",
   "execution_count": 6,
   "id": "20d46345",
   "metadata": {},
   "outputs": [
    {
     "name": "stdout",
     "output_type": "stream",
     "text": [
      "<class 'pandas.core.frame.DataFrame'>\n",
      "RangeIndex: 307511 entries, 0 to 307510\n",
      "Columns: 122 entries, SK_ID_CURR to AMT_REQ_CREDIT_BUREAU_YEAR\n",
      "dtypes: float64(65), int64(41), object(16)\n",
      "memory usage: 286.2+ MB\n"
     ]
    }
   ],
   "source": [
    "client_df.info()"
   ]
  },
  {
   "cell_type": "markdown",
   "id": "72abb9c2",
   "metadata": {},
   "source": [
    "First, delete columns with too many null values, I have 300,000 data, let's set the threshold to be 50,000 first. If null value of a feature exceeds 50,000, we delete this feature."
   ]
  },
  {
   "cell_type": "code",
   "execution_count": 7,
   "id": "633fe3a7",
   "metadata": {},
   "outputs": [
    {
     "data": {
      "text/plain": [
       "51"
      ]
     },
     "execution_count": 7,
     "metadata": {},
     "output_type": "execute_result"
    }
   ],
   "source": [
    "col_countna=client_df.isna().sum().sort_values(ascending=False)\n",
    "nullcolumns=col_countna[col_countna>50000].index\n",
    "len(nullcolumns)"
   ]
  },
  {
   "cell_type": "code",
   "execution_count": 8,
   "id": "b9b76ac0",
   "metadata": {},
   "outputs": [
    {
     "data": {
      "text/plain": [
       "(307511, 71)"
      ]
     },
     "execution_count": 8,
     "metadata": {},
     "output_type": "execute_result"
    }
   ],
   "source": [
    "client_df1=client_df.drop(columns=nullcolumns)\n",
    "client_df1.shape"
   ]
  },
  {
   "cell_type": "markdown",
   "id": "5345ed83",
   "metadata": {},
   "source": [
    "Next, We should replace float NA with mean, int NA with mode and object NA with mode"
   ]
  },
  {
   "cell_type": "code",
   "execution_count": 9,
   "id": "0d03fda7",
   "metadata": {},
   "outputs": [],
   "source": [
    "object_columns=[]\n",
    "float_columns=[]\n",
    "int_columns=[]\n",
    "for i in client_df1.columns:\n",
    "    if client_df1[i].dtypes=='object':\n",
    "        object_columns.append(i)\n",
    "    elif client_df1[i].dtypes=='float':\n",
    "        float_columns.append(i)\n",
    "    else:\n",
    "        int_columns.append(i)"
   ]
  },
  {
   "cell_type": "code",
   "execution_count": 10,
   "id": "16bd3410",
   "metadata": {},
   "outputs": [],
   "source": [
    "client_df1[float_columns]=client_df1[float_columns].fillna(client_df1[float_columns].mean())\n",
    "client_df1[int_columns]=client_df1[int_columns].fillna(client_df1[int_columns].mode())\n",
    "client_df1[object_columns]=client_df1[object_columns].fillna(client_df1[object_columns].mode())"
   ]
  },
  {
   "cell_type": "code",
   "execution_count": 11,
   "id": "ac4a6e65",
   "metadata": {},
   "outputs": [
    {
     "data": {
      "text/plain": [
       "NAME_TYPE_SUITE               1292\n",
       "SK_ID_CURR                       0\n",
       "FLAG_DOCUMENT_10                 0\n",
       "FLAG_DOCUMENT_8                  0\n",
       "FLAG_DOCUMENT_7                  0\n",
       "                              ... \n",
       "WEEKDAY_APPR_PROCESS_START       0\n",
       "HOUR_APPR_PROCESS_START          0\n",
       "REG_REGION_NOT_LIVE_REGION       0\n",
       "REG_REGION_NOT_WORK_REGION       0\n",
       "AMT_REQ_CREDIT_BUREAU_YEAR       0\n",
       "Length: 71, dtype: int64"
      ]
     },
     "execution_count": 11,
     "metadata": {},
     "output_type": "execute_result"
    }
   ],
   "source": [
    "client_df1.isna().sum().sort_values(ascending=False)"
   ]
  },
  {
   "cell_type": "code",
   "execution_count": 12,
   "id": "16a7a695",
   "metadata": {},
   "outputs": [],
   "source": [
    "client_df1['NAME_TYPE_SUITE']=client_df1['NAME_TYPE_SUITE'].fillna('Unaccompanied')"
   ]
  },
  {
   "cell_type": "markdown",
   "id": "22147285",
   "metadata": {},
   "source": [
    "Then, deal with categorical value"
   ]
  },
  {
   "cell_type": "code",
   "execution_count": 13,
   "id": "c0ae3a0e",
   "metadata": {},
   "outputs": [
    {
     "name": "stdout",
     "output_type": "stream",
     "text": [
      "<class 'pandas.core.frame.DataFrame'>\n",
      "RangeIndex: 307511 entries, 0 to 307510\n",
      "Data columns (total 11 columns):\n",
      " #   Column                      Non-Null Count   Dtype \n",
      "---  ------                      --------------   ----- \n",
      " 0   NAME_CONTRACT_TYPE          307511 non-null  object\n",
      " 1   CODE_GENDER                 307511 non-null  object\n",
      " 2   FLAG_OWN_CAR                307511 non-null  object\n",
      " 3   FLAG_OWN_REALTY             307511 non-null  object\n",
      " 4   NAME_TYPE_SUITE             307511 non-null  object\n",
      " 5   NAME_INCOME_TYPE            307511 non-null  object\n",
      " 6   NAME_EDUCATION_TYPE         307511 non-null  object\n",
      " 7   NAME_FAMILY_STATUS          307511 non-null  object\n",
      " 8   NAME_HOUSING_TYPE           307511 non-null  object\n",
      " 9   WEEKDAY_APPR_PROCESS_START  307511 non-null  object\n",
      " 10  ORGANIZATION_TYPE           307511 non-null  object\n",
      "dtypes: object(11)\n",
      "memory usage: 25.8+ MB\n"
     ]
    }
   ],
   "source": [
    "client_df1.loc[:,object_columns].info()"
   ]
  },
  {
   "cell_type": "code",
   "execution_count": 14,
   "id": "b8088757",
   "metadata": {},
   "outputs": [
    {
     "data": {
      "text/plain": [
       "NAME_CONTRACT_TYPE             2\n",
       "CODE_GENDER                    3\n",
       "FLAG_OWN_CAR                   2\n",
       "FLAG_OWN_REALTY                2\n",
       "NAME_TYPE_SUITE                7\n",
       "NAME_INCOME_TYPE               8\n",
       "NAME_EDUCATION_TYPE            5\n",
       "NAME_FAMILY_STATUS             6\n",
       "NAME_HOUSING_TYPE              6\n",
       "WEEKDAY_APPR_PROCESS_START     7\n",
       "ORGANIZATION_TYPE             58\n",
       "dtype: int64"
      ]
     },
     "execution_count": 14,
     "metadata": {},
     "output_type": "execute_result"
    }
   ],
   "source": [
    "client_df1.loc[:,object_columns].nunique()"
   ]
  },
  {
   "cell_type": "markdown",
   "id": "c95e5567",
   "metadata": {},
   "source": [
    "Here I delete the 'organization type' feature since this feature is too complicated, and it will not add value to model as the time it will consume. Also I delete 'weekday_appr_process_start' as this should not impact the model. Then, for categorical object columns that only have two groups, I change it to 0/1 dummy columns."
   ]
  },
  {
   "cell_type": "code",
   "execution_count": 15,
   "id": "5661a470",
   "metadata": {},
   "outputs": [],
   "source": [
    "client_df1['FLAG_CASH_LOANS']=(client_df1['NAME_CONTRACT_TYPE']=='Cash loans') .astype(int)\n",
    "client_df1['FLAG_OWN_CAR']=(client_df1['FLAG_OWN_CAR']=='Y') .astype(int)\n",
    "client_df1['FLAG_OWN_REALTY']=(client_df1['FLAG_OWN_REALTY']=='Y') .astype(int)"
   ]
  },
  {
   "cell_type": "markdown",
   "id": "1192ee17",
   "metadata": {},
   "source": [
    "Next, change gender into dummies"
   ]
  },
  {
   "cell_type": "code",
   "execution_count": 16,
   "id": "ee3eaded",
   "metadata": {},
   "outputs": [
    {
     "data": {
      "text/plain": [
       "F      202448\n",
       "M      105059\n",
       "XNA         4\n",
       "Name: CODE_GENDER, dtype: int64"
      ]
     },
     "execution_count": 16,
     "metadata": {},
     "output_type": "execute_result"
    }
   ],
   "source": [
    "client_df1['CODE_GENDER'].value_counts()"
   ]
  },
  {
   "cell_type": "code",
   "execution_count": 17,
   "id": "5a32eacd",
   "metadata": {},
   "outputs": [],
   "source": [
    "client_df1=client_df1[client_df1['CODE_GENDER']!='XNA']\n",
    "client_df1['GENDER']=(client_df1['CODE_GENDER']=='F') .astype(int)"
   ]
  },
  {
   "cell_type": "code",
   "execution_count": 18,
   "id": "0625691b",
   "metadata": {},
   "outputs": [],
   "source": [
    "client_df1=client_df1.drop(columns=['CODE_GENDER','NAME_CONTRACT_TYPE','WEEKDAY_APPR_PROCESS_START','ORGANIZATION_TYPE'])"
   ]
  },
  {
   "cell_type": "markdown",
   "id": "a57e2883",
   "metadata": {},
   "source": [
    "Look at NAME_TYPE_SUITE,NAME_INCOME_TYPE,NAME_EDUCATION_TYPE,NAME_FAMILY_STATUS,NAME_HOUSING_TYPE, see if average default rate is largely different by categories"
   ]
  },
  {
   "cell_type": "code",
   "execution_count": 19,
   "id": "05063b19",
   "metadata": {},
   "outputs": [
    {
     "data": {
      "text/plain": [
       "<AxesSubplot:xlabel='NAME_TYPE_SUITE'>"
      ]
     },
     "execution_count": 19,
     "metadata": {},
     "output_type": "execute_result"
    },
    {
     "data": {
      "image/png": "[encoded data removed]",
      "text/plain": [
       "<Figure size 432x288 with 1 Axes>"
      ]
     },
     "metadata": {
      "needs_background": "light"
     },
     "output_type": "display_data"
    }
   ],
   "source": [
    "client_df1.groupby('NAME_TYPE_SUITE')['TARGET'].mean().plot(kind='bar')"
   ]
  },
  {
   "cell_type": "code",
   "execution_count": 20,
   "id": "117ed4c3",
   "metadata": {},
   "outputs": [
    {
     "data": {
      "text/plain": [
       "<AxesSubplot:xlabel='NAME_INCOME_TYPE'>"
      ]
     },
     "execution_count": 20,
     "metadata": {},
     "output_type": "execute_result"
    },
    {
     "data": {
      "image/png": "[encoded data removed]",
      "text/plain": [
       "<Figure size 432x288 with 1 Axes>"
      ]
     },
     "metadata": {
      "needs_background": "light"
     },
     "output_type": "display_data"
    }
   ],
   "source": [
    "client_df1.groupby('NAME_INCOME_TYPE')['TARGET'].mean().plot(kind='bar')"
   ]
  },
  {
   "cell_type": "code",
   "execution_count": 21,
   "id": "93a98150",
   "metadata": {},
   "outputs": [
    {
     "data": {
      "text/plain": [
       "<AxesSubplot:xlabel='NAME_EDUCATION_TYPE'>"
      ]
     },
     "execution_count": 21,
     "metadata": {},
     "output_type": "execute_result"
    },
    {
     "data": {
      "image/png": "[encoded data removed]",
      "text/plain": [
       "<Figure size 432x288 with 1 Axes>"
      ]
     },
     "metadata": {
      "needs_background": "light"
     },
     "output_type": "display_data"
    }
   ],
   "source": [
    "client_df1.groupby('NAME_EDUCATION_TYPE')['TARGET'].mean().plot(kind='bar')"
   ]
  },
  {
   "cell_type": "code",
   "execution_count": 22,
   "id": "7231584c",
   "metadata": {},
   "outputs": [
    {
     "data": {
      "text/plain": [
       "<AxesSubplot:xlabel='NAME_FAMILY_STATUS'>"
      ]
     },
     "execution_count": 22,
     "metadata": {},
     "output_type": "execute_result"
    },
    {
     "data": {
      "image/png": "[encoded data removed]",
      "text/plain": [
       "<Figure size 432x288 with 1 Axes>"
      ]
     },
     "metadata": {
      "needs_background": "light"
     },
     "output_type": "display_data"
    }
   ],
   "source": [
    "client_df1.groupby('NAME_FAMILY_STATUS')['TARGET'].mean().plot(kind='bar')"
   ]
  },
  {
   "cell_type": "code",
   "execution_count": 23,
   "id": "98336c39",
   "metadata": {},
   "outputs": [
    {
     "data": {
      "text/plain": [
       "<AxesSubplot:xlabel='NAME_HOUSING_TYPE'>"
      ]
     },
     "execution_count": 23,
     "metadata": {},
     "output_type": "execute_result"
    },
    {
     "data": {
      "image/png": "[encoded data removed]",
      "text/plain": [
       "<Figure size 432x288 with 1 Axes>"
      ]
     },
     "metadata": {
      "needs_background": "light"
     },
     "output_type": "display_data"
    }
   ],
   "source": [
    "client_df1.groupby('NAME_HOUSING_TYPE')['TARGET'].mean().plot(kind='bar')"
   ]
  },
  {
   "cell_type": "markdown",
   "id": "ed1e5ba2",
   "metadata": {},
   "source": [
    "## Observation: \n",
    "\n",
    "'NAME_TYPE_SUITE' doesn't seem to be an important feature\n",
    "\n",
    "'NAME_INCOME_TYPE' = maternity leave or unemployed, looks to have obvious higher default rate\n",
    "\n",
    "'NAME_EDUCATION_TYPE' default rate raised along group: 'academic degree' -> 'higher education' -> 'incomplete higher' -> 'secondary special' -> 'lower secondary'\n",
    "\n",
    "'NAME_FAMILY_STATUS'='widow' seems to have lower default rate\n",
    "\n",
    "'NAME_HOUSING_TYPE'= 'rented apartment' and 'with parents' seem to have higher default rate"
   ]
  },
  {
   "cell_type": "code",
   "execution_count": 25,
   "id": "95d64499",
   "metadata": {},
   "outputs": [],
   "source": [
    "client_df1['NAME_INCOME_TYPE'].loc[(client_df1['NAME_INCOME_TYPE']!='Maternity leave')&(client_df1['NAME_INCOME_TYPE']!='Unemployed')] = 'Others income type'\n",
    "client_df1=pd.concat([client_df1,pd.get_dummies(client_df1['NAME_INCOME_TYPE'],drop_first=True)],axis=1)"
   ]
  },
  {
   "cell_type": "code",
   "execution_count": 26,
   "id": "02173a55",
   "metadata": {},
   "outputs": [],
   "source": [
    "client_df1['NAME_EDUCATION_TYPE'].loc[client_df1['NAME_EDUCATION_TYPE']=='Lower secondary'] = 1\n",
    "client_df1['NAME_EDUCATION_TYPE'].loc[client_df1['NAME_EDUCATION_TYPE']=='Secondary / secondary special'] = 2\n",
    "client_df1['NAME_EDUCATION_TYPE'].loc[client_df1['NAME_EDUCATION_TYPE']=='Incomplete higher'] = 3\n",
    "client_df1['NAME_EDUCATION_TYPE'].loc[client_df1['NAME_EDUCATION_TYPE']=='Higher education'] = 4\n",
    "client_df1['NAME_EDUCATION_TYPE'].loc[client_df1['NAME_EDUCATION_TYPE']=='Academic degree'] = 5\n",
    "client_df1['NAME_EDUCATION_TYPE']=client_df1['NAME_EDUCATION_TYPE'].astype('int')"
   ]
  },
  {
   "cell_type": "code",
   "execution_count": 27,
   "id": "37dc2097",
   "metadata": {},
   "outputs": [],
   "source": [
    "client_df1['FLAG_WIDOW']=(client_df1['NAME_FAMILY_STATUS']=='Widow').astype('int')"
   ]
  },
  {
   "cell_type": "code",
   "execution_count": 30,
   "id": "ca4d3eb2",
   "metadata": {},
   "outputs": [],
   "source": [
    "client_df1['NAME_HOUSING_TYPE'].loc[(client_df1['NAME_HOUSING_TYPE']!='Rented apartment')&(client_df1['NAME_HOUSING_TYPE']!='With parents')] = 'Others housing type'\n",
    "client_df1=pd.concat([client_df1,pd.get_dummies(client_df1['NAME_HOUSING_TYPE'],drop_first=True)],axis=1)"
   ]
  },
  {
   "cell_type": "code",
   "execution_count": 31,
   "id": "c57db99d",
   "metadata": {},
   "outputs": [],
   "source": [
    "client_df2=client_df1.drop(columns=['NAME_TYPE_SUITE','NAME_INCOME_TYPE','NAME_FAMILY_STATUS','NAME_HOUSING_TYPE'])"
   ]
  },
  {
   "cell_type": "code",
   "execution_count": 34,
   "id": "0c8d9651",
   "metadata": {},
   "outputs": [
    {
     "name": "stdout",
     "output_type": "stream",
     "text": [
      "<class 'pandas.core.frame.DataFrame'>\n",
      "Int64Index: 307507 entries, 0 to 307510\n",
      "Data columns (total 70 columns):\n",
      " #   Column                       Non-Null Count   Dtype  \n",
      "---  ------                       --------------   -----  \n",
      " 0   SK_ID_CURR                   307507 non-null  int64  \n",
      " 1   TARGET                       307507 non-null  int64  \n",
      " 2   FLAG_OWN_CAR                 307507 non-null  int64  \n",
      " 3   FLAG_OWN_REALTY              307507 non-null  int64  \n",
      " 4   CNT_CHILDREN                 307507 non-null  int64  \n",
      " 5   AMT_INCOME_TOTAL             307507 non-null  float64\n",
      " 6   AMT_CREDIT                   307507 non-null  float64\n",
      " 7   AMT_ANNUITY                  307507 non-null  float64\n",
      " 8   AMT_GOODS_PRICE              307507 non-null  float64\n",
      " 9   NAME_EDUCATION_TYPE          307507 non-null  int64  \n",
      " 10  REGION_POPULATION_RELATIVE   307507 non-null  float64\n",
      " 11  DAYS_BIRTH                   307507 non-null  int64  \n",
      " 12  DAYS_EMPLOYED                307507 non-null  int64  \n",
      " 13  DAYS_REGISTRATION            307507 non-null  float64\n",
      " 14  DAYS_ID_PUBLISH              307507 non-null  int64  \n",
      " 15  FLAG_MOBIL                   307507 non-null  int64  \n",
      " 16  FLAG_EMP_PHONE               307507 non-null  int64  \n",
      " 17  FLAG_WORK_PHONE              307507 non-null  int64  \n",
      " 18  FLAG_CONT_MOBILE             307507 non-null  int64  \n",
      " 19  FLAG_PHONE                   307507 non-null  int64  \n",
      " 20  FLAG_EMAIL                   307507 non-null  int64  \n",
      " 21  CNT_FAM_MEMBERS              307507 non-null  float64\n",
      " 22  REGION_RATING_CLIENT         307507 non-null  int64  \n",
      " 23  REGION_RATING_CLIENT_W_CITY  307507 non-null  int64  \n",
      " 24  HOUR_APPR_PROCESS_START      307507 non-null  int64  \n",
      " 25  REG_REGION_NOT_LIVE_REGION   307507 non-null  int64  \n",
      " 26  REG_REGION_NOT_WORK_REGION   307507 non-null  int64  \n",
      " 27  LIVE_REGION_NOT_WORK_REGION  307507 non-null  int64  \n",
      " 28  REG_CITY_NOT_LIVE_CITY       307507 non-null  int64  \n",
      " 29  REG_CITY_NOT_WORK_CITY       307507 non-null  int64  \n",
      " 30  LIVE_CITY_NOT_WORK_CITY      307507 non-null  int64  \n",
      " 31  EXT_SOURCE_2                 307507 non-null  float64\n",
      " 32  OBS_30_CNT_SOCIAL_CIRCLE     307507 non-null  float64\n",
      " 33  DEF_30_CNT_SOCIAL_CIRCLE     307507 non-null  float64\n",
      " 34  OBS_60_CNT_SOCIAL_CIRCLE     307507 non-null  float64\n",
      " 35  DEF_60_CNT_SOCIAL_CIRCLE     307507 non-null  float64\n",
      " 36  DAYS_LAST_PHONE_CHANGE       307507 non-null  float64\n",
      " 37  FLAG_DOCUMENT_2              307507 non-null  int64  \n",
      " 38  FLAG_DOCUMENT_3              307507 non-null  int64  \n",
      " 39  FLAG_DOCUMENT_4              307507 non-null  int64  \n",
      " 40  FLAG_DOCUMENT_5              307507 non-null  int64  \n",
      " 41  FLAG_DOCUMENT_6              307507 non-null  int64  \n",
      " 42  FLAG_DOCUMENT_7              307507 non-null  int64  \n",
      " 43  FLAG_DOCUMENT_8              307507 non-null  int64  \n",
      " 44  FLAG_DOCUMENT_9              307507 non-null  int64  \n",
      " 45  FLAG_DOCUMENT_10             307507 non-null  int64  \n",
      " 46  FLAG_DOCUMENT_11             307507 non-null  int64  \n",
      " 47  FLAG_DOCUMENT_12             307507 non-null  int64  \n",
      " 48  FLAG_DOCUMENT_13             307507 non-null  int64  \n",
      " 49  FLAG_DOCUMENT_14             307507 non-null  int64  \n",
      " 50  FLAG_DOCUMENT_15             307507 non-null  int64  \n",
      " 51  FLAG_DOCUMENT_16             307507 non-null  int64  \n",
      " 52  FLAG_DOCUMENT_17             307507 non-null  int64  \n",
      " 53  FLAG_DOCUMENT_18             307507 non-null  int64  \n",
      " 54  FLAG_DOCUMENT_19             307507 non-null  int64  \n",
      " 55  FLAG_DOCUMENT_20             307507 non-null  int64  \n",
      " 56  FLAG_DOCUMENT_21             307507 non-null  int64  \n",
      " 57  AMT_REQ_CREDIT_BUREAU_HOUR   307507 non-null  float64\n",
      " 58  AMT_REQ_CREDIT_BUREAU_DAY    307507 non-null  float64\n",
      " 59  AMT_REQ_CREDIT_BUREAU_WEEK   307507 non-null  float64\n",
      " 60  AMT_REQ_CREDIT_BUREAU_MON    307507 non-null  float64\n",
      " 61  AMT_REQ_CREDIT_BUREAU_QRT    307507 non-null  float64\n",
      " 62  AMT_REQ_CREDIT_BUREAU_YEAR   307507 non-null  float64\n",
      " 63  FLAG_CASH_LOANS              307507 non-null  int64  \n",
      " 64  GENDER                       307507 non-null  int64  \n",
      " 65  Others income type           307507 non-null  int64  \n",
      " 66  Unemployed                   307507 non-null  int64  \n",
      " 67  FLAG_WIDOW                   307507 non-null  int64  \n",
      " 68  Rented apartment             307507 non-null  int64  \n",
      " 69  With parents                 307507 non-null  int64  \n",
      "dtypes: float64(19), int64(51)\n",
      "memory usage: 166.6 MB\n"
     ]
    }
   ],
   "source": [
    "client_df2.info()"
   ]
  },
  {
   "cell_type": "code",
   "execution_count": 33,
   "id": "0f39c351",
   "metadata": {},
   "outputs": [],
   "source": [
    "client_df2['Others income type']=client_df2['Others income type'].astype('int')\n",
    "client_df2['Unemployed']=client_df2['Unemployed'].astype('int')\n",
    "client_df2['Rented apartment']=client_df2['Rented apartment'].astype('int')\n",
    "client_df2['With parents']=client_df2['With parents'].astype('int')"
   ]
  },
  {
   "cell_type": "markdown",
   "id": "f320812b",
   "metadata": {},
   "source": [
    "Split data into train and test data and build a baseline model"
   ]
  },
  {
   "cell_type": "code",
   "execution_count": 35,
   "id": "1ed2fe42",
   "metadata": {},
   "outputs": [],
   "source": [
    "from sklearn.linear_model import LogisticRegression\n",
    "from sklearn.model_selection import train_test_split"
   ]
  },
  {
   "cell_type": "code",
   "execution_count": 36,
   "id": "3a6f724e",
   "metadata": {},
   "outputs": [],
   "source": [
    "X=client_df2.drop(columns=['TARGET'])\n",
    "Y=client_df2['TARGET']"
   ]
  },
  {
   "cell_type": "code",
   "execution_count": 37,
   "id": "59924d04",
   "metadata": {},
   "outputs": [],
   "source": [
    "X_train,X_test,Y_train,Y_test=train_test_split(X,Y,test_size=0.2,random_state=222)"
   ]
  },
  {
   "cell_type": "code",
   "execution_count": 38,
   "id": "ca3a5f83",
   "metadata": {},
   "outputs": [],
   "source": [
    "logit=LogisticRegression(max_iter=100000)\n",
    "logit.fit(X_train,Y_train)\n",
    "logit_pred=logit.predict(X_test)"
   ]
  },
  {
   "cell_type": "code",
   "execution_count": 39,
   "id": "6448d153",
   "metadata": {},
   "outputs": [],
   "source": [
    "def accuracy(actuals, preds):\n",
    "    return np.mean(actuals == preds)\n",
    "\n",
    "def precision(actuals, preds):\n",
    "    tp = np.sum((actuals == 1) & (preds == 1))\n",
    "    fp = np.sum((actuals == 0) & (preds == 1))\n",
    "    return tp / (tp + fp)\n",
    "\n",
    "def recall(actuals, preds):\n",
    "    tp = np.sum((actuals == 1) & (preds == 1))\n",
    "    fn = np.sum((actuals == 1) & (preds == 0))\n",
    "    return tp / (tp + fn)\n",
    "\n",
    "def F1(actuals, preds):\n",
    "    p, r = precision(actuals, preds), recall(actuals, preds)\n",
    "    return 2*p*r / (p + r)"
   ]
  },
  {
   "cell_type": "code",
   "execution_count": 40,
   "id": "6115e271",
   "metadata": {
    "scrolled": true
   },
   "outputs": [
    {
     "name": "stdout",
     "output_type": "stream",
     "text": [
      "accuracy:  0.9179213684107834\n",
      "precision:  nan\n",
      "recall:  0.0\n",
      "F1:  nan\n"
     ]
    },
    {
     "name": "stderr",
     "output_type": "stream",
     "text": [
      "/var/folders/qh/f_xd4_hs7jq5186tyc9v3gdm0000gn/T/ipykernel_40595/3466243424.py:7: RuntimeWarning: invalid value encountered in long_scalars\n",
      "  return tp / (tp + fp)\n"
     ]
    }
   ],
   "source": [
    "print(\"accuracy: \",accuracy(Y_test, logit_pred))\n",
    "print(\"precision: \",precision(Y_test, logit_pred))\n",
    "print(\"recall: \",recall(Y_test, logit_pred))\n",
    "print(\"F1: \", F1(Y_test,logit_pred))"
   ]
  },
  {
   "cell_type": "code",
   "execution_count": 41,
   "id": "ec519613",
   "metadata": {},
   "outputs": [
    {
     "data": {
      "text/plain": [
       "array([], dtype=int64)"
      ]
     },
     "execution_count": 41,
     "metadata": {},
     "output_type": "execute_result"
    }
   ],
   "source": [
    "logit_pred[logit_pred==1]"
   ]
  },
  {
   "cell_type": "code",
   "execution_count": 43,
   "id": "c00053b6",
   "metadata": {},
   "outputs": [],
   "source": [
    "from sklearn.ensemble import RandomForestClassifier\n",
    "\n",
    "rforest = RandomForestClassifier(random_state=42)"
   ]
  },
  {
   "cell_type": "code",
   "execution_count": 44,
   "id": "6a2a1e56",
   "metadata": {},
   "outputs": [],
   "source": [
    "rforest.fit(X_train,Y_train)\n",
    "rforest_pred=rforest.predict(X_test)"
   ]
  },
  {
   "cell_type": "code",
   "execution_count": 45,
   "id": "f9d31028",
   "metadata": {},
   "outputs": [
    {
     "name": "stdout",
     "output_type": "stream",
     "text": [
      "accuracy:  0.9179376280446164\n",
      "precision:  0.6\n",
      "recall:  0.0005942947702060222\n",
      "F1:  0.001187413417771621\n"
     ]
    }
   ],
   "source": [
    "print(\"accuracy: \",accuracy(Y_test, rforest_pred))\n",
    "print(\"precision: \",precision(Y_test, rforest_pred))\n",
    "print(\"recall: \",recall(Y_test, rforest_pred))\n",
    "print(\"F1: \", F1(Y_test,rforest_pred))"
   ]
  },
  {
   "cell_type": "code",
   "execution_count": 46,
   "id": "365051e1",
   "metadata": {},
   "outputs": [
    {
     "data": {
      "text/plain": [
       "array([1, 1, 1, 1, 1])"
      ]
     },
     "execution_count": 46,
     "metadata": {},
     "output_type": "execute_result"
    }
   ],
   "source": [
    "rforest_pred[rforest_pred==1]"
   ]
  },
  {
   "cell_type": "markdown",
   "id": "1f364fc0",
   "metadata": {},
   "source": [
    "Since all model returns prediction of zero, I guess this is the result of destructive imbalance. I would first try to down-sample my train data set. keep 15,000 default clients and 15,000 good clients and retrain the model."
   ]
  },
  {
   "cell_type": "markdown",
   "id": "49f38608",
   "metadata": {},
   "source": [
    "## This is trying down-sampling"
   ]
  },
  {
   "cell_type": "code",
   "execution_count": 47,
   "id": "26324f37",
   "metadata": {},
   "outputs": [
    {
     "data": {
      "text/plain": [
       "(246005, 70)"
      ]
     },
     "execution_count": 47,
     "metadata": {},
     "output_type": "execute_result"
    }
   ],
   "source": [
    "train_df=pd.concat([X_train,Y_train],axis=1)\n",
    "train_df.shape"
   ]
  },
  {
   "cell_type": "code",
   "execution_count": 48,
   "id": "1b504a77",
   "metadata": {},
   "outputs": [],
   "source": [
    "train_df_resample1=train_df[train_df.TARGET==1].sample(15000)\n",
    "train_df_resample0=train_df[train_df.TARGET==0].sample(15000)"
   ]
  },
  {
   "cell_type": "code",
   "execution_count": 49,
   "id": "dc47aa6b",
   "metadata": {},
   "outputs": [],
   "source": [
    "train_df_resample=pd.concat([train_df_resample1,train_df_resample0],axis=0)"
   ]
  },
  {
   "cell_type": "code",
   "execution_count": 50,
   "id": "ff8ad09e",
   "metadata": {},
   "outputs": [
    {
     "data": {
      "text/plain": [
       "(30000, 70)"
      ]
     },
     "execution_count": 50,
     "metadata": {},
     "output_type": "execute_result"
    }
   ],
   "source": [
    "train_df_resample.shape"
   ]
  },
  {
   "cell_type": "code",
   "execution_count": 51,
   "id": "0dc70605",
   "metadata": {},
   "outputs": [],
   "source": [
    "X_re=train_df_resample.drop(columns=['TARGET'])\n",
    "Y_re=train_df_resample['TARGET']"
   ]
  },
  {
   "cell_type": "code",
   "execution_count": 52,
   "id": "352c66fe",
   "metadata": {},
   "outputs": [],
   "source": [
    "logit=LogisticRegression(max_iter=100000)\n",
    "logit.fit(X_re,Y_re)\n",
    "logit_pred=logit.predict(X_test)"
   ]
  },
  {
   "cell_type": "code",
   "execution_count": 53,
   "id": "7b9614be",
   "metadata": {},
   "outputs": [
    {
     "name": "stdout",
     "output_type": "stream",
     "text": [
      "accuracy:  0.5965497057006276\n",
      "precision:  0.11283055827619981\n",
      "recall:  0.5705229793977813\n",
      "F1:  0.18840153076243746\n"
     ]
    }
   ],
   "source": [
    "print(\"accuracy: \",accuracy(Y_test, logit_pred))\n",
    "print(\"precision: \",precision(Y_test, logit_pred))\n",
    "print(\"recall: \",recall(Y_test, logit_pred))\n",
    "print(\"F1: \", F1(Y_test,logit_pred))"
   ]
  },
  {
   "cell_type": "code",
   "execution_count": 54,
   "id": "03b1ece5",
   "metadata": {},
   "outputs": [],
   "source": [
    "rforest.fit(X_re,Y_re)\n",
    "rforest_pred=rforest.predict(X_test)"
   ]
  },
  {
   "cell_type": "code",
   "execution_count": 55,
   "id": "3b2ed499",
   "metadata": {},
   "outputs": [
    {
     "name": "stdout",
     "output_type": "stream",
     "text": [
      "accuracy:  0.6721082241227928\n",
      "precision:  0.14528390427029564\n",
      "recall:  0.6133122028526149\n",
      "F1:  0.23491918961984976\n"
     ]
    }
   ],
   "source": [
    "print(\"accuracy: \",accuracy(Y_test, rforest_pred))\n",
    "print(\"precision: \",precision(Y_test, rforest_pred))\n",
    "print(\"recall: \",recall(Y_test, rforest_pred))\n",
    "print(\"F1: \", F1(Y_test,rforest_pred))"
   ]
  },
  {
   "cell_type": "markdown",
   "id": "c783e474",
   "metadata": {},
   "source": [
    "## This is to try oversampling"
   ]
  },
  {
   "cell_type": "code",
   "execution_count": 56,
   "id": "243f0b1b",
   "metadata": {},
   "outputs": [],
   "source": [
    "from imblearn.over_sampling import SMOTE\n",
    "\n",
    "# Oversample using SMOTE\n",
    "sm = SMOTE(random_state=42)\n",
    "X_train_smote, Y_train_smote = sm.fit_resample(X_train, Y_train)"
   ]
  },
  {
   "cell_type": "code",
   "execution_count": 57,
   "id": "9a0eb704",
   "metadata": {},
   "outputs": [],
   "source": [
    "logit=LogisticRegression(max_iter=100000)\n",
    "logit.fit(X_train_smote,Y_train_smote)\n",
    "logit_fit=logit.predict(X_train_smote)\n",
    "logit_pred=logit.predict(X_test)"
   ]
  },
  {
   "cell_type": "code",
   "execution_count": 58,
   "id": "d2fd7cc6",
   "metadata": {},
   "outputs": [
    {
     "name": "stdout",
     "output_type": "stream",
     "text": [
      "accuracy:  0.5933140385678515\n",
      "precision:  0.11307078068067292\n",
      "recall:  0.5778526148969889\n",
      "F1:  0.18913311288335602\n"
     ]
    }
   ],
   "source": [
    "print(\"accuracy: \",accuracy(Y_test, logit_pred))\n",
    "print(\"precision: \",precision(Y_test, logit_pred))\n",
    "print(\"recall: \",recall(Y_test, logit_pred))\n",
    "print(\"F1: \", F1(Y_test,logit_pred))"
   ]
  },
  {
   "cell_type": "code",
   "execution_count": 59,
   "id": "2fe645dd",
   "metadata": {},
   "outputs": [
    {
     "name": "stdout",
     "output_type": "stream",
     "text": [
      "accuracy:  0.5800276711989674\n",
      "precision:  0.5830607385521661\n",
      "recall:  0.5617695422317308\n",
      "F1:  0.5722171568792985\n"
     ]
    }
   ],
   "source": [
    "print(\"accuracy: \",accuracy(Y_train_smote, logit_fit))\n",
    "print(\"precision: \",precision(Y_train_smote, logit_fit))\n",
    "print(\"recall: \",recall(Y_train_smote, logit_fit))\n",
    "print(\"F1: \", F1(Y_train_smote,logit_fit))"
   ]
  },
  {
   "cell_type": "code",
   "execution_count": 60,
   "id": "9483da4d",
   "metadata": {},
   "outputs": [
    {
     "name": "stdout",
     "output_type": "stream",
     "text": [
      "logistic regression confusion matrix - In Sample: \n",
      " \n",
      " [[135349  90879]\n",
      " [ 99140 127088]]\n"
     ]
    }
   ],
   "source": [
    "from sklearn.metrics import confusion_matrix\n",
    "print(\"logistic regression confusion matrix - In Sample: \\n \\n\", confusion_matrix(Y_train_smote,logit_fit))"
   ]
  },
  {
   "cell_type": "code",
   "execution_count": 61,
   "id": "7c26b1e2",
   "metadata": {},
   "outputs": [
    {
     "name": "stdout",
     "output_type": "stream",
     "text": [
      "logistic regression confusion matrix - Out of Sample: \n",
      " \n",
      " [[33573 22881]\n",
      " [ 2131  2917]]\n"
     ]
    }
   ],
   "source": [
    "print(\"logistic regression confusion matrix - Out of Sample: \\n \\n\", confusion_matrix(Y_test,logit_pred))"
   ]
  },
  {
   "cell_type": "code",
   "execution_count": null,
   "id": "9d231e9c",
   "metadata": {},
   "outputs": [],
   "source": []
  }
 ],
 "metadata": {
  "kernelspec": {
   "display_name": "Python 3 (ipykernel)",
   "language": "python",
   "name": "python3"
  },
  "language_info": {
   "codemirror_mode": {
    "name": "ipython",
    "version": 3
   },
   "file_extension": ".py",
   "mimetype": "text/x-python",
   "name": "python",
   "nbconvert_exporter": "python",
   "pygments_lexer": "ipython3",
   "version": "3.9.7"
  }
 },
 "nbformat": 4,
 "nbformat_minor": 5
}
